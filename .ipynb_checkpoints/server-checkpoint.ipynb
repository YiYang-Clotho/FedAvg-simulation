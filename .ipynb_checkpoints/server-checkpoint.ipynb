{
 "cells": [
  {
   "cell_type": "markdown",
   "id": "37ed6969",
   "metadata": {},
   "source": [
    "# Server"
   ]
  },
  {
   "cell_type": "markdown",
   "id": "8de770af",
   "metadata": {},
   "source": [
    "## Setting variables"
   ]
  },
  {
   "cell_type": "code",
   "execution_count": 1,
   "id": "d99f6019",
   "metadata": {},
   "outputs": [],
   "source": [
    "rounds = 100\n",
    "num_users = 10 # number of clients\n",
    "target_test_acc = 0.99\n",
    "lrs = [0.1]\n",
    "\n",
    "C = 1\n",
    "E = 5\n",
    "B = 10 # 'all' for a single minibatch"
   ]
  },
  {
   "cell_type": "code",
   "execution_count": 2,
   "id": "75ecf253",
   "metadata": {},
   "outputs": [
    {
     "name": "stderr",
     "output_type": "stream",
     "text": [
      "2023-05-09 11:20:11.124558: I tensorflow/core/platform/cpu_feature_guard.cc:182] This TensorFlow binary is optimized to use available CPU instructions in performance-critical operations.\n",
      "To enable the following instructions: AVX2 FMA, in other operations, rebuild TensorFlow with the appropriate compiler flags.\n",
      "2023-05-09 11:20:12.049216: W tensorflow/compiler/tf2tensorrt/utils/py_utils.cc:38] TF-TRT Warning: Could not find TensorRT\n"
     ]
    }
   ],
   "source": [
    "import os\n",
    "\n",
    "import socket\n",
    "import struct\n",
    "import pickle\n",
    "import sys\n",
    "\n",
    "from threading import Thread\n",
    "from threading import Lock\n",
    "\n",
    "import copy\n",
    "\n",
    "import logging\n",
    "import math\n",
    "import random\n",
    "import re\n",
    "import time\n",
    "import matplotlib.pyplot as plt\n",
    "import numpy as np\n",
    "import tensorflow as tf\n",
    "from datetime import timedelta\n",
    "from keras import backend as K\n",
    "from sklearn.metrics import accuracy_score\n",
    "from sklearn.preprocessing import LabelBinarizer\n",
    "from tensorflow import keras\n",
    "from tensorflow.keras.models import Sequential\n",
    "from tensorflow.keras.layers import Activation\n",
    "from tensorflow.keras.layers import Conv2D\n",
    "from tensorflow.keras.layers import Dense\n",
    "from tensorflow.keras.layers import MaxPooling2D\n",
    "from tensorflow.keras.layers import Flatten\n",
    "from tensorflow.keras.optimizers import SGD\n",
    "from tqdm import tqdm\n",
    "tf.get_logger().setLevel(logging.ERROR)"
   ]
  },
  {
   "cell_type": "markdown",
   "id": "31e026b7",
   "metadata": {},
   "source": [
    "## Device"
   ]
  },
  {
   "cell_type": "code",
   "execution_count": 3,
   "id": "ca54d616",
   "metadata": {},
   "outputs": [],
   "source": [
    "# if tf.test.gpu_device_name():\n",
    "#     device = \"gpu\"\n",
    "# else:\n",
    "#     device = \"cpu\"\n",
    "\n",
    "# print(device)"
   ]
  },
  {
   "cell_type": "markdown",
   "id": "20256a47",
   "metadata": {},
   "source": [
    "## Model"
   ]
  },
  {
   "cell_type": "markdown",
   "id": "ab65c69a",
   "metadata": {},
   "source": [
    "A CNN with two 5x5 convolution layers (the first with 32 channels, the second with 64, each followed with 2x2 max pooling), a fully connected layer with 512 units and ReLu activation, and a final softmax output layer (1,663,370 total parameters)"
   ]
  },
  {
   "cell_type": "code",
   "execution_count": 4,
   "id": "95101fbe",
   "metadata": {},
   "outputs": [],
   "source": [
    "class CNN:\n",
    "    @staticmethod\n",
    "    def build(input_shape):\n",
    "        model = Sequential()\n",
    "        model.add(Conv2D(filters=32, kernel_size=(5,5), padding='same', activation='relu', input_shape=input_shape))\n",
    "        model.add(MaxPooling2D(pool_size=(2, 2)))\n",
    "        model.add(Conv2D(filters=64, padding='same', kernel_size=(5,5), activation='relu'))\n",
    "        model.add(MaxPooling2D(pool_size=(2, 2)))\n",
    "        model.add(Flatten())\n",
    "        model.add(Dense(512, activation='relu'))\n",
    "        model.add(Dense(10, activation='softmax'))\n",
    "        return model"
   ]
  },
  {
   "cell_type": "markdown",
   "id": "5ed60a1e",
   "metadata": {},
   "source": [
    "initialize global model"
   ]
  },
  {
   "cell_type": "code",
   "execution_count": 5,
   "id": "3f4a3388",
   "metadata": {},
   "outputs": [
    {
     "name": "stdout",
     "output_type": "stream",
     "text": [
      "Model: \"sequential\"\n",
      "_________________________________________________________________\n",
      " Layer (type)                Output Shape              Param #   \n",
      "=================================================================\n",
      " conv2d (Conv2D)             (None, 28, 28, 32)        832       \n",
      "                                                                 \n",
      " max_pooling2d (MaxPooling2D  (None, 14, 14, 32)       0         \n",
      " )                                                               \n",
      "                                                                 \n",
      " conv2d_1 (Conv2D)           (None, 14, 14, 64)        51264     \n",
      "                                                                 \n",
      " max_pooling2d_1 (MaxPooling  (None, 7, 7, 64)         0         \n",
      " 2D)                                                             \n",
      "                                                                 \n",
      " flatten (Flatten)           (None, 3136)              0         \n",
      "                                                                 \n",
      " dense (Dense)               (None, 512)               1606144   \n",
      "                                                                 \n",
      " dense_1 (Dense)             (None, 10)                5130      \n",
      "                                                                 \n",
      "=================================================================\n",
      "Total params: 1,663,370\n",
      "Trainable params: 1,663,370\n",
      "Non-trainable params: 0\n",
      "_________________________________________________________________\n"
     ]
    },
    {
     "name": "stderr",
     "output_type": "stream",
     "text": [
      "2023-05-09 11:20:13.879992: E tensorflow/compiler/xla/stream_executor/cuda/cuda_driver.cc:266] failed call to cuInit: CUDA_ERROR_NO_DEVICE: no CUDA-capable device is detected\n"
     ]
    }
   ],
   "source": [
    "\n",
    "model = CNN()\n",
    "global_model = model.build((28,28,1))\n",
    "initial_weights = global_model.get_weights()\n",
    "\n",
    "# restart the model from the folder\n",
    "# global_model = tf.keras.models.load_model('global_model.h5')\n",
    "# initial_weights = global_model.get_weights()\n",
    "\n",
    "global_model.summary()"
   ]
  },
  {
   "cell_type": "code",
   "execution_count": 6,
   "id": "351058de",
   "metadata": {},
   "outputs": [],
   "source": [
    "# global_model.save('global_model.h5')"
   ]
  },
  {
   "cell_type": "markdown",
   "id": "674c7d2c",
   "metadata": {},
   "source": [
    "# Load data"
   ]
  },
  {
   "cell_type": "code",
   "execution_count": 7,
   "id": "2741eeab",
   "metadata": {},
   "outputs": [],
   "source": [
    "mnist = tf.keras.datasets.mnist\n",
    "(X_train, y_train), (X_test, y_test) = mnist.load_data()"
   ]
  },
  {
   "cell_type": "code",
   "execution_count": 8,
   "id": "3271172e",
   "metadata": {},
   "outputs": [
    {
     "name": "stdout",
     "output_type": "stream",
     "text": [
      "x_train shape: (60000, 28, 28, 1)\n",
      "60000 train samples\n",
      "10000 test samples\n"
     ]
    }
   ],
   "source": [
    "X_train = X_train.astype(\"float32\")/255\n",
    "X_test = X_test.astype(\"float32\")/255\n",
    "X_train = np.expand_dims(X_train, -1)\n",
    "X_test = np.expand_dims(X_test, -1)\n",
    "y_train = keras.utils.to_categorical(y_train, 10)\n",
    "y_test = keras.utils.to_categorical(y_test, 10)\n",
    "\n",
    "print(\"x_train shape:\", X_train.shape)\n",
    "print(X_train.shape[0], \"train samples\")\n",
    "print(X_test.shape[0], \"test samples\")"
   ]
  },
  {
   "cell_type": "code",
   "execution_count": 9,
   "id": "08866f4a",
   "metadata": {},
   "outputs": [],
   "source": [
    "train_batched = tf.data.Dataset.from_tensor_slices((X_train, y_train)).batch(len(y_train)) # for testing on train set\n",
    "test_batched = tf.data.Dataset.from_tensor_slices((X_test, y_test)).batch(len(y_test))"
   ]
  },
  {
   "cell_type": "markdown",
   "id": "1386ff9e",
   "metadata": {},
   "source": [
    "## variables"
   ]
  },
  {
   "cell_type": "code",
   "execution_count": 10,
   "id": "e9b946d1",
   "metadata": {},
   "outputs": [],
   "source": [
    "global global_weights    \n",
    "\n",
    "clientsoclist = [0]*num_users\n",
    "\n",
    "start_time = 0\n",
    "weight_count = 0\n",
    "\n",
    "global_weights = initial_weights\n",
    "weights_list = {}\n",
    "\n",
    "lock = Lock()"
   ]
  },
  {
   "cell_type": "markdown",
   "id": "329d2aa8",
   "metadata": {},
   "source": [
    "## Socket initialization\n",
    "### Set host address and port number"
   ]
  },
  {
   "cell_type": "markdown",
   "id": "9cf47e0c",
   "metadata": {},
   "source": [
    "### Required socket functions"
   ]
  },
  {
   "cell_type": "code",
   "execution_count": 11,
   "id": "5bdef5c9",
   "metadata": {},
   "outputs": [],
   "source": [
    "def send_msg(sock, msg):\n",
    "    # prefix each message with a 4-byte length in network byte order\n",
    "    msg = pickle.dumps(msg)\n",
    "    l_send = len(msg)\n",
    "    msg = struct.pack('>I', l_send) + msg\n",
    "    sock.sendall(msg)\n",
    "    return l_send\n",
    "\n",
    "def recv_msg(sock):\n",
    "    # read message length and unpack it into an integer\n",
    "    raw_msglen = recvall(sock, 4)\n",
    "    if not raw_msglen:\n",
    "        return None\n",
    "    msglen = struct.unpack('>I', raw_msglen)[0]\n",
    "    # read the message data\n",
    "    msg =  recvall(sock, msglen)\n",
    "    msg = pickle.loads(msg)\n",
    "    return msg\n",
    "\n",
    "def recvall(sock, n):\n",
    "    # helper function to receive n bytes or return None if EOF is hit\n",
    "    data = b''\n",
    "    while len(data) < n:\n",
    "        packet = sock.recv(n - len(data))\n",
    "        if not packet:\n",
    "            return None\n",
    "        data += packet\n",
    "    return data"
   ]
  },
  {
   "cell_type": "code",
   "execution_count": 12,
   "id": "85d51008",
   "metadata": {},
   "outputs": [],
   "source": [
    "def average_weights(weights_list):\n",
    "    avg_weights = list()\n",
    "    for j in range(len(global_weights)):\n",
    "        weights = [weights_list[k][j] for k in range(num_users)]\n",
    "        layer_mean = tf.math.reduce_mean(weights, axis=0)\n",
    "        avg_weights.append(layer_mean)\n",
    "        \n",
    "    return avg_weights"
   ]
  },
  {
   "cell_type": "markdown",
   "id": "b78fdb23",
   "metadata": {},
   "source": [
    "## Receive users for aggregation"
   ]
  },
  {
   "cell_type": "code",
   "execution_count": 13,
   "id": "76b5c77f",
   "metadata": {},
   "outputs": [],
   "source": [
    "def receive(userid, r, num_users, conn): #thread for receive clients\n",
    "    global weight_count\n",
    "    global global_weights\n",
    "    global weights_list\n",
    "    \n",
    "    msg = {\n",
    "        'current_round': r,\n",
    "        'rounds': rounds,\n",
    "        'client_id': userid,\n",
    "        'weight': global_weights\n",
    "    }\n",
    "    distribute = send_msg(conn, msg)    #send global weight\n",
    "    receive = recv_msg(conn)    # get weights from clients\n",
    "    with lock:\n",
    "        weights_list[userid] = receive['weight']\n",
    "        if receive['current_round'] == r:\n",
    "            weight_count += 1\n",
    "        \n",
    "        if weight_count == num_users:\n",
    "            global_weights = average_weights(weights_list)\n",
    "            weight_count = 0"
   ]
  },
  {
   "cell_type": "markdown",
   "id": "246b60e7",
   "metadata": {},
   "source": [
    "## Thread define"
   ]
  },
  {
   "cell_type": "code",
   "execution_count": 14,
   "id": "0c48a927",
   "metadata": {},
   "outputs": [],
   "source": [
    "def run_thread(func, num_user, r):\n",
    "    global clientsoclist\n",
    "    global start_time\n",
    "    \n",
    "    thrs = []\n",
    "    print(\"timer start!\")\n",
    "    start_time = time.time()    # store start time\n",
    "    for i in range(num_user):\n",
    "        conn, addr = s.accept()\n",
    "        print('Conntected with', addr)\n",
    "        # append client socket on list\n",
    "        clientsoclist[i] = conn\n",
    "        args = (i, r, num_user, conn)\n",
    "        thread = Thread(target=func, args=args)\n",
    "        thrs.append(thread)\n",
    "        thread.start()\n",
    "    for thread in thrs:\n",
    "        thread.join()\n",
    "    end_time = time.time()  # store end time\n",
    "    print(\"TrainingTime: {} sec\".format(end_time - start_time))"
   ]
  },
  {
   "cell_type": "code",
   "execution_count": 15,
   "id": "16a79683",
   "metadata": {
    "scrolled": true
   },
   "outputs": [
    {
     "name": "stdout",
     "output_type": "stream",
     "text": [
      "172.31.26.96\n"
     ]
    }
   ],
   "source": [
    "host_name = socket.gethostbyname(socket.gethostname())\n",
    "# host_name = '172.31.2.147' 172.31.24.39\n",
    "port_number = 12345\n",
    "print(host_name)"
   ]
  },
  {
   "cell_type": "code",
   "execution_count": 16,
   "id": "f02bf287",
   "metadata": {},
   "outputs": [
    {
     "name": "stdout",
     "output_type": "stream",
     "text": [
      "172.31.26.96\n"
     ]
    }
   ],
   "source": [
    "print(host_name)"
   ]
  },
  {
   "cell_type": "markdown",
   "id": "826c433d",
   "metadata": {},
   "source": [
    "### Open the server socket"
   ]
  },
  {
   "cell_type": "code",
   "execution_count": 17,
   "id": "549e34a8",
   "metadata": {},
   "outputs": [],
   "source": [
    "s = socket.socket()\n",
    "s.bind((host_name, port_number))\n",
    "s.listen(10)"
   ]
  },
  {
   "cell_type": "markdown",
   "id": "0136545a",
   "metadata": {},
   "source": [
    "## Comunication overhead"
   ]
  },
  {
   "cell_type": "code",
   "execution_count": 18,
   "id": "495b15e9",
   "metadata": {
    "scrolled": false
   },
   "outputs": [
    {
     "name": "stdout",
     "output_type": "stream",
     "text": [
      "\n",
      "learning rate: 0.1\n",
      "timer start!\n",
      "Conntected with ('172.31.26.96', 52646)\n",
      "Conntected with ('172.31.26.96', 52648)\n",
      "Conntected with ('172.31.24.39', 51820)\n",
      "Conntected with ('172.31.26.38', 36472)\n",
      "Conntected with ('172.31.26.38', 36488)\n",
      "Conntected with ('172.31.26.38', 36494)\n",
      "Conntected with ('172.31.23.109', 49102)\n",
      "Conntected with ('172.31.23.109', 49112)\n",
      "Conntected with ('172.31.23.109', 49124)\n",
      "Conntected with ('172.31.24.39', 60300)\n",
      "TrainingTime: 414.73031520843506 sec\n"
     ]
    },
    {
     "name": "stderr",
     "output_type": "stream",
     "text": [
      "2023-05-09 11:27:09.722758: I tensorflow/core/common_runtime/executor.cc:1197] [/device:CPU:0] (DEBUG INFO) Executor start aborting (this does not indicate an error and you can ignore this message): INVALID_ARGUMENT: You must feed a value for placeholder tensor 'Placeholder/_1' with dtype float and shape [60000,10]\n",
      "\t [[{{node Placeholder/_1}}]]\n"
     ]
    },
    {
     "name": "stdout",
     "output_type": "stream",
     "text": [
      "1875/1875 [==============================] - 14s 7ms/step\n",
      "  1/313 [..............................] - ETA: 24s"
     ]
    },
    {
     "name": "stderr",
     "output_type": "stream",
     "text": [
      "2023-05-09 11:27:25.117659: I tensorflow/core/common_runtime/executor.cc:1197] [/device:CPU:0] (DEBUG INFO) Executor start aborting (this does not indicate an error and you can ignore this message): INVALID_ARGUMENT: You must feed a value for placeholder tensor 'Placeholder/_1' with dtype float and shape [10000,10]\n",
      "\t [[{{node Placeholder/_1}}]]\n"
     ]
    },
    {
     "name": "stdout",
     "output_type": "stream",
     "text": [
      "313/313 [==============================] - 2s 7ms/step\n",
      "comm_round: 91/100 | test_acc: 98.800% | test_loss: 0.0375 | train_acc: 99.138% | train_loss: 0.0228 | elapsed: 0:00:18.229596\n",
      "\n",
      "\n",
      "timer start!\n",
      "Conntected with ('172.31.26.96', 33802)\n",
      "Conntected with ('172.31.26.96', 33816)\n",
      "Conntected with ('172.31.26.38', 41496)\n",
      "Conntected with ('172.31.26.38', 41868)\n",
      "Conntected with ('172.31.26.38', 41884)\n",
      "Conntected with ('172.31.23.109', 42526)\n",
      "Conntected with ('172.31.23.109', 56844)\n",
      "Conntected with ('172.31.23.109', 56852)\n",
      "Conntected with ('172.31.24.39', 44024)\n",
      "Conntected with ('172.31.24.39', 43360)\n",
      "TrainingTime: 508.07108092308044 sec\n",
      "1875/1875 [==============================] - 14s 7ms/step\n",
      "313/313 [==============================] - 2s 7ms/step\n",
      "comm_round: 92/100 | test_acc: 98.740% | test_loss: 0.0385 | train_acc: 99.107% | train_loss: 0.0236 | elapsed: 0:00:17.481503\n",
      "\n",
      "\n",
      "timer start!\n",
      "Conntected with ('172.31.26.96', 51926)\n",
      "Conntected with ('172.31.26.96', 51928)\n",
      "Conntected with ('172.31.26.38', 39416)\n",
      "Conntected with ('172.31.26.38', 39428)\n",
      "Conntected with ('172.31.26.38', 39430)\n",
      "Conntected with ('172.31.23.109', 53872)\n",
      "Conntected with ('172.31.23.109', 53888)\n",
      "Conntected with ('172.31.23.109', 53896)\n",
      "Conntected with ('172.31.24.39', 43874)\n",
      "Conntected with ('172.31.24.39', 57332)\n",
      "TrainingTime: 353.84152388572693 sec\n",
      "1875/1875 [==============================] - 14s 8ms/step\n",
      "313/313 [==============================] - 2s 7ms/step\n",
      "comm_round: 93/100 | test_acc: 98.570% | test_loss: 0.0436 | train_acc: 99.008% | train_loss: 0.0282 | elapsed: 0:00:17.820242\n",
      "\n",
      "\n",
      "timer start!\n",
      "Conntected with ('172.31.26.96', 41538)\n",
      "Conntected with ('172.31.26.96', 41550)\n",
      "Conntected with ('172.31.26.38', 35720)\n",
      "Conntected with ('172.31.23.109', 54328)\n",
      "Conntected with ('172.31.26.38', 35732)\n",
      "Conntected with ('172.31.26.38', 35734)\n",
      "Conntected with ('172.31.23.109', 60008)\n",
      "Conntected with ('172.31.23.109', 60016)\n",
      "Conntected with ('172.31.24.39', 39532)\n",
      "Conntected with ('172.31.24.39', 34856)\n",
      "TrainingTime: 503.18501329421997 sec\n",
      "1875/1875 [==============================] - 14s 7ms/step\n",
      "313/313 [==============================] - 2s 8ms/step\n",
      "comm_round: 94/100 | test_acc: 98.650% | test_loss: 0.0405 | train_acc: 98.983% | train_loss: 0.0273 | elapsed: 0:00:17.582771\n",
      "\n",
      "\n",
      "timer start!\n",
      "Conntected with ('172.31.26.96', 36094)\n",
      "Conntected with ('172.31.26.96', 53958)\n",
      "Conntected with ('172.31.23.109', 56620)\n",
      "Conntected with ('172.31.23.109', 47900)\n",
      "Conntected with ('172.31.26.38', 53794)\n",
      "Conntected with ('172.31.26.38', 53808)\n",
      "Conntected with ('172.31.26.38', 53812)\n",
      "Conntected with ('172.31.23.109', 47914)\n",
      "Conntected with ('172.31.24.39', 52228)\n",
      "Conntected with ('172.31.24.39', 58334)\n",
      "TrainingTime: 362.99847531318665 sec\n",
      "1875/1875 [==============================] - 14s 7ms/step\n",
      "313/313 [==============================] - 2s 7ms/step\n",
      "comm_round: 95/100 | test_acc: 98.780% | test_loss: 0.0405 | train_acc: 99.087% | train_loss: 0.0249 | elapsed: 0:00:17.573871\n",
      "\n",
      "\n",
      "timer start!\n",
      "Conntected with ('172.31.26.96', 36208)\n",
      "Conntected with ('172.31.26.96', 36222)\n",
      "Conntected with ('172.31.26.38', 34808)\n",
      "Conntected with ('172.31.23.109', 52934)\n",
      "Conntected with ('172.31.26.38', 36390)\n",
      "Conntected with ('172.31.26.38', 36404)\n",
      "Conntected with ('172.31.23.109', 55590)\n",
      "Conntected with ('172.31.23.109', 55594)\n",
      "Conntected with ('172.31.24.39', 47650)\n",
      "Conntected with ('172.31.24.39', 56516)\n",
      "TrainingTime: 505.31170129776 sec\n",
      "1875/1875 [==============================] - 14s 7ms/step\n",
      "313/313 [==============================] - 2s 7ms/step\n",
      "comm_round: 96/100 | test_acc: 98.600% | test_loss: 0.0437 | train_acc: 98.953% | train_loss: 0.0291 | elapsed: 0:00:17.510704\n",
      "\n",
      "\n",
      "timer start!\n",
      "Conntected with ('172.31.26.96', 35176)\n",
      "Conntected with ('172.31.26.96', 35858)\n",
      "Conntected with ('172.31.26.38', 57104)\n",
      "Conntected with ('172.31.23.109', 47894)\n",
      "Conntected with ('172.31.26.38', 56946)\n",
      "Conntected with ('172.31.23.109', 39614)\n",
      "Conntected with ('172.31.26.38', 56954)\n",
      "Conntected with ('172.31.23.109', 39626)\n",
      "Conntected with ('172.31.24.39', 49700)\n",
      "Conntected with ('172.31.24.39', 58252)\n",
      "TrainingTime: 374.85211873054504 sec\n",
      "1875/1875 [==============================] - 14s 7ms/step\n",
      "313/313 [==============================] - 2s 7ms/step\n",
      "comm_round: 97/100 | test_acc: 98.650% | test_loss: 0.0441 | train_acc: 98.947% | train_loss: 0.0291 | elapsed: 0:00:17.585608\n",
      "\n",
      "\n",
      "timer start!\n",
      "Conntected with ('172.31.26.96', 39242)\n",
      "Conntected with ('172.31.26.96', 39256)\n",
      "Conntected with ('172.31.26.38', 45076)\n",
      "Conntected with ('172.31.23.109', 38694)\n",
      "Conntected with ('172.31.26.38', 45078)\n",
      "Conntected with ('172.31.23.109', 38710)\n",
      "Conntected with ('172.31.26.38', 45080)\n",
      "Conntected with ('172.31.23.109', 38718)\n",
      "Conntected with ('172.31.24.39', 38656)\n",
      "Conntected with ('172.31.24.39', 44112)\n",
      "TrainingTime: 494.100243806839 sec\n",
      "1875/1875 [==============================] - 14s 7ms/step\n",
      "313/313 [==============================] - 2s 7ms/step\n",
      "comm_round: 98/100 | test_acc: 98.780% | test_loss: 0.0412 | train_acc: 99.078% | train_loss: 0.0258 | elapsed: 0:00:17.444684\n",
      "\n",
      "\n",
      "timer start!\n",
      "Conntected with ('172.31.26.96', 38234)\n",
      "Conntected with ('172.31.26.96', 38240)\n",
      "Conntected with ('172.31.26.38', 38344)\n",
      "Conntected with ('172.31.23.109', 44192)\n",
      "Conntected with ('172.31.26.38', 38360)\n",
      "Conntected with ('172.31.23.109', 44204)\n",
      "Conntected with ('172.31.26.38', 38374)\n",
      "Conntected with ('172.31.23.109', 44208)\n",
      "Conntected with ('172.31.24.39', 41178)\n",
      "Conntected with ('172.31.24.39', 54814)\n",
      "TrainingTime: 357.4995164871216 sec\n",
      "1875/1875 [==============================] - 14s 7ms/step\n",
      "313/313 [==============================] - 2s 7ms/step\n",
      "comm_round: 99/100 | test_acc: 98.710% | test_loss: 0.0419 | train_acc: 98.998% | train_loss: 0.0269 | elapsed: 0:00:17.448972\n",
      "\n",
      "\n",
      "timer start!\n",
      "Conntected with ('172.31.26.96', 48178)\n",
      "Conntected with ('172.31.26.96', 58944)\n",
      "Conntected with ('172.31.23.109', 49712)\n",
      "Conntected with ('172.31.26.38', 54234)\n",
      "Conntected with ('172.31.23.109', 49716)\n",
      "Conntected with ('172.31.26.38', 54236)\n",
      "Conntected with ('172.31.26.38', 54238)\n",
      "Conntected with ('172.31.23.109', 39906)\n",
      "Conntected with ('172.31.24.39', 50838)\n",
      "Conntected with ('172.31.24.39', 50958)\n",
      "TrainingTime: 507.26661801338196 sec\n",
      "1875/1875 [==============================] - 14s 7ms/step\n",
      "313/313 [==============================] - 2s 7ms/step\n",
      "comm_round: 100/100 | test_acc: 98.720% | test_loss: 0.0394 | train_acc: 99.113% | train_loss: 0.0237 | elapsed: 0:00:17.643908\n",
      "\n",
      "\n"
     ]
    }
   ],
   "source": [
    "loss='categorical_crossentropy'\n",
    "metrics = ['accuracy']\n",
    "cce = tf.keras.losses.CategoricalCrossentropy()\n",
    "result_per_lr = {}    \n",
    "# with open(dir+'result_per_lr_10_1_5_0.1.pickle', 'rb') as handle:\n",
    "#     result_per_lr = pickle.load(handle)\n",
    "start = time.time()\n",
    "\n",
    "dir = ''\n",
    "    \n",
    "for lr in lrs:\n",
    "#     train_losses = result_per_lr[lr]['train_losses']\n",
    "#     train_accs = result_per_lr[lr]['train_accs']\n",
    "#     test_losses = result_per_lr[lr]['test_losses']\n",
    "#     test_accs = result_per_lr[lr]['test_accs']\n",
    "    \n",
    "    train_losses = []\n",
    "    train_accs = []\n",
    "    test_losses = []\n",
    "    test_accs = []\n",
    "    \n",
    "    print('\\nlearning rate: {}'.format(lr))\n",
    "    \n",
    "    saved_round = 90\n",
    "#     for r in range(saved_round,rounds):\n",
    "    for r in range(rounds):\n",
    "        train_loss = 0\n",
    "        train_acc = 0\n",
    "        test_loss = 0\n",
    "        test_acc = 0\n",
    "        \n",
    "        run_thread(receive, num_users, r)\n",
    "    \n",
    "        # evaluate current round\n",
    "        start = time.time()\n",
    "        global_model.set_weights(global_weights)\n",
    "        \n",
    "        # test global model on full training set\n",
    "        for (X,y) in train_batched:\n",
    "            preds = global_model.predict(X)\n",
    "            train_loss = cce(y, preds)\n",
    "            train_acc = accuracy_score(tf.argmax(preds, axis=1), tf.argmax(y, axis=1))\n",
    "            train_losses.append(train_loss.numpy())\n",
    "            train_accs.append(train_acc)\n",
    "\n",
    "        # test global model on testing set\n",
    "        for(X, y) in test_batched:\n",
    "            preds = global_model.predict(X)\n",
    "            test_loss = cce(y, preds)\n",
    "            test_acc = accuracy_score(tf.argmax(preds, axis=1), tf.argmax(y, axis=1))\n",
    "            test_losses.append(test_loss.numpy())\n",
    "            test_accs.append(test_acc)\n",
    "\n",
    "        elapsed = (time.time() - start)\n",
    "\n",
    "        print('comm_round: {}/{} | test_acc: {:.3%} | test_loss: {:.3} | train_acc: {:.3%} | train_loss: {:.3} | elapsed: {}'.format(r+1, rounds, test_acc, test_loss, train_acc, train_loss, timedelta(seconds=elapsed)))\n",
    "        print('\\n')\n",
    "        global_model.save('global_model.h5')\n",
    "        \n",
    "        result_per_lr[lr] = {\n",
    "            'train_accs' : train_accs,\n",
    "            'test_accs' : test_accs,\n",
    "            'train_losses' : train_losses,\n",
    "            'test_losses' : test_losses\n",
    "                              }\n",
    "        with open(dir+'result_per_lr_{}_{}_{}_{}.pickle'.format(B,C,E, lr), 'wb') as handle:\n",
    "            pickle.dump(result_per_lr, handle, protocol=pickle.HIGHEST_PROTOCOL)\n",
    "    \n",
    "    "
   ]
  },
  {
   "cell_type": "code",
   "execution_count": 53,
   "id": "710c7465",
   "metadata": {},
   "outputs": [],
   "source": [
    "with open(dir+'result_per_lr_{}_{}_{}_{}.pickle'.format(B,C,E, lr), 'wb') as handle:\n",
    "    pickle.dump(result_per_lr, handle, protocol=pickle.HIGHEST_PROTOCOL)"
   ]
  },
  {
   "cell_type": "code",
   "execution_count": 54,
   "id": "40861a17",
   "metadata": {},
   "outputs": [],
   "source": [
    "with open(dir+'result_per_lr_10_1_5_0.1.pickle', 'rb') as handle:\n",
    "    result_per_lr = pickle.load(handle)"
   ]
  },
  {
   "cell_type": "code",
   "execution_count": 57,
   "id": "815fcd4c",
   "metadata": {},
   "outputs": [],
   "source": [
    "def get_plotted_metrics(result_per_lr, rounds):\n",
    "    plotted_train_accs= []\n",
    "    plotted_test_accs = []\n",
    "    plotted_train_losses = []\n",
    "    plotted_test_losses = []\n",
    "\n",
    "    for r in range(rounds):\n",
    "        best_train_acc = 0\n",
    "        best_test_acc = 0\n",
    "        best_train_loss = math.inf\n",
    "        best_test_loss = math.inf\n",
    "        for lr in result_per_lr.keys():\n",
    "            best_train_acc = max(best_train_acc, result_per_lr[lr]['train_accs'][r])\n",
    "            best_test_acc = max(best_test_acc, result_per_lr[lr]['test_accs'][r])\n",
    "            best_train_loss = min(best_train_loss, result_per_lr[lr]['train_losses'][r])\n",
    "            best_test_loss = min(best_test_loss, result_per_lr[lr]['test_losses'][r])\n",
    "\n",
    "    if r == 0:\n",
    "        plotted_train_accs.append(best_train_acc)\n",
    "        plotted_test_accs.append(best_test_acc)\n",
    "        plotted_train_losses.append(best_train_loss)\n",
    "        plotted_test_losses.append(best_test_loss)\n",
    "    else:\n",
    "        if plotted_train_accs[-1] > best_train_acc:\n",
    "            plotted_train_accs.append(plotted_train_accs[-1])\n",
    "        else:\n",
    "            plotted_train_accs.append(best_train_acc)\n",
    "\n",
    "        if plotted_test_accs[-1] > best_test_acc:\n",
    "            plotted_test_accs.append(plotted_test_accs[-1])\n",
    "        else:\n",
    "            plotted_test_accs.append(best_test_acc)\n",
    "\n",
    "        if plotted_train_losses[-1] < best_train_loss:\n",
    "            plotted_train_losses.append(plotted_train_losses[-1])\n",
    "        else:\n",
    "            plotted_train_losses.append(best_train_loss)\n",
    "\n",
    "        if plotted_test_losses[-1] < best_test_loss:\n",
    "            plotted_test_losses.append(plotted_test_losses[-1])\n",
    "        else:\n",
    "            plotted_test_losses.append(best_test_loss)\n",
    "    \n",
    "    return plotted_train_accs, plotted_test_accs, plotted_train_losses, plotted_test_losses"
   ]
  },
  {
   "cell_type": "code",
   "execution_count": 58,
   "id": "3938802d",
   "metadata": {},
   "outputs": [
    {
     "name": "stdout",
     "output_type": "stream",
     "text": [
      "0\n",
      "1\n",
      "2\n",
      "3\n",
      "4\n",
      "5\n",
      "6\n",
      "7\n",
      "8\n",
      "9\n"
     ]
    },
    {
     "ename": "IndexError",
     "evalue": "list index out of range",
     "output_type": "error",
     "traceback": [
      "\u001b[0;31m---------------------------------------------------------------------------\u001b[0m",
      "\u001b[0;31mIndexError\u001b[0m                                Traceback (most recent call last)",
      "Cell \u001b[0;32mIn[58], line 1\u001b[0m\n\u001b[0;32m----> 1\u001b[0m plotted_train_accs, plotted_test_accs, plotted_train_losses, plotted_test_losses \u001b[38;5;241m=\u001b[39m \u001b[43mget_plotted_metrics\u001b[49m\u001b[43m(\u001b[49m\u001b[43mresult_per_lr\u001b[49m\u001b[43m,\u001b[49m\u001b[43m \u001b[49m\u001b[43mrounds\u001b[49m\u001b[43m)\u001b[49m\n",
      "Cell \u001b[0;32mIn[57], line 13\u001b[0m, in \u001b[0;36mget_plotted_metrics\u001b[0;34m(result_per_lr, rounds)\u001b[0m\n\u001b[1;32m     11\u001b[0m best_test_loss \u001b[38;5;241m=\u001b[39m math\u001b[38;5;241m.\u001b[39minf\n\u001b[1;32m     12\u001b[0m \u001b[38;5;28;01mfor\u001b[39;00m lr \u001b[38;5;129;01min\u001b[39;00m result_per_lr\u001b[38;5;241m.\u001b[39mkeys():\n\u001b[0;32m---> 13\u001b[0m     best_train_acc \u001b[38;5;241m=\u001b[39m \u001b[38;5;28mmax\u001b[39m(best_train_acc, \u001b[43mresult_per_lr\u001b[49m\u001b[43m[\u001b[49m\u001b[43mlr\u001b[49m\u001b[43m]\u001b[49m\u001b[43m[\u001b[49m\u001b[38;5;124;43m'\u001b[39;49m\u001b[38;5;124;43mtrain_accs\u001b[39;49m\u001b[38;5;124;43m'\u001b[39;49m\u001b[43m]\u001b[49m\u001b[43m[\u001b[49m\u001b[43mr\u001b[49m\u001b[43m]\u001b[49m)\n\u001b[1;32m     14\u001b[0m     \u001b[38;5;28mprint\u001b[39m(r)\n\u001b[1;32m     15\u001b[0m     best_test_acc \u001b[38;5;241m=\u001b[39m \u001b[38;5;28mmax\u001b[39m(best_test_acc, result_per_lr[lr][\u001b[38;5;124m'\u001b[39m\u001b[38;5;124mtest_accs\u001b[39m\u001b[38;5;124m'\u001b[39m][r])\n",
      "\u001b[0;31mIndexError\u001b[0m: list index out of range"
     ]
    }
   ],
   "source": [
    "plotted_train_accs, plotted_test_accs, plotted_train_losses, plotted_test_losses = get_plotted_metrics(result_per_lr, rounds)"
   ]
  },
  {
   "cell_type": "code",
   "execution_count": 59,
   "id": "b500c2d6",
   "metadata": {},
   "outputs": [
    {
     "ename": "NameError",
     "evalue": "name 'plotted_train_accs' is not defined",
     "output_type": "error",
     "traceback": [
      "\u001b[0;31m---------------------------------------------------------------------------\u001b[0m",
      "\u001b[0;31mNameError\u001b[0m                                 Traceback (most recent call last)",
      "Cell \u001b[0;32mIn[59], line 2\u001b[0m\n\u001b[1;32m      1\u001b[0m fig, ax \u001b[38;5;241m=\u001b[39m plt\u001b[38;5;241m.\u001b[39msubplots()\n\u001b[0;32m----> 2\u001b[0m ax\u001b[38;5;241m.\u001b[39mplot(\u001b[38;5;28mrange\u001b[39m(\u001b[38;5;241m1\u001b[39m, \u001b[38;5;28mlen\u001b[39m(\u001b[43mplotted_train_accs\u001b[49m)\u001b[38;5;241m+\u001b[39m\u001b[38;5;241m1\u001b[39m), plotted_train_accs, label\u001b[38;5;241m=\u001b[39m\u001b[38;5;124m'\u001b[39m\u001b[38;5;124mtrain\u001b[39m\u001b[38;5;124m'\u001b[39m)\n\u001b[1;32m      3\u001b[0m ax\u001b[38;5;241m.\u001b[39mplot(\u001b[38;5;28mrange\u001b[39m(\u001b[38;5;241m1\u001b[39m,\u001b[38;5;28mlen\u001b[39m(plotted_test_accs)\u001b[38;5;241m+\u001b[39m\u001b[38;5;241m1\u001b[39m), plotted_test_accs, label\u001b[38;5;241m=\u001b[39m\u001b[38;5;124m'\u001b[39m\u001b[38;5;124mtest\u001b[39m\u001b[38;5;124m'\u001b[39m)\n\u001b[1;32m      4\u001b[0m ax\u001b[38;5;241m.\u001b[39mset_xticks(np\u001b[38;5;241m.\u001b[39marange(\u001b[38;5;241m0\u001b[39m, \u001b[38;5;28mlen\u001b[39m(plotted_test_accs)\u001b[38;5;241m+\u001b[39m\u001b[38;5;241m1\u001b[39m, \u001b[38;5;241m100\u001b[39m))\n",
      "\u001b[0;31mNameError\u001b[0m: name 'plotted_train_accs' is not defined"
     ]
    },
    {
     "data": {
      "image/png": "[encoded data removed]",
      "text/plain": [
       "<Figure size 640x480 with 1 Axes>"
      ]
     },
     "metadata": {},
     "output_type": "display_data"
    }
   ],
   "source": [
    "fig, ax = plt.subplots()\n",
    "ax.plot(range(1, len(plotted_train_accs)+1), plotted_train_accs, label='train')\n",
    "ax.plot(range(1,len(plotted_test_accs)+1), plotted_test_accs, label='test')\n",
    "ax.set_xticks(np.arange(0, len(plotted_test_accs)+1, 100))\n",
    "ax.axhline(y=target_test_acc, color='grey', linestyle='-', linewidth=0.5)\n",
    "ax.set_ylabel('accuracy')\n",
    "\n",
    "ax.set_xlabel('communication rounds')\n",
    "ax.set_title('B={}, C={}, E={}, Model={}, Data={}'.format(B, C, E, MODEL, DATA))\n",
    "ax.legend()\n",
    "\n",
    "ax2 = ax.twinx()\n",
    "ax2.set_ylim(ax.get_ylim())\n",
    "ax2.set_yticks([target_test_acc])\n",
    "\n",
    "plt.show()"
   ]
  },
  {
   "cell_type": "code",
   "execution_count": 50,
   "id": "47ba3a1e",
   "metadata": {},
   "outputs": [
    {
     "ename": "NameError",
     "evalue": "name 'plotted_test_accs' is not defined",
     "output_type": "error",
     "traceback": [
      "\u001b[0;31m---------------------------------------------------------------------------\u001b[0m",
      "\u001b[0;31mNameError\u001b[0m                                 Traceback (most recent call last)",
      "Cell \u001b[0;32mIn[50], line 2\u001b[0m\n\u001b[1;32m      1\u001b[0m n_round_at_target \u001b[38;5;241m=\u001b[39m \u001b[38;5;28;01mNone\u001b[39;00m\n\u001b[0;32m----> 2\u001b[0m \u001b[38;5;28;01mfor\u001b[39;00m i,acc \u001b[38;5;129;01min\u001b[39;00m \u001b[38;5;28menumerate\u001b[39m(\u001b[43mplotted_test_accs\u001b[49m):\n\u001b[1;32m      3\u001b[0m     \u001b[38;5;28;01mif\u001b[39;00m acc\u001b[38;5;241m>\u001b[39m\u001b[38;5;241m=\u001b[39mtarget_test_acc:\n\u001b[1;32m      4\u001b[0m         \u001b[38;5;28mprint\u001b[39m(\u001b[38;5;124m\"\u001b[39m\u001b[38;5;124mthe number of rounds to achieve target test-accuracy: \u001b[39m\u001b[38;5;124m\"\u001b[39m)\n",
      "\u001b[0;31mNameError\u001b[0m: name 'plotted_test_accs' is not defined"
     ]
    }
   ],
   "source": [
    "n_round_at_target = None\n",
    "for i,acc in enumerate(plotted_test_accs):\n",
    "    if acc>=target_test_acc:\n",
    "        print(\"the number of rounds to achieve target test-accuracy: \")\n",
    "        n_round_at_target = i+1\n",
    "        print(n_round_at_target)\n",
    "        break;"
   ]
  },
  {
   "cell_type": "code",
   "execution_count": 51,
   "id": "fb111f45",
   "metadata": {},
   "outputs": [
    {
     "ename": "NameError",
     "evalue": "name 'plotted_test_losses' is not defined",
     "output_type": "error",
     "traceback": [
      "\u001b[0;31m---------------------------------------------------------------------------\u001b[0m",
      "\u001b[0;31mNameError\u001b[0m                                 Traceback (most recent call last)",
      "Cell \u001b[0;32mIn[51], line 2\u001b[0m\n\u001b[1;32m      1\u001b[0m loss_at_target \u001b[38;5;241m=\u001b[39m \u001b[38;5;28;01mNone\u001b[39;00m\n\u001b[0;32m----> 2\u001b[0m \u001b[38;5;28;01mfor\u001b[39;00m i,loss \u001b[38;5;129;01min\u001b[39;00m \u001b[38;5;28menumerate\u001b[39m(\u001b[43mplotted_test_losses\u001b[49m):\n\u001b[1;32m      3\u001b[0m     \u001b[38;5;28;01mif\u001b[39;00m n_round_at_target \u001b[38;5;129;01mand\u001b[39;00m i\u001b[38;5;241m==\u001b[39mn_round_at_target\u001b[38;5;241m-\u001b[39m\u001b[38;5;241m1\u001b[39m:\n\u001b[1;32m      4\u001b[0m         \u001b[38;5;28mprint\u001b[39m(\u001b[38;5;124m\"\u001b[39m\u001b[38;5;124mloss at target test-accuracy: \u001b[39m\u001b[38;5;124m\"\u001b[39m)\n",
      "\u001b[0;31mNameError\u001b[0m: name 'plotted_test_losses' is not defined"
     ]
    }
   ],
   "source": [
    "loss_at_target = None\n",
    "for i,loss in enumerate(plotted_test_losses):\n",
    "    if n_round_at_target and i==n_round_at_target-1:\n",
    "        print(\"loss at target test-accuracy: \")\n",
    "        loss_at_target = loss\n",
    "        print(loss_at_target)\n",
    "        break;"
   ]
  },
  {
   "cell_type": "code",
   "execution_count": 52,
   "id": "c7507fda",
   "metadata": {},
   "outputs": [],
   "source": [
    "# end_time = time.time()  # store end time\n",
    "# print(\"TrainingTime: {} sec\".format(end_time - start_time))"
   ]
  },
  {
   "cell_type": "code",
   "execution_count": null,
   "id": "0a945034",
   "metadata": {},
   "outputs": [],
   "source": []
  },
  {
   "cell_type": "code",
   "execution_count": 34,
   "id": "f07fcab9",
   "metadata": {},
   "outputs": [
    {
     "name": "stdout",
     "output_type": "stream",
     "text": [
      "WorkingTime: 623.8693115711212 sec\n"
     ]
    }
   ],
   "source": [
    "end_time = time.time()  # store end time\n",
    "print(\"WorkingTime: {} sec\".format(end_time - start_time))"
   ]
  },
  {
   "cell_type": "code",
   "execution_count": null,
   "id": "bf6e9e36",
   "metadata": {},
   "outputs": [],
   "source": []
  }
 ],
 "metadata": {
  "kernelspec": {
   "display_name": "Python 3",
   "language": "python",
   "name": "python3"
  },
  "language_info": {
   "codemirror_mode": {
    "name": "ipython",
    "version": 3
   },
   "file_extension": ".py",
   "mimetype": "text/x-python",
   "name": "python",
   "nbconvert_exporter": "python",
   "pygments_lexer": "ipython3",
   "version": "3.8.8"
  }
 },
 "nbformat": 4,
 "nbformat_minor": 5
}
