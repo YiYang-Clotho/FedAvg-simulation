{
 "cells": [
  {
   "cell_type": "code",
   "execution_count": 1,
   "id": "84b9431c",
   "metadata": {},
   "outputs": [],
   "source": [
    "import boto3"
   ]
  },
  {
   "cell_type": "code",
   "execution_count": null,
   "id": "a8202562",
   "metadata": {},
   "outputs": [],
   "source": [
    "ec2 = boto3.resource('ec2', region_name='ap-southeast-2')\n",
    "\n",
    "instances = ec2.create_instances(\n",
    "    ImageId=\"ami-0d37dd644530396ea\",\n",
    "    MinCount=1,\n",
    "    MaxCount=1,\n",
    "    InstanceType=\"t2.medium\",\n",
    "    KeyName=\"w5\"\n",
    ")"
   ]
  },
  {
   "cell_type": "code",
   "execution_count": 5,
   "id": "83b53582",
   "metadata": {},
   "outputs": [
    {
     "ename": "NameError",
     "evalue": "name 'instances' is not defined",
     "output_type": "error",
     "traceback": [
      "\u001b[0;31m---------------------------------------------------------------------------\u001b[0m",
      "\u001b[0;31mNameError\u001b[0m                                 Traceback (most recent call last)",
      "\u001b[0;32m<ipython-input-5-d8384b62c1b8>\u001b[0m in \u001b[0;36m<module>\u001b[0;34m\u001b[0m\n\u001b[0;32m----> 1\u001b[0;31m \u001b[0mprint\u001b[0m\u001b[0;34m(\u001b[0m\u001b[0minstances\u001b[0m\u001b[0;34m)\u001b[0m\u001b[0;34m\u001b[0m\u001b[0;34m\u001b[0m\u001b[0m\n\u001b[0m",
      "\u001b[0;31mNameError\u001b[0m: name 'instances' is not defined"
     ]
    }
   ],
   "source": [
    "print(instances)"
   ]
  },
  {
   "cell_type": "code",
   "execution_count": 3,
   "id": "927d9a8a",
   "metadata": {},
   "outputs": [],
   "source": [
    "client = boto3.client('ec2', region_name='ap-southeast-2')\n",
    "\n",
    "# response = client.terminate_instances(\n",
    "#     InstanceIds=[\n",
    "#         'i-0fe5c971615905c75',\n",
    "#     ],\n",
    "# )\n",
    "\n",
    "response = client.start_instances(\n",
    "    InstanceIds=[\n",
    "        'i-03f99e382069a2c98',\n",
    "    ],\n",
    ")"
   ]
  },
  {
   "cell_type": "code",
   "execution_count": null,
   "id": "55bb8bc9",
   "metadata": {},
   "outputs": [],
   "source": [
    "client = boto3.client('ec2', region_name='ap-southeast-2')\n",
    "\n",
    "response = client.stop_instances(\n",
    "    InstanceIds=[\n",
    "        'i-03f99e382069a2c98',\n",
    "    ],\n",
    ")"
   ]
  },
  {
   "cell_type": "code",
   "execution_count": 6,
   "id": "17dd06c1",
   "metadata": {},
   "outputs": [],
   "source": [
    "def get_running_instances():\n",
    "    ec2_client = boto3.client('ec2', region_name='ap-southeast-2')\n",
    "    reservations = ec2_client.describe_instances(Filters=[\n",
    "        {\n",
    "            \"Name\": \"instance-state-name\",\n",
    "            \"Values\": [\"running\"],\n",
    "        }\n",
    "    ]).get(\"Reservations\")\n",
    "    \n",
    "    if not reservations:\n",
    "        print(\"No instance is running now\")\n",
    "    else:\n",
    "        for reservation in reservations:\n",
    "            for instance in reservation[\"Instances\"]:\n",
    "                instance_id = instance[\"InstanceId\"]\n",
    "                instance_type = instance[\"InstanceType\"]\n",
    "                public_ip = instance[\"PublicIpAddress\"]\n",
    "                private_ip = instance[\"PrivateIpAddress\"]\n",
    "                print(f\"{instance_id}, {instance_type}, {public_ip}, {private_ip}\")"
   ]
  },
  {
   "cell_type": "code",
   "execution_count": 7,
   "id": "30cb6193",
   "metadata": {},
   "outputs": [],
   "source": [
    "def get_public_ip(instance_id):\n",
    "    ec2_client = boto3.client('ec2', region_name='ap-southeast-2')\n",
    "    reservations = ec2_client.describe_instances(InstanceIds=[instance_id]).get(\"Reservations\")\n",
    "\n",
    "    for reservation in reservations:\n",
    "        for instance in reservation['Instances']:\n",
    "            print(instance.get(\"PublicIpAddress\"))"
   ]
  },
  {
   "cell_type": "code",
   "execution_count": 21,
   "id": "863ec392",
   "metadata": {},
   "outputs": [],
   "source": [
    "## Run command against your linux VM\n",
    "def runRemoteShellCommands (InstanceId, commands):\n",
    "    ssm_client = boto3.client('ssm', region_name=\"ap-southeast-2\")\n",
    "#     commands = ['sudo systemctl status amazon-ssm-agent']\n",
    "    response = ssm_client.send_command(\n",
    "        InstanceIds=[InstanceId],\n",
    "#        DocumentName=\"AWS-RunShellScript\",\n",
    "        DocumentName=\"AWS-RunRemoteScript\",\n",
    "#        Parameters={'commands':commands}\n",
    "        \"Parameters\": {\n",
    "            \"commandLine\": [\n",
    "                \"client.py\"\n",
    "            ],\n",
    "            \"sourceInfo\": [\n",
    "                \"{\\\"owner\\\":\\\"YiYang-Clotho\\\", \\\"repository\\\":\\\"FedAvg-simulation\\\", \\\"path\\\": \\\"\\\"}\"\n",
    "            ],\n",
    "            \"sourceType\": [\n",
    "                \"GitHub\"\n",
    "            ]\n",
    "        },\n",
    "      )\n",
    "    command_id = response['Command']['CommandId']\n",
    "    output = ssm_client.get_command_invocation(\n",
    "        CommandId=command_id, \n",
    "        InstanceId=InstanceId\n",
    "    )\n",
    "    while output['Status'] == \"InProgress\":   \n",
    "        output = ssm_client.get_command_invocation(CommandId=command_id, InstanceId=InstanceId) \n",
    "    print(output['StandardOutputContent'])"
   ]
  },
  {
   "cell_type": "code",
   "execution_count": 17,
   "id": "47b71ff5",
   "metadata": {},
   "outputs": [
    {
     "name": "stdout",
     "output_type": "stream",
     "text": [
      "i-03f99e382069a2c98, t2.medium, 13.211.138.25, 172.31.24.39\n"
     ]
    }
   ],
   "source": [
    "get_running_instances()"
   ]
  },
  {
   "cell_type": "code",
   "execution_count": 18,
   "id": "65b78ad6",
   "metadata": {},
   "outputs": [
    {
     "name": "stdout",
     "output_type": "stream",
     "text": [
      "13.211.138.25\n"
     ]
    }
   ],
   "source": [
    "get_public_ip('i-03f99e382069a2c98')"
   ]
  },
  {
   "cell_type": "code",
   "execution_count": 23,
   "id": "8f20436f",
   "metadata": {},
   "outputs": [
    {
     "ename": "InvalidParameters",
     "evalue": "An error occurred (InvalidParameters) when calling the SendCommand operation: document AWS-RunRemoteScript does not support parameters.",
     "output_type": "error",
     "traceback": [
      "\u001b[0;31m---------------------------------------------------------------------------\u001b[0m",
      "\u001b[0;31mInvalidParameters\u001b[0m                         Traceback (most recent call last)",
      "\u001b[0;32m<ipython-input-23-12d588d36d50>\u001b[0m in \u001b[0;36m<module>\u001b[0;34m\u001b[0m\n\u001b[1;32m      1\u001b[0m \u001b[0mcommands\u001b[0m \u001b[0;34m=\u001b[0m \u001b[0;34m[\u001b[0m\u001b[0;34m'{\"sourceType\":[\"GitHub\"],\"sourceInfo\":[\"{\\\"owner\\\":\\\"YiYang-Clotho\\\", \\\"repository\\\":\\\"FedAvg-simulation\\\", \\\"path\\\": \\\"\"}\"],\"commandLine\":[\"python client.py\"]}'\u001b[0m\u001b[0;34m]\u001b[0m\u001b[0;34m\u001b[0m\u001b[0;34m\u001b[0m\u001b[0m\n\u001b[0;32m----> 2\u001b[0;31m \u001b[0mrunRemoteShellCommands\u001b[0m\u001b[0;34m(\u001b[0m\u001b[0;34m\"i-03f99e382069a2c98\"\u001b[0m\u001b[0;34m,\u001b[0m \u001b[0mcommands\u001b[0m\u001b[0;34m)\u001b[0m\u001b[0;34m\u001b[0m\u001b[0;34m\u001b[0m\u001b[0m\n\u001b[0m",
      "\u001b[0;32m<ipython-input-21-e9cdaa9a7434>\u001b[0m in \u001b[0;36mrunRemoteShellCommands\u001b[0;34m(InstanceId, commands)\u001b[0m\n\u001b[1;32m      3\u001b[0m     \u001b[0mssm_client\u001b[0m \u001b[0;34m=\u001b[0m \u001b[0mboto3\u001b[0m\u001b[0;34m.\u001b[0m\u001b[0mclient\u001b[0m\u001b[0;34m(\u001b[0m\u001b[0;34m'ssm'\u001b[0m\u001b[0;34m,\u001b[0m \u001b[0mregion_name\u001b[0m\u001b[0;34m=\u001b[0m\u001b[0;34m\"ap-southeast-2\"\u001b[0m\u001b[0;34m)\u001b[0m\u001b[0;34m\u001b[0m\u001b[0;34m\u001b[0m\u001b[0m\n\u001b[1;32m      4\u001b[0m \u001b[0;31m#     commands = ['sudo systemctl status amazon-ssm-agent']\u001b[0m\u001b[0;34m\u001b[0m\u001b[0;34m\u001b[0m\u001b[0;34m\u001b[0m\u001b[0m\n\u001b[0;32m----> 5\u001b[0;31m     response = ssm_client.send_command(\n\u001b[0m\u001b[1;32m      6\u001b[0m         \u001b[0mInstanceIds\u001b[0m\u001b[0;34m=\u001b[0m\u001b[0;34m[\u001b[0m\u001b[0mInstanceId\u001b[0m\u001b[0;34m]\u001b[0m\u001b[0;34m,\u001b[0m\u001b[0;34m\u001b[0m\u001b[0;34m\u001b[0m\u001b[0m\n\u001b[1;32m      7\u001b[0m \u001b[0;31m#        DocumentName=\"AWS-RunShellScript\",\u001b[0m\u001b[0;34m\u001b[0m\u001b[0;34m\u001b[0m\u001b[0;34m\u001b[0m\u001b[0m\n",
      "\u001b[0;32m/opt/anaconda3/lib/python3.8/site-packages/botocore/client.py\u001b[0m in \u001b[0;36m_api_call\u001b[0;34m(self, *args, **kwargs)\u001b[0m\n\u001b[1;32m    528\u001b[0m                 )\n\u001b[1;32m    529\u001b[0m             \u001b[0;31m# The \"self\" in this scope is referring to the BaseClient.\u001b[0m\u001b[0;34m\u001b[0m\u001b[0;34m\u001b[0m\u001b[0;34m\u001b[0m\u001b[0m\n\u001b[0;32m--> 530\u001b[0;31m             \u001b[0;32mreturn\u001b[0m \u001b[0mself\u001b[0m\u001b[0;34m.\u001b[0m\u001b[0m_make_api_call\u001b[0m\u001b[0;34m(\u001b[0m\u001b[0moperation_name\u001b[0m\u001b[0;34m,\u001b[0m \u001b[0mkwargs\u001b[0m\u001b[0;34m)\u001b[0m\u001b[0;34m\u001b[0m\u001b[0;34m\u001b[0m\u001b[0m\n\u001b[0m\u001b[1;32m    531\u001b[0m \u001b[0;34m\u001b[0m\u001b[0m\n\u001b[1;32m    532\u001b[0m         \u001b[0m_api_call\u001b[0m\u001b[0;34m.\u001b[0m\u001b[0m__name__\u001b[0m \u001b[0;34m=\u001b[0m \u001b[0mstr\u001b[0m\u001b[0;34m(\u001b[0m\u001b[0mpy_operation_name\u001b[0m\u001b[0;34m)\u001b[0m\u001b[0;34m\u001b[0m\u001b[0;34m\u001b[0m\u001b[0m\n",
      "\u001b[0;32m/opt/anaconda3/lib/python3.8/site-packages/botocore/client.py\u001b[0m in \u001b[0;36m_make_api_call\u001b[0;34m(self, operation_name, api_params)\u001b[0m\n\u001b[1;32m    962\u001b[0m             \u001b[0merror_code\u001b[0m \u001b[0;34m=\u001b[0m \u001b[0mparsed_response\u001b[0m\u001b[0;34m.\u001b[0m\u001b[0mget\u001b[0m\u001b[0;34m(\u001b[0m\u001b[0;34m\"Error\"\u001b[0m\u001b[0;34m,\u001b[0m \u001b[0;34m{\u001b[0m\u001b[0;34m}\u001b[0m\u001b[0;34m)\u001b[0m\u001b[0;34m.\u001b[0m\u001b[0mget\u001b[0m\u001b[0;34m(\u001b[0m\u001b[0;34m\"Code\"\u001b[0m\u001b[0;34m)\u001b[0m\u001b[0;34m\u001b[0m\u001b[0;34m\u001b[0m\u001b[0m\n\u001b[1;32m    963\u001b[0m             \u001b[0merror_class\u001b[0m \u001b[0;34m=\u001b[0m \u001b[0mself\u001b[0m\u001b[0;34m.\u001b[0m\u001b[0mexceptions\u001b[0m\u001b[0;34m.\u001b[0m\u001b[0mfrom_code\u001b[0m\u001b[0;34m(\u001b[0m\u001b[0merror_code\u001b[0m\u001b[0;34m)\u001b[0m\u001b[0;34m\u001b[0m\u001b[0;34m\u001b[0m\u001b[0m\n\u001b[0;32m--> 964\u001b[0;31m             \u001b[0;32mraise\u001b[0m \u001b[0merror_class\u001b[0m\u001b[0;34m(\u001b[0m\u001b[0mparsed_response\u001b[0m\u001b[0;34m,\u001b[0m \u001b[0moperation_name\u001b[0m\u001b[0;34m)\u001b[0m\u001b[0;34m\u001b[0m\u001b[0;34m\u001b[0m\u001b[0m\n\u001b[0m\u001b[1;32m    965\u001b[0m         \u001b[0;32melse\u001b[0m\u001b[0;34m:\u001b[0m\u001b[0;34m\u001b[0m\u001b[0;34m\u001b[0m\u001b[0m\n\u001b[1;32m    966\u001b[0m             \u001b[0;32mreturn\u001b[0m \u001b[0mparsed_response\u001b[0m\u001b[0;34m\u001b[0m\u001b[0;34m\u001b[0m\u001b[0m\n",
      "\u001b[0;31mInvalidParameters\u001b[0m: An error occurred (InvalidParameters) when calling the SendCommand operation: document AWS-RunRemoteScript does not support parameters."
     ]
    }
   ],
   "source": [
    "commands = ['{\"sourceType\":[\"GitHub\"],\"sourceInfo\":[\"{\\\"owner\\\":\\\"YiYang-Clotho\\\", \\\"repository\\\":\\\"FedAvg-simulation\\\", \\\"path\\\": \\\"\"}\"],\"commandLine\":[\"python client.py\"]}']\n",
    "runRemoteShellCommands(\"i-03f99e382069a2c98\", commands)"
   ]
  },
  {
   "cell_type": "code",
   "execution_count": null,
   "id": "07c4b403",
   "metadata": {},
   "outputs": [],
   "source": [
    "os.listdir()"
   ]
  },
  {
   "cell_type": "code",
   "execution_count": null,
   "id": "8c09e16f",
   "metadata": {},
   "outputs": [],
   "source": []
  }
 ],
 "metadata": {
  "kernelspec": {
   "display_name": "Python 3",
   "language": "python",
   "name": "python3"
  },
  "language_info": {
   "codemirror_mode": {
    "name": "ipython",
    "version": 3
   },
   "file_extension": ".py",
   "mimetype": "text/x-python",
   "name": "python",
   "nbconvert_exporter": "python",
   "pygments_lexer": "ipython3",
   "version": "3.8.8"
  }
 },
 "nbformat": 4,
 "nbformat_minor": 5
}
