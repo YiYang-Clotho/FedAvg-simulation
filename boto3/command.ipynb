{
 "cells": [
  {
   "cell_type": "code",
   "execution_count": 1,
   "id": "253699ae",
   "metadata": {},
   "outputs": [],
   "source": [
    "import boto3"
   ]
  },
  {
   "cell_type": "code",
   "execution_count": null,
   "id": "a8202562",
   "metadata": {},
   "outputs": [],
   "source": [
    "ec2 = boto3.resource('ec2', region_name='ap-southeast-2')\n",
    "\n",
    "instances = ec2.create_instances(\n",
    "    ImageId=\"ami-0d37dd644530396ea\",\n",
    "    MinCount=1,\n",
    "    MaxCount=1,\n",
    "    InstanceType=\"t2.medium\",\n",
    "    KeyName=\"w5\"\n",
    ")"
   ]
  },
  {
   "cell_type": "code",
   "execution_count": 5,
   "id": "e8e4fa5e",
   "metadata": {},
   "outputs": [
    {
     "ename": "NameError",
     "evalue": "name 'instances' is not defined",
     "output_type": "error",
     "traceback": [
      "\u001b[0;31m---------------------------------------------------------------------------\u001b[0m",
      "\u001b[0;31mNameError\u001b[0m                                 Traceback (most recent call last)",
      "\u001b[0;32m<ipython-input-5-d8384b62c1b8>\u001b[0m in \u001b[0;36m<module>\u001b[0;34m\u001b[0m\n\u001b[0;32m----> 1\u001b[0;31m \u001b[0mprint\u001b[0m\u001b[0;34m(\u001b[0m\u001b[0minstances\u001b[0m\u001b[0;34m)\u001b[0m\u001b[0;34m\u001b[0m\u001b[0;34m\u001b[0m\u001b[0m\n\u001b[0m",
      "\u001b[0;31mNameError\u001b[0m: name 'instances' is not defined"
     ]
    }
   ],
   "source": [
    "print(instances)"
   ]
  },
  {
   "cell_type": "code",
   "execution_count": 66,
   "id": "927d9a8a",
   "metadata": {},
   "outputs": [],
   "source": [
    "client = boto3.client('ec2', region_name='ap-southeast-2')\n",
    "\n",
    "# response = client.terminate_instances(\n",
    "#     InstanceIds=[\n",
    "#         'i-0fe5c971615905c75',\n",
    "#     ],\n",
    "# )\n",
    "\n",
    "response = client.start_instances(\n",
    "    InstanceIds=[\n",
    "        'i-03f99e382069a2c98',\n",
    "    ],\n",
    ")"
   ]
  },
  {
   "cell_type": "code",
   "execution_count": 61,
   "id": "55bb8bc9",
   "metadata": {},
   "outputs": [],
   "source": [
    "client = boto3.client('ec2', region_name='ap-southeast-2')\n",
    "\n",
    "response = client.stop_instances(\n",
    "    InstanceIds=[\n",
    "        'i-03f99e382069a2c98',\n",
    "    ],\n",
    ")"
   ]
  },
  {
   "cell_type": "code",
   "execution_count": 6,
   "id": "17dd06c1",
   "metadata": {},
   "outputs": [],
   "source": [
    "def get_running_instances():\n",
    "    ec2_client = boto3.client('ec2', region_name='ap-southeast-2')\n",
    "    reservations = ec2_client.describe_instances(Filters=[\n",
    "        {\n",
    "            \"Name\": \"instance-state-name\",\n",
    "            \"Values\": [\"running\"],\n",
    "        }\n",
    "    ]).get(\"Reservations\")\n",
    "    \n",
    "    if not reservations:\n",
    "        print(\"No instance is running now\")\n",
    "    else:\n",
    "        for reservation in reservations:\n",
    "            for instance in reservation[\"Instances\"]:\n",
    "                instance_id = instance[\"InstanceId\"]\n",
    "                instance_type = instance[\"InstanceType\"]\n",
    "                public_ip = instance[\"PublicIpAddress\"]\n",
    "                private_ip = instance[\"PrivateIpAddress\"]\n",
    "                print(f\"{instance_id}, {instance_type}, {public_ip}, {private_ip}\")"
   ]
  },
  {
   "cell_type": "code",
   "execution_count": 7,
   "id": "30cb6193",
   "metadata": {},
   "outputs": [],
   "source": [
    "def get_public_ip(instance_id):\n",
    "    ec2_client = boto3.client('ec2', region_name='ap-southeast-2')\n",
    "    reservations = ec2_client.describe_instances(InstanceIds=[instance_id]).get(\"Reservations\")\n",
    "\n",
    "    for reservation in reservations:\n",
    "        for instance in reservation['Instances']:\n",
    "            print(instance.get(\"PublicIpAddress\"))"
   ]
  },
  {
   "cell_type": "code",
   "execution_count": 76,
   "id": "863ec392",
   "metadata": {},
   "outputs": [],
   "source": [
    "## Run command against your linux VM\n",
    "def runRemoteShellCommands (InstanceId):\n",
    "    ssm_client = boto3.client('ssm', region_name=\"ap-southeast-2\")\n",
    "#     commands = ['sudo systemctl status amazon-ssm-agent']\n",
    "    response = ssm_client.send_command(\n",
    "        InstanceIds=[InstanceId],\n",
    "#        DocumentName=\"AWS-RunShellScript\",\n",
    "        DocumentName=\"AWS-RunRemoteScript\",\n",
    "#        Parameters={'commands':commands}\n",
    "        Parameters= {\n",
    "            \"sourceType\": [\n",
    "                \"GitHub\"\n",
    "            ],\n",
    "            \"commandLine\": [\n",
    "                \"client.py\"\n",
    "            ],\n",
    "            \"sourceInfo\": [\n",
    "                \"{\\\"owner\\\":\\\"YiYang-Clotho\\\", \\\"repository\\\":\\\"FedAvg-simulation\\\", \\\"path\\\": \\\"\\\"}\"\n",
    "            ]\n",
    "        }\n",
    "      )\n",
    "    command_id = response['Command']['CommandId']\n",
    "    output = ssm_client.get_command_invocation(\n",
    "        CommandId=command_id, \n",
    "        InstanceId=InstanceId\n",
    "    )\n",
    "    while output['Status'] == \"InProgress\":  \n",
    "        output = ssm_client.get_command_invocation(CommandId=command_id, InstanceId=InstanceId) \n",
    "#     print(output['StandardOutputContent'])\n",
    "    print(output)"
   ]
  },
  {
   "cell_type": "code",
   "execution_count": 77,
   "id": "47b71ff5",
   "metadata": {},
   "outputs": [
    {
     "name": "stdout",
     "output_type": "stream",
     "text": [
      "i-03f99e382069a2c98, t2.medium, 3.26.179.170, 172.31.24.39\n"
     ]
    }
   ],
   "source": [
    "get_running_instances()"
   ]
  },
  {
   "cell_type": "code",
   "execution_count": 78,
   "id": "65b78ad6",
   "metadata": {},
   "outputs": [
    {
     "name": "stdout",
     "output_type": "stream",
     "text": [
      "3.26.179.170\n"
     ]
    }
   ],
   "source": [
    "get_public_ip('i-03f99e382069a2c98')"
   ]
  },
  {
   "cell_type": "code",
   "execution_count": 79,
   "id": "8f20436f",
   "metadata": {},
   "outputs": [
    {
     "name": "stdout",
     "output_type": "stream",
     "text": [
      "{'CommandId': '09a9824d-862e-4495-91ad-b3545ab50b9b', 'InstanceId': 'i-03f99e382069a2c98', 'Comment': '', 'DocumentName': 'AWS-RunRemoteScript', 'DocumentVersion': '$DEFAULT', 'ResponseCode': 0, 'ExecutionEndDateTime': '', 'Status': 'Failed', 'StatusDetails': 'Failed', 'CloudWatchOutputConfig': {'CloudWatchLogGroupName': '', 'CloudWatchOutputEnabled': False}, 'ResponseMetadata': {'RequestId': 'a08e4e8a-d993-461c-9ac1-c9fad56b7d73', 'HTTPStatusCode': 200, 'HTTPHeaders': {'server': 'Server', 'date': 'Mon, 22 May 2023 10:33:08 GMT', 'content-type': 'application/x-amz-json-1.1', 'content-length': '339', 'connection': 'keep-alive', 'x-amzn-requestid': 'a08e4e8a-d993-461c-9ac1-c9fad56b7d73'}, 'RetryAttempts': 0}}\n"
     ]
    }
   ],
   "source": [
    "commands = ['{\"sourceType\":[\"GitHub\"],\"sourceInfo\":[\"{\\\"owner\\\":\\\"YiYang-Clotho\\\", \\\"repository\\\":\\\"FedAvg-simulation\\\", \\\"path\\\": \\\"\"}\"],\"commandLine\":[\"client.py\"]}']\n",
    "runRemoteShellCommands(\"i-03f99e382069a2c98\")"
   ]
  },
  {
   "cell_type": "code",
   "execution_count": null,
   "id": "9d693e46",
   "metadata": {},
   "outputs": [],
   "source": []
  },
  {
   "cell_type": "code",
   "execution_count": null,
   "id": "cc46f475",
   "metadata": {},
   "outputs": [],
   "source": []
  }
 ],
 "metadata": {
  "kernelspec": {
   "display_name": "Python 3",
   "language": "python",
   "name": "python3"
  },
  "language_info": {
   "codemirror_mode": {
    "name": "ipython",
    "version": 3
   },
   "file_extension": ".py",
   "mimetype": "text/x-python",
   "name": "python",
   "nbconvert_exporter": "python",
   "pygments_lexer": "ipython3",
   "version": "3.8.8"
  }
 },
 "nbformat": 4,
 "nbformat_minor": 5
}
