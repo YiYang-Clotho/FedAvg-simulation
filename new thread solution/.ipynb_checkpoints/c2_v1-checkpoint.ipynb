{
 "cells": [
  {
   "cell_type": "code",
   "execution_count": 1,
   "id": "d7d03d84",
   "metadata": {},
   "outputs": [],
   "source": [
    "users = 1\n",
    "rounds = 100\n",
    "C = 1\n",
    "E = 5\n",
    "B = 10 # 'all' for a single minibatch\n",
    "\n",
    "# rounds = 10 # default\n",
    "lr = 0.1\n",
    "\n",
    "# client_order = 0\n",
    "client_order = 1"
   ]
  },
  {
   "cell_type": "code",
   "execution_count": 2,
   "id": "a725e860",
   "metadata": {},
   "outputs": [
    {
     "name": "stderr",
     "output_type": "stream",
     "text": [
      "2023-06-12 12:38:21.814889: I tensorflow/core/platform/cpu_feature_guard.cc:182] This TensorFlow binary is optimized to use available CPU instructions in performance-critical operations.\n",
      "To enable the following instructions: AVX2 FMA, in other operations, rebuild TensorFlow with the appropriate compiler flags.\n",
      "2023-06-12 12:38:22.720278: W tensorflow/compiler/tf2tensorrt/utils/py_utils.cc:38] TF-TRT Warning: Could not find TensorRT\n"
     ]
    }
   ],
   "source": [
    "import logging\n",
    "import math\n",
    "import os\n",
    "import pickle\n",
    "import random\n",
    "import re\n",
    "import time\n",
    "import matplotlib.pyplot as plt\n",
    "import numpy as np\n",
    "import tensorflow as tf\n",
    "from datetime import timedelta\n",
    "from keras import backend as K\n",
    "from sklearn.metrics import accuracy_score\n",
    "from sklearn.preprocessing import LabelBinarizer\n",
    "from tensorflow import keras\n",
    "from tensorflow.keras.models import Sequential\n",
    "from tensorflow.keras.layers import Activation\n",
    "from tensorflow.keras.layers import Conv2D\n",
    "from tensorflow.keras.layers import Dense\n",
    "from tensorflow.keras.layers import MaxPooling2D\n",
    "from tensorflow.keras.layers import Flatten\n",
    "from tensorflow.keras.optimizers import SGD\n",
    "from tqdm import tqdm\n",
    "tf.get_logger().setLevel(logging.ERROR)\n",
    "\n",
    "import h5py\n",
    "import socket\n",
    "import struct\n",
    "import pickle"
   ]
  },
  {
   "cell_type": "markdown",
   "id": "c1bfa580",
   "metadata": {},
   "source": [
    "## Data load"
   ]
  },
  {
   "cell_type": "code",
   "execution_count": 3,
   "id": "86deb7d1",
   "metadata": {},
   "outputs": [],
   "source": [
    "mnist = tf.keras.datasets.mnist\n",
    "(X_train, y_train), (X_test, y_test) = mnist.load_data()"
   ]
  },
  {
   "cell_type": "code",
   "execution_count": 4,
   "id": "0a90388a",
   "metadata": {},
   "outputs": [],
   "source": [
    "def noniid_partition(y_train):\n",
    "    \"\"\"\n",
    "    sort the data by digit label, divide it into 200 shards of size 300, and assign each of 10 clients 20 shards.\n",
    "    \"\"\"\n",
    "    n_shards = 200\n",
    "    n_per_shard = 300\n",
    "    \n",
    "    indexes_per_client = {}\n",
    "    indexes = y_train.argsort()\n",
    "    \n",
    "    indexes_shard = np.arange(0, n_shards)\n",
    "    \n",
    "    start_idx_shard_1 = indexes_shard[client_order]*n_per_shard\n",
    "    start_idx_shard_2 = indexes_shard[n_shards - (client_order+1)]*n_per_shard\n",
    "    indexes_per_client[client_order] = np.concatenate((indexes[start_idx_shard_1:start_idx_shard_1+n_per_shard],\n",
    "                                                       indexes[start_idx_shard_2:start_idx_shard_2+n_per_shard]))\n",
    "    print(start_idx_shard_1, start_idx_shard_1+n_per_shard, start_idx_shard_2,start_idx_shard_2+n_per_shard)\n",
    "    \n",
    "    return indexes_per_client"
   ]
  },
  {
   "cell_type": "code",
   "execution_count": 5,
   "id": "214c4a53",
   "metadata": {},
   "outputs": [
    {
     "name": "stdout",
     "output_type": "stream",
     "text": [
      "300 600 59400 59700\n"
     ]
    }
   ],
   "source": [
    "indexes_per_client = noniid_partition(y_train)"
   ]
  },
  {
   "cell_type": "code",
   "execution_count": 6,
   "id": "e29cb20f",
   "metadata": {},
   "outputs": [],
   "source": [
    "# print(indexes_per_client)"
   ]
  },
  {
   "cell_type": "code",
   "execution_count": 7,
   "id": "c0d4de5c",
   "metadata": {},
   "outputs": [
    {
     "name": "stdout",
     "output_type": "stream",
     "text": [
      "x_train shape: (60000, 28, 28, 1)\n",
      "60000 train samples\n",
      "10000 test samples\n"
     ]
    }
   ],
   "source": [
    "X_train = X_train.astype(\"float32\")/255\n",
    "X_test = X_test.astype(\"float32\")/255\n",
    "X_train = np.expand_dims(X_train, -1)\n",
    "X_test = np.expand_dims(X_test, -1)\n",
    "y_train = keras.utils.to_categorical(y_train, 10)\n",
    "y_test = keras.utils.to_categorical(y_test, 10)\n",
    "\n",
    "print(\"x_train shape:\", X_train.shape)\n",
    "print(X_train.shape[0], \"train samples\")\n",
    "print(X_test.shape[0], \"test samples\")"
   ]
  },
  {
   "cell_type": "markdown",
   "id": "d9ffc0b5",
   "metadata": {},
   "source": [
    "### Create Batched Dataset"
   ]
  },
  {
   "cell_type": "code",
   "execution_count": 8,
   "id": "44619508",
   "metadata": {},
   "outputs": [],
   "source": [
    "def create_batch(indexes_client, X_train, y_train, B):\n",
    "    x = []\n",
    "    y = []    \n",
    "    for i in indexes_client:\n",
    "        x.append(X_train[i])\n",
    "        y.append(y_train[i])\n",
    "\n",
    "    dataset = tf.data.Dataset.from_tensor_slices((list(x), list(y)))\n",
    "    return dataset.shuffle(len(y)).batch(len(y_train) if B=='all' else B)"
   ]
  },
  {
   "cell_type": "code",
   "execution_count": 9,
   "id": "59e65aee",
   "metadata": {},
   "outputs": [
    {
     "name": "stderr",
     "output_type": "stream",
     "text": [
      "  0%|                                                                                                                                                                    | 0/1 [00:00<?, ?it/s]2023-06-12 12:38:25.496449: E tensorflow/compiler/xla/stream_executor/cuda/cuda_driver.cc:266] failed call to cuInit: CUDA_ERROR_NO_DEVICE: no CUDA-capable device is detected\n",
      "100%|████████████████████████████████████████████████████████████████████████████████████████████████████████████████████████████████████████████████████████████| 1/1 [00:00<00:00,  1.34it/s]\n"
     ]
    }
   ],
   "source": [
    "client_dataset_batched = {}\n",
    "for i, indexes in tqdm(indexes_per_client.items()):\n",
    "    client_dataset_batched[i] = create_batch(indexes, X_train, y_train, B)\n",
    "\n",
    "train_batched = tf.data.Dataset.from_tensor_slices((X_train, y_train)).batch(len(y_train)) # for testing on train set\n",
    "test_batched = tf.data.Dataset.from_tensor_slices((X_test, y_test)).batch(len(y_test))"
   ]
  },
  {
   "cell_type": "markdown",
   "id": "256452b5",
   "metadata": {},
   "source": [
    "## model"
   ]
  },
  {
   "cell_type": "code",
   "execution_count": 10,
   "id": "a47b29e4",
   "metadata": {},
   "outputs": [],
   "source": [
    "class CNN:\n",
    "    @staticmethod\n",
    "    def build(input_shape):\n",
    "        model = Sequential()\n",
    "        model.add(Conv2D(filters=32, kernel_size=(5,5), padding='same', activation='relu', input_shape=input_shape))\n",
    "        model.add(MaxPooling2D(pool_size=(2, 2)))\n",
    "        model.add(Conv2D(filters=64, padding='same', kernel_size=(5,5), activation='relu'))\n",
    "        model.add(MaxPooling2D(pool_size=(2, 2)))\n",
    "        model.add(Flatten())\n",
    "        model.add(Dense(512, activation='relu'))\n",
    "        model.add(Dense(10, activation='softmax'))\n",
    "        return model"
   ]
  },
  {
   "cell_type": "code",
   "execution_count": 11,
   "id": "4933d0f2",
   "metadata": {},
   "outputs": [
    {
     "name": "stdout",
     "output_type": "stream",
     "text": [
      "Model: \"sequential\"\n",
      "_________________________________________________________________\n",
      " Layer (type)                Output Shape              Param #   \n",
      "=================================================================\n",
      " conv2d (Conv2D)             (None, 28, 28, 32)        832       \n",
      "                                                                 \n",
      " max_pooling2d (MaxPooling2D  (None, 14, 14, 32)       0         \n",
      " )                                                               \n",
      "                                                                 \n",
      " conv2d_1 (Conv2D)           (None, 14, 14, 64)        51264     \n",
      "                                                                 \n",
      " max_pooling2d_1 (MaxPooling  (None, 7, 7, 64)         0         \n",
      " 2D)                                                             \n",
      "                                                                 \n",
      " flatten (Flatten)           (None, 3136)              0         \n",
      "                                                                 \n",
      " dense (Dense)               (None, 512)               1606144   \n",
      "                                                                 \n",
      " dense_1 (Dense)             (None, 10)                5130      \n",
      "                                                                 \n",
      "=================================================================\n",
      "Total params: 1,663,370\n",
      "Trainable params: 1,663,370\n",
      "Non-trainable params: 0\n",
      "_________________________________________________________________\n"
     ]
    }
   ],
   "source": [
    "model = CNN()\n",
    "local_model = model.build((28,28,1))\n",
    "local_model.summary()"
   ]
  },
  {
   "cell_type": "code",
   "execution_count": null,
   "id": "bdb9c5e0",
   "metadata": {},
   "outputs": [],
   "source": []
  },
  {
   "cell_type": "code",
   "execution_count": null,
   "id": "c126775a",
   "metadata": {},
   "outputs": [],
   "source": []
  },
  {
   "cell_type": "code",
   "execution_count": 12,
   "id": "a5fad5ab",
   "metadata": {},
   "outputs": [],
   "source": [
    "def send_msg(sock, msg):\n",
    "    # prefix each message with a 4-byte length in network byte order\n",
    "    msg = pickle.dumps(msg)\n",
    "    msg = struct.pack('>I', len(msg)) + msg\n",
    "    sock.sendall(msg)\n",
    "\n",
    "def recv_msg(sock):\n",
    "    # read message length and unpack it into an integer\n",
    "    raw_msglen = recvall(sock, 4)\n",
    "    if not raw_msglen:\n",
    "        return None\n",
    "    msglen = struct.unpack('>I', raw_msglen)[0]\n",
    "    # read the message data\n",
    "    msg =  recvall(sock, msglen)\n",
    "    msg = pickle.loads(msg)\n",
    "    return msg\n",
    "\n",
    "def recvall(sock, n):\n",
    "    # helper function to receive n bytes or return None if EOF is hit\n",
    "    data = b''\n",
    "    while len(data) < n:\n",
    "        packet = sock.recv(n - len(data))\n",
    "        if not packet:\n",
    "            return None\n",
    "        data += packet\n",
    "    return data"
   ]
  },
  {
   "cell_type": "markdown",
   "id": "8fd2a052",
   "metadata": {},
   "source": [
    "### Set host address and port number"
   ]
  },
  {
   "cell_type": "code",
   "execution_count": 17,
   "id": "97678404",
   "metadata": {},
   "outputs": [],
   "source": [
    "# host_name = input(\"IP address: \")\n",
    "host_name = '172.31.20.147'\n",
    "port_number = 12345\n",
    "max_recv = 100000"
   ]
  },
  {
   "cell_type": "code",
   "execution_count": null,
   "id": "306b0b34",
   "metadata": {},
   "outputs": [],
   "source": []
  },
  {
   "cell_type": "markdown",
   "id": "add446f1",
   "metadata": {},
   "source": [
    "## SET TIMER"
   ]
  },
  {
   "cell_type": "code",
   "execution_count": 18,
   "id": "dd4b6f05",
   "metadata": {},
   "outputs": [
    {
     "name": "stdout",
     "output_type": "stream",
     "text": [
      "timmer start!\n"
     ]
    }
   ],
   "source": [
    "start_time = time.time()    # store start time\n",
    "print(\"timmer start!\")"
   ]
  },
  {
   "cell_type": "markdown",
   "id": "5ef6fb42",
   "metadata": {},
   "source": [
    "### Open the client socket"
   ]
  },
  {
   "cell_type": "code",
   "execution_count": 19,
   "id": "5cdbf05d",
   "metadata": {},
   "outputs": [
    {
     "ename": "ConnectionRefusedError",
     "evalue": "[Errno 111] Connection refused",
     "output_type": "error",
     "traceback": [
      "\u001b[0;31m---------------------------------------------------------------------------\u001b[0m",
      "\u001b[0;31mConnectionRefusedError\u001b[0m                    Traceback (most recent call last)",
      "Cell \u001b[0;32mIn[19], line 2\u001b[0m\n\u001b[1;32m      1\u001b[0m s \u001b[38;5;241m=\u001b[39m socket\u001b[38;5;241m.\u001b[39msocket()\n\u001b[0;32m----> 2\u001b[0m \u001b[43ms\u001b[49m\u001b[38;5;241;43m.\u001b[39;49m\u001b[43mconnect\u001b[49m\u001b[43m(\u001b[49m\u001b[43m(\u001b[49m\u001b[43mhost_name\u001b[49m\u001b[43m,\u001b[49m\u001b[43m \u001b[49m\u001b[43mport_number\u001b[49m\u001b[43m)\u001b[49m\u001b[43m)\u001b[49m\n\u001b[1;32m      3\u001b[0m r \u001b[38;5;241m=\u001b[39m \u001b[38;5;241m0\u001b[39m\n",
      "\u001b[0;31mConnectionRefusedError\u001b[0m: [Errno 111] Connection refused"
     ]
    }
   ],
   "source": [
    "s = socket.socket()\n",
    "s.connect((host_name, port_number))\n",
    "r = 0"
   ]
  },
  {
   "cell_type": "code",
   "execution_count": 16,
   "id": "26813ba8",
   "metadata": {},
   "outputs": [],
   "source": [
    "loss='categorical_crossentropy'\n",
    "metrics = ['accuracy']"
   ]
  },
  {
   "cell_type": "code",
   "execution_count": 17,
   "id": "96ce9adc",
   "metadata": {},
   "outputs": [
    {
     "name": "stdout",
     "output_type": "stream",
     "text": [
      "Epoch 1/5\n",
      "60/60 [==============================] - 2s 24ms/step - loss: 0.5359 - accuracy: 0.8633\n",
      "Epoch 2/5\n",
      "60/60 [==============================] - 2s 27ms/step - loss: 0.0175 - accuracy: 0.9933\n",
      "Epoch 3/5\n",
      "60/60 [==============================] - 2s 26ms/step - loss: 0.0078 - accuracy: 0.9967\n",
      "Epoch 4/5\n",
      "60/60 [==============================] - 2s 27ms/step - loss: 0.0030 - accuracy: 1.0000\n",
      "Epoch 5/5\n",
      "60/60 [==============================] - 1s 23ms/step - loss: 0.0017 - accuracy: 1.0000\n",
      "Round 1 local training finished\n",
      "Epoch 1/5\n",
      "60/60 [==============================] - 1s 20ms/step - loss: 0.0051 - accuracy: 1.0000\n",
      "Epoch 2/5\n",
      "60/60 [==============================] - 1s 22ms/step - loss: 0.0044 - accuracy: 0.9983\n",
      "Epoch 3/5\n",
      "60/60 [==============================] - 1s 24ms/step - loss: 0.0017 - accuracy: 1.0000\n",
      "Epoch 4/5\n",
      "60/60 [==============================] - 2s 26ms/step - loss: 0.0013 - accuracy: 1.0000\n",
      "Epoch 5/5\n",
      "60/60 [==============================] - 2s 25ms/step - loss: 5.8401e-04 - accuracy: 1.0000\n",
      "Round 2 local training finished\n",
      "Epoch 1/5\n",
      "60/60 [==============================] - 2s 25ms/step - loss: 8.2691e-04 - accuracy: 1.0000\n",
      "Epoch 2/5\n",
      "60/60 [==============================] - 2s 25ms/step - loss: 6.8963e-04 - accuracy: 1.0000\n",
      "Epoch 3/5\n",
      "60/60 [==============================] - 2s 26ms/step - loss: 4.2507e-04 - accuracy: 1.0000\n",
      "Epoch 4/5\n",
      "60/60 [==============================] - 1s 23ms/step - loss: 3.2574e-04 - accuracy: 1.0000\n",
      "Epoch 5/5\n",
      "60/60 [==============================] - 1s 22ms/step - loss: 2.9940e-04 - accuracy: 1.0000\n",
      "Round 3 local training finished\n"
     ]
    },
    {
     "ename": "KeyboardInterrupt",
     "evalue": "",
     "output_type": "error",
     "traceback": [
      "\u001b[0;31m---------------------------------------------------------------------------\u001b[0m",
      "\u001b[0;31mKeyboardInterrupt\u001b[0m                         Traceback (most recent call last)",
      "\u001b[0;32m<ipython-input-17-b3cf6d796731>\u001b[0m in \u001b[0;36m<module>\u001b[0;34m\u001b[0m\n\u001b[1;32m      5\u001b[0m \u001b[0mweight\u001b[0m \u001b[0;34m=\u001b[0m \u001b[0;36m0\u001b[0m\u001b[0;34m\u001b[0m\u001b[0;34m\u001b[0m\u001b[0m\n\u001b[1;32m      6\u001b[0m \u001b[0;32mwhile\u001b[0m \u001b[0mr\u001b[0m \u001b[0;34m<\u001b[0m \u001b[0mrounds\u001b[0m\u001b[0;34m:\u001b[0m\u001b[0;34m\u001b[0m\u001b[0;34m\u001b[0m\u001b[0m\n\u001b[0;32m----> 7\u001b[0;31m     \u001b[0mmsg\u001b[0m \u001b[0;34m=\u001b[0m \u001b[0mrecv_msg\u001b[0m\u001b[0;34m(\u001b[0m\u001b[0ms\u001b[0m\u001b[0;34m)\u001b[0m\u001b[0;34m\u001b[0m\u001b[0;34m\u001b[0m\u001b[0m\n\u001b[0m\u001b[1;32m      8\u001b[0m     \u001b[0mrounds\u001b[0m \u001b[0;34m=\u001b[0m \u001b[0mmsg\u001b[0m\u001b[0;34m[\u001b[0m\u001b[0;34m'rounds'\u001b[0m\u001b[0;34m]\u001b[0m\u001b[0;34m\u001b[0m\u001b[0;34m\u001b[0m\u001b[0m\n\u001b[1;32m      9\u001b[0m     \u001b[0mr\u001b[0m \u001b[0;34m=\u001b[0m \u001b[0mmsg\u001b[0m\u001b[0;34m[\u001b[0m\u001b[0;34m'current_round'\u001b[0m\u001b[0;34m]\u001b[0m\u001b[0;34m\u001b[0m\u001b[0;34m\u001b[0m\u001b[0m\n",
      "\u001b[0;32m<ipython-input-12-589129c71170>\u001b[0m in \u001b[0;36mrecv_msg\u001b[0;34m(sock)\u001b[0m\n\u001b[1;32m      7\u001b[0m \u001b[0;32mdef\u001b[0m \u001b[0mrecv_msg\u001b[0m\u001b[0;34m(\u001b[0m\u001b[0msock\u001b[0m\u001b[0;34m)\u001b[0m\u001b[0;34m:\u001b[0m\u001b[0;34m\u001b[0m\u001b[0;34m\u001b[0m\u001b[0m\n\u001b[1;32m      8\u001b[0m     \u001b[0;31m# read message length and unpack it into an integer\u001b[0m\u001b[0;34m\u001b[0m\u001b[0;34m\u001b[0m\u001b[0;34m\u001b[0m\u001b[0m\n\u001b[0;32m----> 9\u001b[0;31m     \u001b[0mraw_msglen\u001b[0m \u001b[0;34m=\u001b[0m \u001b[0mrecvall\u001b[0m\u001b[0;34m(\u001b[0m\u001b[0msock\u001b[0m\u001b[0;34m,\u001b[0m \u001b[0;36m4\u001b[0m\u001b[0;34m)\u001b[0m\u001b[0;34m\u001b[0m\u001b[0;34m\u001b[0m\u001b[0m\n\u001b[0m\u001b[1;32m     10\u001b[0m     \u001b[0;32mif\u001b[0m \u001b[0;32mnot\u001b[0m \u001b[0mraw_msglen\u001b[0m\u001b[0;34m:\u001b[0m\u001b[0;34m\u001b[0m\u001b[0;34m\u001b[0m\u001b[0m\n\u001b[1;32m     11\u001b[0m         \u001b[0;32mreturn\u001b[0m \u001b[0;32mNone\u001b[0m\u001b[0;34m\u001b[0m\u001b[0;34m\u001b[0m\u001b[0m\n",
      "\u001b[0;32m<ipython-input-12-589129c71170>\u001b[0m in \u001b[0;36mrecvall\u001b[0;34m(sock, n)\u001b[0m\n\u001b[1;32m     20\u001b[0m     \u001b[0mdata\u001b[0m \u001b[0;34m=\u001b[0m \u001b[0;34mb''\u001b[0m\u001b[0;34m\u001b[0m\u001b[0;34m\u001b[0m\u001b[0m\n\u001b[1;32m     21\u001b[0m     \u001b[0;32mwhile\u001b[0m \u001b[0mlen\u001b[0m\u001b[0;34m(\u001b[0m\u001b[0mdata\u001b[0m\u001b[0;34m)\u001b[0m \u001b[0;34m<\u001b[0m \u001b[0mn\u001b[0m\u001b[0;34m:\u001b[0m\u001b[0;34m\u001b[0m\u001b[0;34m\u001b[0m\u001b[0m\n\u001b[0;32m---> 22\u001b[0;31m         \u001b[0mpacket\u001b[0m \u001b[0;34m=\u001b[0m \u001b[0msock\u001b[0m\u001b[0;34m.\u001b[0m\u001b[0mrecv\u001b[0m\u001b[0;34m(\u001b[0m\u001b[0mn\u001b[0m \u001b[0;34m-\u001b[0m \u001b[0mlen\u001b[0m\u001b[0;34m(\u001b[0m\u001b[0mdata\u001b[0m\u001b[0;34m)\u001b[0m\u001b[0;34m)\u001b[0m\u001b[0;34m\u001b[0m\u001b[0;34m\u001b[0m\u001b[0m\n\u001b[0m\u001b[1;32m     23\u001b[0m         \u001b[0;32mif\u001b[0m \u001b[0;32mnot\u001b[0m \u001b[0mpacket\u001b[0m\u001b[0;34m:\u001b[0m\u001b[0;34m\u001b[0m\u001b[0;34m\u001b[0m\u001b[0m\n\u001b[1;32m     24\u001b[0m             \u001b[0;32mreturn\u001b[0m \u001b[0;32mNone\u001b[0m\u001b[0;34m\u001b[0m\u001b[0;34m\u001b[0m\u001b[0m\n",
      "\u001b[0;31mKeyboardInterrupt\u001b[0m: "
     ]
    }
   ],
   "source": [
    "# update weights from server\n",
    "# train\n",
    "\n",
    "# s.connect((host_name, port_number))\n",
    "weight = 0\n",
    "while r < rounds:\n",
    "    msg = recv_msg(s)\n",
    "    rounds = msg['rounds']\n",
    "    r = msg['current_round']\n",
    "    global_weights = msg['weight']\n",
    "    local_model.set_weights(global_weights)\n",
    "\n",
    "    optimizer = tf.keras.optimizers.legacy.SGD(learning_rate=lr)\n",
    "    local_model.compile(loss=loss, optimizer=optimizer, metrics=metrics)\n",
    "    local_model.fit(client_dataset_batched[client_order], epochs=E, verbose=1)\n",
    "    print('Round', r + 1, 'local training finished')\n",
    "\n",
    "    weight = local_model.get_weights()\n",
    "    reply = {\n",
    "        'rounds': rounds,\n",
    "        'weight': weight\n",
    "    }\n",
    "    send_msg(s, reply)\n",
    "    \n",
    "    r += 1"
   ]
  },
  {
   "cell_type": "code",
   "execution_count": null,
   "id": "1d209ee0",
   "metadata": {},
   "outputs": [],
   "source": [
    "end_time = time.time()  #store end time\n",
    "print(\"Training Time: {} sec\".format(end_time - start_time))"
   ]
  },
  {
   "cell_type": "code",
   "execution_count": null,
   "id": "85ee3ac3",
   "metadata": {},
   "outputs": [],
   "source": []
  }
 ],
 "metadata": {
  "kernelspec": {
   "display_name": "Python 3 (ipykernel)",
   "language": "python",
   "name": "python3"
  },
  "language_info": {
   "codemirror_mode": {
    "name": "ipython",
    "version": 3
   },
   "file_extension": ".py",
   "mimetype": "text/x-python",
   "name": "python",
   "nbconvert_exporter": "python",
   "pygments_lexer": "ipython3",
   "version": "3.10.10"
  }
 },
 "nbformat": 4,
 "nbformat_minor": 5
}
