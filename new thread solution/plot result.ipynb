{
 "cells": [
  {
   "cell_type": "code",
   "execution_count": 1,
   "id": "d9b5a0f1",
   "metadata": {},
   "outputs": [],
   "source": [
    "rounds = 100\n",
    "num_users = 10 # number of clients\n",
    "target_test_acc = 0.99\n",
    "lrs = [0.1]\n",
    "lr = 0.1\n",
    "C = 1\n",
    "E = 5\n",
    "B = 10 # 'all' for a single minibatch\n",
    "result_per_lr = {}"
   ]
  },
  {
   "cell_type": "code",
   "execution_count": 2,
   "id": "ac45e741",
   "metadata": {},
   "outputs": [],
   "source": [
    "import matplotlib.pyplot as plt\n",
    "import numpy as np\n",
    "import pickle"
   ]
  },
  {
   "cell_type": "code",
   "execution_count": 3,
   "id": "980b2207",
   "metadata": {},
   "outputs": [],
   "source": [
    "dir = ''"
   ]
  },
  {
   "cell_type": "code",
   "execution_count": 4,
   "id": "61abdec1",
   "metadata": {},
   "outputs": [],
   "source": [
    "with open(dir+'result_per_lr_10_1_5_0.1.pickle', 'rb') as handle:\n",
    "    result_per_lr = pickle.load(handle)"
   ]
  },
  {
   "cell_type": "code",
   "execution_count": 5,
   "id": "f5aba87b",
   "metadata": {},
   "outputs": [],
   "source": [
    "# print(result_per_lr)"
   ]
  },
  {
   "cell_type": "code",
   "execution_count": 6,
   "id": "c5bcd5ff",
   "metadata": {},
   "outputs": [
    {
     "name": "stdout",
     "output_type": "stream",
     "text": [
      "max accuracy: 0.9886\n"
     ]
    }
   ],
   "source": [
    "max_acc = max(result_per_lr[lr]['test_accs'])\n",
    "print(\"max accuracy:\", max_acc)"
   ]
  },
  {
   "cell_type": "code",
   "execution_count": 7,
   "id": "4b8156a5",
   "metadata": {},
   "outputs": [],
   "source": [
    "max_acc_rount = 0\n",
    "def get_plotted_metrics(result_per_lr, c_rounds):\n",
    "    plotted_train_accs= []\n",
    "    plotted_test_accs = []\n",
    "    plotted_train_losses = []\n",
    "    plotted_test_losses = []\n",
    "    max_acc_rount = 0\n",
    "    for c in range(c_rounds):\n",
    "        if result_per_lr[lr]['test_accs'][c] == max_acc:\n",
    "            max_acc_rount = c\n",
    "        plotted_train_accs.append(result_per_lr[lr]['train_accs'][c])\n",
    "        plotted_test_accs.append(result_per_lr[lr]['test_accs'][c])\n",
    "        plotted_train_losses.append(result_per_lr[lr]['train_losses'][c])\n",
    "        plotted_test_losses.append(result_per_lr[lr]['test_losses'][c])\n",
    "\n",
    "    return plotted_train_accs, plotted_test_accs, plotted_train_losses, plotted_test_losses, max_acc_rount"
   ]
  },
  {
   "cell_type": "code",
   "execution_count": 8,
   "id": "2780161a",
   "metadata": {},
   "outputs": [],
   "source": [
    "plotted_train_accs, plotted_test_accs, plotted_train_losses, plotted_test_losses, max_acc_rount = get_plotted_metrics(result_per_lr, rounds)"
   ]
  },
  {
   "cell_type": "code",
   "execution_count": 9,
   "id": "f798aeaf",
   "metadata": {},
   "outputs": [
    {
     "name": "stdout",
     "output_type": "stream",
     "text": [
      "84\n",
      "0.9886\n",
      "0.9886\n"
     ]
    }
   ],
   "source": [
    "print(max_acc_rount)\n",
    "print(result_per_lr[lr]['test_accs'][max_acc_rount])\n",
    "print(max_acc)"
   ]
  },
  {
   "cell_type": "code",
   "execution_count": 10,
   "id": "0237de74",
   "metadata": {},
   "outputs": [
    {
     "data": {
      "image/png": "[encoded data removed]",
      "text/plain": [
       "<Figure size 432x288 with 2 Axes>"
      ]
     },
     "metadata": {
      "needs_background": "light"
     },
     "output_type": "display_data"
    }
   ],
   "source": [
    "fig, ax = plt.subplots()\n",
    "ax.plot(range(1, len(plotted_train_accs)+1), plotted_train_accs, label='train')\n",
    "ax.plot(range(1,len(plotted_test_accs)+1), plotted_test_accs, label='test')\n",
    "ax.set_xticks(np.arange(0, len(plotted_test_accs)+1, 100))\n",
    "ax.axhline(y=target_test_acc, color='grey', linestyle='-', linewidth=0.5)\n",
    "ax.set_ylabel('accuracy')\n",
    "\n",
    "ax.set_xlabel('communication rounds')\n",
    "ax.set_title('B={}, C={}, E={}'.format(B, C, E))\n",
    "ax.legend()\n",
    "\n",
    "ax2 = ax.twinx()\n",
    "ax2.set_ylim(ax.get_ylim())\n",
    "ax2.set_yticks([target_test_acc])\n",
    "\n",
    "plt.show()"
   ]
  },
  {
   "cell_type": "code",
   "execution_count": 11,
   "id": "28c09d07",
   "metadata": {},
   "outputs": [],
   "source": [
    "n_round_at_target = None\n",
    "for i,acc in enumerate(plotted_test_accs):\n",
    "    if acc>=target_test_acc:\n",
    "        print(\"the number of rounds to achieve target test-accuracy: \")\n",
    "        n_round_at_target = i\n",
    "        print(n_round_at_target)\n",
    "        break;"
   ]
  },
  {
   "cell_type": "code",
   "execution_count": 12,
   "id": "46209e88",
   "metadata": {},
   "outputs": [],
   "source": [
    "loss_at_target = None\n",
    "for i,loss in enumerate(plotted_test_losses):\n",
    "    if n_round_at_target and i==n_round_at_target-1:\n",
    "        print(\"loss at target test-accuracy: \")\n",
    "        loss_at_target = loss\n",
    "        print(loss_at_target)\n",
    "        break;"
   ]
  },
  {
   "cell_type": "code",
   "execution_count": null,
   "id": "58603cbc",
   "metadata": {},
   "outputs": [],
   "source": []
  },
  {
   "cell_type": "code",
   "execution_count": null,
   "id": "c4a1173c",
   "metadata": {},
   "outputs": [],
   "source": []
  }
 ],
 "metadata": {
  "kernelspec": {
   "display_name": "Python 3",
   "language": "python",
   "name": "python3"
  },
  "language_info": {
   "codemirror_mode": {
    "name": "ipython",
    "version": 3
   },
   "file_extension": ".py",
   "mimetype": "text/x-python",
   "name": "python",
   "nbconvert_exporter": "python",
   "pygments_lexer": "ipython3",
   "version": "3.8.8"
  }
 },
 "nbformat": 4,
 "nbformat_minor": 5
}
