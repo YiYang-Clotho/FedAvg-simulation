{
 "cells": [
  {
   "cell_type": "markdown",
   "id": "37ed6969",
   "metadata": {},
   "source": [
    "# Server"
   ]
  },
  {
   "cell_type": "markdown",
   "id": "8de770af",
   "metadata": {},
   "source": [
    "## Setting variables"
   ]
  },
  {
   "cell_type": "code",
   "execution_count": 1,
   "id": "d99f6019",
   "metadata": {},
   "outputs": [],
   "source": [
    "rounds = 100\n",
    "num_users = 10 # number of clients\n",
    "target_test_acc = 0.99\n",
    "lrs = [0.1]\n",
    "\n",
    "C = 1\n",
    "E = 5\n",
    "B = 10 # 'all' for a single minibatch"
   ]
  },
  {
   "cell_type": "code",
   "execution_count": 2,
   "id": "75ecf253",
   "metadata": {},
   "outputs": [
    {
     "name": "stderr",
     "output_type": "stream",
     "text": [
      "2023-05-08 08:14:03.956831: I tensorflow/core/platform/cpu_feature_guard.cc:182] This TensorFlow binary is optimized to use available CPU instructions in performance-critical operations.\n",
      "To enable the following instructions: AVX2 FMA, in other operations, rebuild TensorFlow with the appropriate compiler flags.\n",
      "2023-05-08 08:14:04.924204: W tensorflow/compiler/tf2tensorrt/utils/py_utils.cc:38] TF-TRT Warning: Could not find TensorRT\n"
     ]
    }
   ],
   "source": [
    "import os\n",
    "\n",
    "import socket\n",
    "import struct\n",
    "import pickle\n",
    "import sys\n",
    "\n",
    "from threading import Thread\n",
    "from threading import Lock\n",
    "\n",
    "import copy\n",
    "\n",
    "import logging\n",
    "import math\n",
    "import random\n",
    "import re\n",
    "import time\n",
    "import matplotlib.pyplot as plt\n",
    "import numpy as np\n",
    "import tensorflow as tf\n",
    "from datetime import timedelta\n",
    "from keras import backend as K\n",
    "from sklearn.metrics import accuracy_score\n",
    "from sklearn.preprocessing import LabelBinarizer\n",
    "from tensorflow import keras\n",
    "from tensorflow.keras.models import Sequential\n",
    "from tensorflow.keras.layers import Activation\n",
    "from tensorflow.keras.layers import Conv2D\n",
    "from tensorflow.keras.layers import Dense\n",
    "from tensorflow.keras.layers import MaxPooling2D\n",
    "from tensorflow.keras.layers import Flatten\n",
    "from tensorflow.keras.optimizers import SGD\n",
    "from tqdm import tqdm\n",
    "tf.get_logger().setLevel(logging.ERROR)"
   ]
  },
  {
   "cell_type": "markdown",
   "id": "31e026b7",
   "metadata": {},
   "source": [
    "## Device"
   ]
  },
  {
   "cell_type": "code",
   "execution_count": 3,
   "id": "ca54d616",
   "metadata": {},
   "outputs": [],
   "source": [
    "# if tf.test.gpu_device_name():\n",
    "#     device = \"gpu\"\n",
    "# else:\n",
    "#     device = \"cpu\"\n",
    "\n",
    "# print(device)"
   ]
  },
  {
   "cell_type": "markdown",
   "id": "20256a47",
   "metadata": {},
   "source": [
    "## Model"
   ]
  },
  {
   "cell_type": "markdown",
   "id": "ab65c69a",
   "metadata": {},
   "source": [
    "A CNN with two 5x5 convolution layers (the first with 32 channels, the second with 64, each followed with 2x2 max pooling), a fully connected layer with 512 units and ReLu activation, and a final softmax output layer (1,663,370 total parameters)"
   ]
  },
  {
   "cell_type": "code",
   "execution_count": 4,
   "id": "95101fbe",
   "metadata": {},
   "outputs": [],
   "source": [
    "class CNN:\n",
    "    @staticmethod\n",
    "    def build(input_shape):\n",
    "        model = Sequential()\n",
    "        model.add(Conv2D(filters=32, kernel_size=(5,5), padding='same', activation='relu', input_shape=input_shape))\n",
    "        model.add(MaxPooling2D(pool_size=(2, 2)))\n",
    "        model.add(Conv2D(filters=64, padding='same', kernel_size=(5,5), activation='relu'))\n",
    "        model.add(MaxPooling2D(pool_size=(2, 2)))\n",
    "        model.add(Flatten())\n",
    "        model.add(Dense(512, activation='relu'))\n",
    "        model.add(Dense(10, activation='softmax'))\n",
    "        return model"
   ]
  },
  {
   "cell_type": "markdown",
   "id": "5ed60a1e",
   "metadata": {},
   "source": [
    "initialize global model"
   ]
  },
  {
   "cell_type": "code",
   "execution_count": 5,
   "id": "3f4a3388",
   "metadata": {},
   "outputs": [
    {
     "name": "stdout",
     "output_type": "stream",
     "text": [
      "Model: \"sequential\"\n",
      "_________________________________________________________________\n",
      " Layer (type)                Output Shape              Param #   \n",
      "=================================================================\n",
      " conv2d (Conv2D)             (None, 28, 28, 32)        832       \n",
      "                                                                 \n",
      " max_pooling2d (MaxPooling2D  (None, 14, 14, 32)       0         \n",
      " )                                                               \n",
      "                                                                 \n",
      " conv2d_1 (Conv2D)           (None, 14, 14, 64)        51264     \n",
      "                                                                 \n",
      " max_pooling2d_1 (MaxPooling  (None, 7, 7, 64)         0         \n",
      " 2D)                                                             \n",
      "                                                                 \n",
      " flatten (Flatten)           (None, 3136)              0         \n",
      "                                                                 \n",
      " dense (Dense)               (None, 512)               1606144   \n",
      "                                                                 \n",
      " dense_1 (Dense)             (None, 10)                5130      \n",
      "                                                                 \n",
      "=================================================================\n",
      "Total params: 1,663,370\n",
      "Trainable params: 1,663,370\n",
      "Non-trainable params: 0\n",
      "_________________________________________________________________\n"
     ]
    },
    {
     "name": "stderr",
     "output_type": "stream",
     "text": [
      "2023-05-08 08:14:06.856776: E tensorflow/compiler/xla/stream_executor/cuda/cuda_driver.cc:266] failed call to cuInit: CUDA_ERROR_NO_DEVICE: no CUDA-capable device is detected\n"
     ]
    }
   ],
   "source": [
    "model = CNN()\n",
    "  \n",
    "global_model = model.build((28,28,1))\n",
    "initial_weights = global_model.get_weights()\n",
    "\n",
    "global_model.summary()"
   ]
  },
  {
   "cell_type": "code",
   "execution_count": 6,
   "id": "351058de",
   "metadata": {},
   "outputs": [
    {
     "name": "stderr",
     "output_type": "stream",
     "text": [
      "WARNING:absl:Found untraced functions such as _jit_compiled_convolution_op, _jit_compiled_convolution_op while saving (showing 2 of 2). These functions will not be directly callable after loading.\n"
     ]
    }
   ],
   "source": [
    "# Save the entire model as a SavedModel.\n",
    "!mkdir -p saved_model\n",
    "global_model.save('saved_model/global_model')"
   ]
  },
  {
   "cell_type": "markdown",
   "id": "674c7d2c",
   "metadata": {},
   "source": [
    "# Load data"
   ]
  },
  {
   "cell_type": "code",
   "execution_count": 7,
   "id": "2741eeab",
   "metadata": {},
   "outputs": [],
   "source": [
    "mnist = tf.keras.datasets.mnist\n",
    "(X_train, y_train), (X_test, y_test) = mnist.load_data()"
   ]
  },
  {
   "cell_type": "code",
   "execution_count": 8,
   "id": "3271172e",
   "metadata": {},
   "outputs": [
    {
     "name": "stdout",
     "output_type": "stream",
     "text": [
      "x_train shape: (60000, 28, 28, 1)\n",
      "60000 train samples\n",
      "10000 test samples\n"
     ]
    }
   ],
   "source": [
    "X_train = X_train.astype(\"float32\")/255\n",
    "X_test = X_test.astype(\"float32\")/255\n",
    "X_train = np.expand_dims(X_train, -1)\n",
    "X_test = np.expand_dims(X_test, -1)\n",
    "y_train = keras.utils.to_categorical(y_train, 10)\n",
    "y_test = keras.utils.to_categorical(y_test, 10)\n",
    "\n",
    "print(\"x_train shape:\", X_train.shape)\n",
    "print(X_train.shape[0], \"train samples\")\n",
    "print(X_test.shape[0], \"test samples\")"
   ]
  },
  {
   "cell_type": "code",
   "execution_count": 9,
   "id": "08866f4a",
   "metadata": {},
   "outputs": [],
   "source": [
    "train_batched = tf.data.Dataset.from_tensor_slices((X_train, y_train)).batch(len(y_train)) # for testing on train set\n",
    "test_batched = tf.data.Dataset.from_tensor_slices((X_test, y_test)).batch(len(y_test))"
   ]
  },
  {
   "cell_type": "markdown",
   "id": "1386ff9e",
   "metadata": {},
   "source": [
    "## variables"
   ]
  },
  {
   "cell_type": "code",
   "execution_count": 10,
   "id": "e9b946d1",
   "metadata": {},
   "outputs": [],
   "source": [
    "global global_weights    \n",
    "\n",
    "clientsoclist = [0]*num_users\n",
    "\n",
    "start_time = 0\n",
    "weight_count = 0\n",
    "\n",
    "global_weights = initial_weights\n",
    "weights_list = {}\n",
    "\n",
    "lock = Lock()"
   ]
  },
  {
   "cell_type": "markdown",
   "id": "329d2aa8",
   "metadata": {},
   "source": [
    "## Socket initialization\n",
    "### Set host address and port number"
   ]
  },
  {
   "cell_type": "markdown",
   "id": "9cf47e0c",
   "metadata": {},
   "source": [
    "### Required socket functions"
   ]
  },
  {
   "cell_type": "code",
   "execution_count": 11,
   "id": "5bdef5c9",
   "metadata": {},
   "outputs": [],
   "source": [
    "def send_msg(sock, msg):\n",
    "    # prefix each message with a 4-byte length in network byte order\n",
    "    msg = pickle.dumps(msg)\n",
    "    l_send = len(msg)\n",
    "    msg = struct.pack('>I', l_send) + msg\n",
    "    sock.sendall(msg)\n",
    "    return l_send\n",
    "\n",
    "def recv_msg(sock):\n",
    "    # read message length and unpack it into an integer\n",
    "    raw_msglen = recvall(sock, 4)\n",
    "    if not raw_msglen:\n",
    "        return None\n",
    "    msglen = struct.unpack('>I', raw_msglen)[0]\n",
    "    # read the message data\n",
    "    msg =  recvall(sock, msglen)\n",
    "    msg = pickle.loads(msg)\n",
    "    return msg\n",
    "\n",
    "def recvall(sock, n):\n",
    "    # helper function to receive n bytes or return None if EOF is hit\n",
    "    data = b''\n",
    "    while len(data) < n:\n",
    "        packet = sock.recv(n - len(data))\n",
    "        if not packet:\n",
    "            return None\n",
    "        data += packet\n",
    "    return data"
   ]
  },
  {
   "cell_type": "code",
   "execution_count": 12,
   "id": "85d51008",
   "metadata": {},
   "outputs": [],
   "source": [
    "def average_weights(weights_list):\n",
    "    avg_weights = list()\n",
    "    for j in range(len(global_weights)):\n",
    "        weights = [weights_list[k][j] for k in range(num_users)]\n",
    "        layer_mean = tf.math.reduce_mean(weights, axis=0)\n",
    "        avg_weights.append(layer_mean)\n",
    "        \n",
    "    return avg_weights"
   ]
  },
  {
   "cell_type": "markdown",
   "id": "b78fdb23",
   "metadata": {},
   "source": [
    "## Receive users for aggregation"
   ]
  },
  {
   "cell_type": "code",
   "execution_count": 13,
   "id": "76b5c77f",
   "metadata": {},
   "outputs": [],
   "source": [
    "def receive(userid, num_users, conn): #thread for receive clients\n",
    "    global weight_count\n",
    "    global global_weights\n",
    "    global weights_list\n",
    "    \n",
    "    msg = {\n",
    "        'rounds': rounds,\n",
    "        'client_id': userid,\n",
    "        'weight': global_weights\n",
    "    }\n",
    "    distribute = send_msg(conn, msg)    #send global weight\n",
    "    r = recv_msg(conn)    # get weights from clients\n",
    "    with lock:\n",
    "        weights_list[userid] = r['weight']\n",
    "        weight_count += 1\n",
    "        \n",
    "        if weight_count == num_users:\n",
    "            global_weights = average_weights(weights_list)\n",
    "            weight_count = 0"
   ]
  },
  {
   "cell_type": "markdown",
   "id": "246b60e7",
   "metadata": {},
   "source": [
    "## Thread define"
   ]
  },
  {
   "cell_type": "code",
   "execution_count": 14,
   "id": "0c48a927",
   "metadata": {},
   "outputs": [],
   "source": [
    "def run_thread(func, num_user):\n",
    "    global clientsoclist\n",
    "    global start_time\n",
    "    \n",
    "    thrs = []\n",
    "    print(\"timer start!\")\n",
    "    start_time = time.time()    # store start time\n",
    "    for i in range(num_user):\n",
    "        conn, addr = s.accept()\n",
    "        print('Conntected with', addr)\n",
    "        # append client socket on list\n",
    "        clientsoclist[i] = conn\n",
    "        args = (i, num_user, conn)\n",
    "        thread = Thread(target=func, args=args)\n",
    "        thrs.append(thread)\n",
    "        thread.start()\n",
    "    for thread in thrs:\n",
    "        thread.join()\n",
    "    end_time = time.time()  # store end time\n",
    "    print(\"TrainingTime: {} sec\".format(end_time - start_time))"
   ]
  },
  {
   "cell_type": "code",
   "execution_count": 15,
   "id": "16a79683",
   "metadata": {
    "scrolled": true
   },
   "outputs": [
    {
     "name": "stdout",
     "output_type": "stream",
     "text": [
      "172.31.26.96\n"
     ]
    }
   ],
   "source": [
    "host_name = socket.gethostbyname(socket.gethostname())\n",
    "# host_name = '172.31.2.147'\n",
    "port_number = 12345\n",
    "print(host_name)"
   ]
  },
  {
   "cell_type": "code",
   "execution_count": 16,
   "id": "f02bf287",
   "metadata": {},
   "outputs": [
    {
     "name": "stdout",
     "output_type": "stream",
     "text": [
      "172.31.26.96\n"
     ]
    }
   ],
   "source": [
    "print(host_name)"
   ]
  },
  {
   "cell_type": "markdown",
   "id": "826c433d",
   "metadata": {},
   "source": [
    "### Open the server socket"
   ]
  },
  {
   "cell_type": "code",
   "execution_count": 17,
   "id": "549e34a8",
   "metadata": {},
   "outputs": [],
   "source": [
    "s = socket.socket()\n",
    "s.bind((host_name, port_number))\n",
    "s.listen(10)"
   ]
  },
  {
   "cell_type": "markdown",
   "id": "0136545a",
   "metadata": {},
   "source": [
    "## Comunication overhead"
   ]
  },
  {
   "cell_type": "code",
   "execution_count": 18,
   "id": "495b15e9",
   "metadata": {
    "scrolled": false
   },
   "outputs": [
    {
     "name": "stdout",
     "output_type": "stream",
     "text": [
      "\n",
      "learning rate: 0.1\n",
      "timer start!\n",
      "Conntected with ('172.31.26.96', 50192)\n",
      "Conntected with ('172.31.26.96', 50202)\n",
      "Conntected with ('172.31.26.38', 49742)\n",
      "Conntected with ('172.31.26.38', 49756)\n",
      "Conntected with ('172.31.26.38', 49766)\n",
      "Conntected with ('172.31.26.38', 49782)\n",
      "Conntected with ('172.31.23.109', 47954)\n",
      "Conntected with ('172.31.23.109', 47970)\n",
      "Conntected with ('172.31.23.109', 47974)\n",
      "Conntected with ('172.31.23.109', 47976)\n",
      "TrainingTime: 411.32035970687866 sec\n"
     ]
    },
    {
     "name": "stderr",
     "output_type": "stream",
     "text": [
      "WARNING:absl:Found untraced functions such as _jit_compiled_convolution_op, _jit_compiled_convolution_op while saving (showing 2 of 2). These functions will not be directly callable after loading.\n",
      "2023-05-08 08:21:01.186509: I tensorflow/core/common_runtime/executor.cc:1197] [/device:CPU:0] (DEBUG INFO) Executor start aborting (this does not indicate an error and you can ignore this message): INVALID_ARGUMENT: You must feed a value for placeholder tensor 'Placeholder/_1' with dtype float and shape [60000,10]\n",
      "\t [[{{node Placeholder/_1}}]]\n"
     ]
    },
    {
     "name": "stdout",
     "output_type": "stream",
     "text": [
      "1875/1875 [==============================] - 15s 8ms/step\n",
      "  1/313 [..............................] - ETA: 25s"
     ]
    },
    {
     "name": "stderr",
     "output_type": "stream",
     "text": [
      "2023-05-08 08:21:17.912379: I tensorflow/core/common_runtime/executor.cc:1197] [/device:CPU:0] (DEBUG INFO) Executor start aborting (this does not indicate an error and you can ignore this message): INVALID_ARGUMENT: You must feed a value for placeholder tensor 'Placeholder/_1' with dtype float and shape [10000,10]\n",
      "\t [[{{node Placeholder/_1}}]]\n"
     ]
    },
    {
     "name": "stdout",
     "output_type": "stream",
     "text": [
      "313/313 [==============================] - 3s 8ms/step\n",
      "comm_round: 1/100 | test_acc: 57.920% | test_loss: 1.99 | train_acc: 57.238% | train_loss: 1.99 | elapsed: 0:00:20.574748\n",
      "\n",
      "\n",
      "timer start!\n",
      "Conntected with ('172.31.26.96', 57766)\n",
      "Conntected with ('172.31.26.96', 57772)\n",
      "Conntected with ('172.31.26.38', 58204)\n",
      "Conntected with ('172.31.23.109', 42428)\n",
      "Conntected with ('172.31.23.109', 48724)\n",
      "Conntected with ('172.31.26.38', 36150)\n",
      "Conntected with ('172.31.23.109', 60560)\n",
      "Conntected with ('172.31.23.109', 33186)\n",
      "Conntected with ('172.31.26.38', 54732)\n",
      "Conntected with ('172.31.26.38', 54740)\n",
      "TrainingTime: 130.95165634155273 sec\n"
     ]
    },
    {
     "name": "stderr",
     "output_type": "stream",
     "text": [
      "WARNING:absl:Found untraced functions such as _jit_compiled_convolution_op, _jit_compiled_convolution_op while saving (showing 2 of 2). These functions will not be directly callable after loading.\n"
     ]
    },
    {
     "name": "stdout",
     "output_type": "stream",
     "text": [
      "1875/1875 [==============================] - 15s 8ms/step\n",
      "313/313 [==============================] - 3s 8ms/step\n",
      "comm_round: 2/100 | test_acc: 72.690% | test_loss: 0.838 | train_acc: 72.485% | train_loss: 0.854 | elapsed: 0:00:19.547050\n",
      "\n",
      "\n",
      "timer start!\n",
      "Conntected with ('172.31.26.96', 49260)\n",
      "Conntected with ('172.31.26.96', 34958)\n",
      "Conntected with ('172.31.23.109', 39650)\n",
      "Conntected with ('172.31.26.38', 42784)\n",
      "Conntected with ('172.31.26.38', 36944)\n",
      "Conntected with ('172.31.23.109', 45488)\n",
      "Conntected with ('172.31.23.109', 36374)\n",
      "Conntected with ('172.31.26.38', 33948)\n",
      "Conntected with ('172.31.23.109', 40418)\n",
      "Conntected with ('172.31.26.38', 52512)\n",
      "TrainingTime: 130.48813605308533 sec\n"
     ]
    },
    {
     "name": "stderr",
     "output_type": "stream",
     "text": [
      "WARNING:absl:Found untraced functions such as _jit_compiled_convolution_op, _jit_compiled_convolution_op while saving (showing 2 of 2). These functions will not be directly callable after loading.\n"
     ]
    },
    {
     "name": "stdout",
     "output_type": "stream",
     "text": [
      "1875/1875 [==============================] - 15s 8ms/step\n",
      "313/313 [==============================] - 3s 8ms/step\n",
      "comm_round: 3/100 | test_acc: 87.660% | test_loss: 0.396 | train_acc: 87.010% | train_loss: 0.41 | elapsed: 0:00:19.738871\n",
      "\n",
      "\n",
      "timer start!\n",
      "Conntected with ('172.31.26.96', 38422)\n",
      "Conntected with ('172.31.26.38', 50626)\n",
      "Conntected with ('172.31.26.96', 40462)\n",
      "Conntected with ('172.31.23.109', 35512)\n",
      "Conntected with ('172.31.23.109', 45606)\n",
      "Conntected with ('172.31.26.38', 52344)\n",
      "Conntected with ('172.31.23.109', 56130)\n",
      "Conntected with ('172.31.23.109', 56132)\n",
      "Conntected with ('172.31.26.38', 47604)\n",
      "Conntected with ('172.31.26.38', 44224)\n",
      "TrainingTime: 136.54810976982117 sec\n"
     ]
    },
    {
     "name": "stderr",
     "output_type": "stream",
     "text": [
      "WARNING:absl:Found untraced functions such as _jit_compiled_convolution_op, _jit_compiled_convolution_op while saving (showing 2 of 2). These functions will not be directly callable after loading.\n"
     ]
    },
    {
     "name": "stdout",
     "output_type": "stream",
     "text": [
      "1875/1875 [==============================] - 15s 8ms/step\n",
      "313/313 [==============================] - 3s 8ms/step\n",
      "comm_round: 4/100 | test_acc: 91.910% | test_loss: 0.265 | train_acc: 91.338% | train_loss: 0.277 | elapsed: 0:00:19.798662\n",
      "\n",
      "\n",
      "timer start!\n",
      "Conntected with ('172.31.26.96', 37338)\n",
      "Conntected with ('172.31.26.96', 47412)\n",
      "Conntected with ('172.31.26.38', 40506)\n",
      "Conntected with ('172.31.23.109', 52548)\n",
      "Conntected with ('172.31.26.38', 44532)\n",
      "Conntected with ('172.31.23.109', 41694)\n",
      "Conntected with ('172.31.23.109', 41710)\n",
      "Conntected with ('172.31.26.38', 55630)\n",
      "Conntected with ('172.31.23.109', 55318)\n",
      "Conntected with ('172.31.26.38', 48562)\n",
      "TrainingTime: 138.73277473449707 sec\n"
     ]
    },
    {
     "name": "stderr",
     "output_type": "stream",
     "text": [
      "WARNING:absl:Found untraced functions such as _jit_compiled_convolution_op, _jit_compiled_convolution_op while saving (showing 2 of 2). These functions will not be directly callable after loading.\n"
     ]
    },
    {
     "name": "stdout",
     "output_type": "stream",
     "text": [
      "1875/1875 [==============================] - 15s 8ms/step\n",
      "313/313 [==============================] - 3s 8ms/step\n",
      "comm_round: 5/100 | test_acc: 94.230% | test_loss: 0.179 | train_acc: 94.122% | train_loss: 0.189 | elapsed: 0:00:20.006162\n",
      "\n",
      "\n",
      "timer start!\n",
      "Conntected with ('172.31.26.96', 45760)\n",
      "Conntected with ('172.31.26.96', 45774)\n",
      "Conntected with ('172.31.26.38', 36984)\n",
      "Conntected with ('172.31.23.109', 36284)\n",
      "Conntected with ('172.31.23.109', 40414)\n",
      "Conntected with ('172.31.26.38', 48258)\n",
      "Conntected with ('172.31.26.38', 48262)\n",
      "Conntected with ('172.31.26.38', 49024)\n",
      "Conntected with ('172.31.23.109', 37106)\n",
      "Conntected with ('172.31.23.109', 37120)\n",
      "TrainingTime: 129.24039912223816 sec\n"
     ]
    },
    {
     "name": "stderr",
     "output_type": "stream",
     "text": [
      "WARNING:absl:Found untraced functions such as _jit_compiled_convolution_op, _jit_compiled_convolution_op while saving (showing 2 of 2). These functions will not be directly callable after loading.\n"
     ]
    },
    {
     "name": "stdout",
     "output_type": "stream",
     "text": [
      "1875/1875 [==============================] - 15s 8ms/step\n",
      "313/313 [==============================] - 3s 8ms/step\n",
      "comm_round: 6/100 | test_acc: 95.960% | test_loss: 0.137 | train_acc: 95.812% | train_loss: 0.145 | elapsed: 0:00:20.067992\n",
      "\n",
      "\n",
      "timer start!\n",
      "Conntected with ('172.31.26.96', 44200)\n",
      "Conntected with ('172.31.26.96', 44206)\n",
      "Conntected with ('172.31.23.109', 59566)\n",
      "Conntected with ('172.31.26.38', 51860)\n",
      "Conntected with ('172.31.26.38', 35714)\n",
      "Conntected with ('172.31.23.109', 50694)\n",
      "Conntected with ('172.31.23.109', 37294)\n",
      "Conntected with ('172.31.26.38', 42480)\n",
      "Conntected with ('172.31.26.38', 42484)\n",
      "Conntected with ('172.31.23.109', 37306)\n",
      "TrainingTime: 129.65172028541565 sec\n"
     ]
    },
    {
     "name": "stderr",
     "output_type": "stream",
     "text": [
      "WARNING:absl:Found untraced functions such as _jit_compiled_convolution_op, _jit_compiled_convolution_op while saving (showing 2 of 2). These functions will not be directly callable after loading.\n"
     ]
    },
    {
     "name": "stdout",
     "output_type": "stream",
     "text": [
      "1875/1875 [==============================] - 15s 8ms/step\n",
      "313/313 [==============================] - 3s 8ms/step\n",
      "comm_round: 7/100 | test_acc: 95.840% | test_loss: 0.139 | train_acc: 95.623% | train_loss: 0.146 | elapsed: 0:00:19.666954\n",
      "\n",
      "\n",
      "timer start!\n",
      "Conntected with ('172.31.26.96', 51436)\n",
      "Conntected with ('172.31.26.96', 51438)\n",
      "Conntected with ('172.31.26.38', 39682)\n",
      "Conntected with ('172.31.23.109', 36538)\n",
      "Conntected with ('172.31.26.38', 48730)\n",
      "Conntected with ('172.31.26.38', 48744)\n",
      "Conntected with ('172.31.23.109', 33534)\n",
      "Conntected with ('172.31.23.109', 33542)\n",
      "Conntected with ('172.31.23.109', 33552)\n",
      "Conntected with ('172.31.26.38', 41822)\n",
      "TrainingTime: 126.32215309143066 sec\n"
     ]
    },
    {
     "name": "stderr",
     "output_type": "stream",
     "text": [
      "WARNING:absl:Found untraced functions such as _jit_compiled_convolution_op, _jit_compiled_convolution_op while saving (showing 2 of 2). These functions will not be directly callable after loading.\n"
     ]
    },
    {
     "name": "stdout",
     "output_type": "stream",
     "text": [
      "1875/1875 [==============================] - 15s 8ms/step\n",
      "313/313 [==============================] - 3s 8ms/step\n",
      "comm_round: 8/100 | test_acc: 97.080% | test_loss: 0.1 | train_acc: 96.852% | train_loss: 0.106 | elapsed: 0:00:19.545352\n",
      "\n",
      "\n",
      "timer start!\n",
      "Conntected with ('172.31.26.96', 46858)\n",
      "Conntected with ('172.31.26.96', 52112)\n",
      "Conntected with ('172.31.23.109', 54106)\n",
      "Conntected with ('172.31.26.38', 33058)\n",
      "Conntected with ('172.31.26.38', 33070)\n",
      "Conntected with ('172.31.26.38', 45860)\n",
      "Conntected with ('172.31.23.109', 52286)\n",
      "Conntected with ('172.31.26.38', 57162)\n",
      "Conntected with ('172.31.23.109', 52298)\n",
      "Conntected with ('172.31.23.109', 52314)\n",
      "TrainingTime: 140.76223015785217 sec\n"
     ]
    },
    {
     "name": "stderr",
     "output_type": "stream",
     "text": [
      "WARNING:absl:Found untraced functions such as _jit_compiled_convolution_op, _jit_compiled_convolution_op while saving (showing 2 of 2). These functions will not be directly callable after loading.\n"
     ]
    },
    {
     "name": "stdout",
     "output_type": "stream",
     "text": [
      "1875/1875 [==============================] - 15s 8ms/step\n",
      "313/313 [==============================] - 3s 8ms/step\n",
      "comm_round: 9/100 | test_acc: 96.480% | test_loss: 0.107 | train_acc: 96.442% | train_loss: 0.112 | elapsed: 0:00:19.778455\n",
      "\n",
      "\n",
      "timer start!\n",
      "Conntected with ('172.31.26.96', 42618)\n",
      "Conntected with ('172.31.26.96', 55762)\n",
      "Conntected with ('172.31.23.109', 35920)\n",
      "Conntected with ('172.31.26.38', 52542)\n",
      "Conntected with ('172.31.26.38', 52554)\n",
      "Conntected with ('172.31.26.38', 55334)\n",
      "Conntected with ('172.31.23.109', 45162)\n",
      "Conntected with ('172.31.23.109', 52870)\n",
      "Conntected with ('172.31.23.109', 38364)\n",
      "Conntected with ('172.31.26.38', 59574)\n",
      "TrainingTime: 132.7366271018982 sec\n"
     ]
    },
    {
     "name": "stderr",
     "output_type": "stream",
     "text": [
      "WARNING:absl:Found untraced functions such as _jit_compiled_convolution_op, _jit_compiled_convolution_op while saving (showing 2 of 2). These functions will not be directly callable after loading.\n"
     ]
    },
    {
     "name": "stdout",
     "output_type": "stream",
     "text": [
      "1875/1875 [==============================] - 15s 8ms/step\n",
      "313/313 [==============================] - 3s 8ms/step\n",
      "comm_round: 10/100 | test_acc: 97.280% | test_loss: 0.09 | train_acc: 97.115% | train_loss: 0.0952 | elapsed: 0:00:19.569041\n",
      "\n",
      "\n",
      "timer start!\n",
      "Conntected with ('172.31.26.96', 53852)\n",
      "Conntected with ('172.31.26.96', 41610)\n",
      "Conntected with ('172.31.26.38', 56886)\n",
      "Conntected with ('172.31.23.109', 37512)\n",
      "Conntected with ('172.31.26.38', 39186)\n",
      "Conntected with ('172.31.26.38', 58648)\n",
      "Conntected with ('172.31.23.109', 52514)\n",
      "Conntected with ('172.31.23.109', 57838)\n",
      "Conntected with ('172.31.26.38', 50152)\n",
      "Conntected with ('172.31.23.109', 57842)\n",
      "TrainingTime: 134.40747213363647 sec\n"
     ]
    },
    {
     "name": "stderr",
     "output_type": "stream",
     "text": [
      "WARNING:absl:Found untraced functions such as _jit_compiled_convolution_op, _jit_compiled_convolution_op while saving (showing 2 of 2). These functions will not be directly callable after loading.\n"
     ]
    },
    {
     "name": "stdout",
     "output_type": "stream",
     "text": [
      "1875/1875 [==============================] - 15s 8ms/step\n",
      "313/313 [==============================] - 3s 8ms/step\n",
      "comm_round: 11/100 | test_acc: 97.440% | test_loss: 0.079 | train_acc: 97.368% | train_loss: 0.084 | elapsed: 0:00:19.637222\n",
      "\n",
      "\n",
      "timer start!\n",
      "Conntected with ('172.31.26.96', 56708)\n",
      "Conntected with ('172.31.26.96', 50392)\n",
      "Conntected with ('172.31.23.109', 48818)\n",
      "Conntected with ('172.31.26.38', 36532)\n",
      "Conntected with ('172.31.23.109', 48820)\n",
      "Conntected with ('172.31.26.38', 36534)\n",
      "Conntected with ('172.31.26.38', 36538)\n",
      "Conntected with ('172.31.23.109', 33028)\n",
      "Conntected with ('172.31.26.38', 47430)\n",
      "Conntected with ('172.31.23.109', 45478)\n",
      "TrainingTime: 133.0425100326538 sec\n"
     ]
    },
    {
     "name": "stderr",
     "output_type": "stream",
     "text": [
      "WARNING:absl:Found untraced functions such as _jit_compiled_convolution_op, _jit_compiled_convolution_op while saving (showing 2 of 2). These functions will not be directly callable after loading.\n"
     ]
    },
    {
     "name": "stdout",
     "output_type": "stream",
     "text": [
      "1875/1875 [==============================] - 15s 8ms/step\n",
      "313/313 [==============================] - 3s 8ms/step\n",
      "comm_round: 12/100 | test_acc: 97.660% | test_loss: 0.0744 | train_acc: 97.555% | train_loss: 0.0781 | elapsed: 0:00:19.989146\n",
      "\n",
      "\n",
      "timer start!\n",
      "Conntected with ('172.31.26.96', 51258)\n",
      "Conntected with ('172.31.26.96', 40590)\n",
      "Conntected with ('172.31.23.109', 42168)\n",
      "Conntected with ('172.31.23.109', 58274)\n",
      "Conntected with ('172.31.26.38', 38828)\n",
      "Conntected with ('172.31.26.38', 38842)\n",
      "Conntected with ('172.31.26.38', 56520)\n",
      "Conntected with ('172.31.26.38', 56524)\n",
      "Conntected with ('172.31.23.109', 46444)\n",
      "Conntected with ('172.31.23.109', 46448)\n",
      "TrainingTime: 129.63949418067932 sec\n"
     ]
    },
    {
     "name": "stderr",
     "output_type": "stream",
     "text": [
      "WARNING:absl:Found untraced functions such as _jit_compiled_convolution_op, _jit_compiled_convolution_op while saving (showing 2 of 2). These functions will not be directly callable after loading.\n"
     ]
    },
    {
     "name": "stdout",
     "output_type": "stream",
     "text": [
      "1875/1875 [==============================] - 15s 8ms/step\n",
      "313/313 [==============================] - 3s 8ms/step\n",
      "comm_round: 13/100 | test_acc: 97.700% | test_loss: 0.0722 | train_acc: 97.585% | train_loss: 0.0752 | elapsed: 0:00:19.567651\n",
      "\n",
      "\n",
      "timer start!\n",
      "Conntected with ('172.31.26.96', 48156)\n",
      "Conntected with ('172.31.26.96', 51380)\n",
      "Conntected with ('172.31.23.109', 47574)\n",
      "Conntected with ('172.31.26.38', 49206)\n",
      "Conntected with ('172.31.26.38', 49208)\n",
      "Conntected with ('172.31.23.109', 51326)\n",
      "Conntected with ('172.31.26.38', 41208)\n",
      "Conntected with ('172.31.23.109', 51336)\n",
      "Conntected with ('172.31.26.38', 41220)\n",
      "Conntected with ('172.31.23.109', 43416)\n",
      "TrainingTime: 138.86871528625488 sec\n"
     ]
    },
    {
     "name": "stderr",
     "output_type": "stream",
     "text": [
      "WARNING:absl:Found untraced functions such as _jit_compiled_convolution_op, _jit_compiled_convolution_op while saving (showing 2 of 2). These functions will not be directly callable after loading.\n"
     ]
    },
    {
     "name": "stdout",
     "output_type": "stream",
     "text": [
      "1875/1875 [==============================] - 15s 8ms/step\n",
      "313/313 [==============================] - 3s 8ms/step\n",
      "comm_round: 14/100 | test_acc: 97.750% | test_loss: 0.0725 | train_acc: 97.495% | train_loss: 0.0754 | elapsed: 0:00:19.765812\n",
      "\n",
      "\n",
      "timer start!\n",
      "Conntected with ('172.31.26.96', 34910)\n",
      "Conntected with ('172.31.26.96', 34926)\n",
      "Conntected with ('172.31.26.38', 45692)\n",
      "Conntected with ('172.31.23.109', 52220)\n",
      "Conntected with ('172.31.23.109', 39134)\n",
      "Conntected with ('172.31.26.38', 42268)\n",
      "Conntected with ('172.31.26.38', 42282)\n",
      "Conntected with ('172.31.23.109', 48092)\n",
      "Conntected with ('172.31.26.38', 36868)\n",
      "Conntected with ('172.31.23.109', 41864)\n",
      "TrainingTime: 128.66335773468018 sec\n"
     ]
    },
    {
     "name": "stderr",
     "output_type": "stream",
     "text": [
      "WARNING:absl:Found untraced functions such as _jit_compiled_convolution_op, _jit_compiled_convolution_op while saving (showing 2 of 2). These functions will not be directly callable after loading.\n"
     ]
    },
    {
     "name": "stdout",
     "output_type": "stream",
     "text": [
      "1875/1875 [==============================] - 15s 8ms/step\n",
      "313/313 [==============================] - 3s 8ms/step\n",
      "comm_round: 15/100 | test_acc: 97.660% | test_loss: 0.0713 | train_acc: 97.392% | train_loss: 0.0775 | elapsed: 0:00:19.742828\n",
      "\n",
      "\n",
      "timer start!\n",
      "Conntected with ('172.31.26.96', 40048)\n",
      "Conntected with ('172.31.26.96', 40060)\n",
      "Conntected with ('172.31.23.109', 33028)\n",
      "Conntected with ('172.31.26.38', 46374)\n",
      "Conntected with ('172.31.26.38', 46388)\n",
      "Conntected with ('172.31.23.109', 58080)\n",
      "Conntected with ('172.31.26.38', 51920)\n",
      "Conntected with ('172.31.26.38', 51922)\n",
      "Conntected with ('172.31.23.109', 58090)\n",
      "Conntected with ('172.31.23.109', 58100)\n",
      "TrainingTime: 127.14950227737427 sec\n"
     ]
    },
    {
     "name": "stderr",
     "output_type": "stream",
     "text": [
      "WARNING:absl:Found untraced functions such as _jit_compiled_convolution_op, _jit_compiled_convolution_op while saving (showing 2 of 2). These functions will not be directly callable after loading.\n"
     ]
    },
    {
     "name": "stdout",
     "output_type": "stream",
     "text": [
      "1875/1875 [==============================] - 15s 8ms/step\n",
      "313/313 [==============================] - 3s 8ms/step\n",
      "comm_round: 16/100 | test_acc: 98.080% | test_loss: 0.0611 | train_acc: 97.913% | train_loss: 0.0633 | elapsed: 0:00:19.677063\n",
      "\n",
      "\n",
      "timer start!\n",
      "Conntected with ('172.31.26.96', 45596)\n",
      "Conntected with ('172.31.26.96', 45604)\n",
      "Conntected with ('172.31.26.38', 37068)\n",
      "Conntected with ('172.31.23.109', 47818)\n",
      "Conntected with ('172.31.23.109', 39902)\n",
      "Conntected with ('172.31.23.109', 59540)\n",
      "Conntected with ('172.31.26.38', 45254)\n",
      "Conntected with ('172.31.23.109', 52234)\n",
      "Conntected with ('172.31.26.38', 45260)\n",
      "Conntected with ('172.31.26.38', 45268)\n",
      "TrainingTime: 136.62696313858032 sec\n"
     ]
    },
    {
     "name": "stderr",
     "output_type": "stream",
     "text": [
      "WARNING:absl:Found untraced functions such as _jit_compiled_convolution_op, _jit_compiled_convolution_op while saving (showing 2 of 2). These functions will not be directly callable after loading.\n"
     ]
    },
    {
     "name": "stdout",
     "output_type": "stream",
     "text": [
      "1875/1875 [==============================] - 15s 8ms/step\n",
      "313/313 [==============================] - 3s 8ms/step\n",
      "comm_round: 17/100 | test_acc: 98.000% | test_loss: 0.0628 | train_acc: 97.807% | train_loss: 0.0646 | elapsed: 0:00:20.019844\n",
      "\n",
      "\n",
      "timer start!\n",
      "Conntected with ('172.31.26.96', 60214)\n",
      "Conntected with ('172.31.26.96', 60894)\n",
      "Conntected with ('172.31.26.38', 46496)\n",
      "Conntected with ('172.31.23.109', 38404)\n",
      "Conntected with ('172.31.26.38', 42068)\n",
      "Conntected with ('172.31.23.109', 34802)\n",
      "Conntected with ('172.31.23.109', 49906)\n",
      "Conntected with ('172.31.23.109', 46364)\n",
      "Conntected with ('172.31.26.38', 46406)\n",
      "Conntected with ('172.31.26.38', 53576)\n",
      "TrainingTime: 127.69984555244446 sec\n"
     ]
    },
    {
     "name": "stderr",
     "output_type": "stream",
     "text": [
      "WARNING:absl:Found untraced functions such as _jit_compiled_convolution_op, _jit_compiled_convolution_op while saving (showing 2 of 2). These functions will not be directly callable after loading.\n"
     ]
    },
    {
     "name": "stdout",
     "output_type": "stream",
     "text": [
      "1875/1875 [==============================] - 15s 8ms/step\n",
      "313/313 [==============================] - 3s 8ms/step\n",
      "comm_round: 18/100 | test_acc: 98.120% | test_loss: 0.0611 | train_acc: 97.965% | train_loss: 0.0623 | elapsed: 0:00:20.287091\n",
      "\n",
      "\n",
      "timer start!\n",
      "Conntected with ('172.31.26.96', 60270)\n",
      "Conntected with ('172.31.26.96', 57334)\n",
      "Conntected with ('172.31.26.38', 59796)\n",
      "Conntected with ('172.31.26.38', 59804)\n",
      "Conntected with ('172.31.23.109', 48404)\n",
      "Conntected with ('172.31.23.109', 57610)\n",
      "Conntected with ('172.31.26.38', 34488)\n",
      "Conntected with ('172.31.23.109', 58650)\n",
      "Conntected with ('172.31.23.109', 58662)\n",
      "Conntected with ('172.31.26.38', 34504)\n",
      "TrainingTime: 127.95372366905212 sec\n"
     ]
    },
    {
     "name": "stderr",
     "output_type": "stream",
     "text": [
      "WARNING:absl:Found untraced functions such as _jit_compiled_convolution_op, _jit_compiled_convolution_op while saving (showing 2 of 2). These functions will not be directly callable after loading.\n"
     ]
    },
    {
     "name": "stdout",
     "output_type": "stream",
     "text": [
      "1875/1875 [==============================] - 16s 8ms/step\n",
      "313/313 [==============================] - 3s 8ms/step\n",
      "comm_round: 19/100 | test_acc: 98.290% | test_loss: 0.0564 | train_acc: 98.018% | train_loss: 0.0585 | elapsed: 0:00:20.206012\n",
      "\n",
      "\n",
      "timer start!\n",
      "Conntected with ('172.31.26.96', 36834)\n",
      "Conntected with ('172.31.26.96', 36838)\n",
      "Conntected with ('172.31.23.109', 39032)\n",
      "Conntected with ('172.31.23.109', 39042)\n",
      "Conntected with ('172.31.26.38', 53306)\n",
      "Conntected with ('172.31.26.38', 53310)\n",
      "Conntected with ('172.31.23.109', 58904)\n",
      "Conntected with ('172.31.26.38', 53432)\n",
      "Conntected with ('172.31.23.109', 50442)\n",
      "Conntected with ('172.31.26.38', 53436)\n",
      "TrainingTime: 135.87059330940247 sec\n"
     ]
    },
    {
     "name": "stderr",
     "output_type": "stream",
     "text": [
      "WARNING:absl:Found untraced functions such as _jit_compiled_convolution_op, _jit_compiled_convolution_op while saving (showing 2 of 2). These functions will not be directly callable after loading.\n"
     ]
    },
    {
     "name": "stdout",
     "output_type": "stream",
     "text": [
      "1875/1875 [==============================] - 16s 8ms/step\n",
      "313/313 [==============================] - 3s 8ms/step\n",
      "comm_round: 20/100 | test_acc: 98.340% | test_loss: 0.0537 | train_acc: 98.163% | train_loss: 0.0546 | elapsed: 0:00:20.161236\n",
      "\n",
      "\n",
      "timer start!\n",
      "Conntected with ('172.31.26.96', 38278)\n",
      "Conntected with ('172.31.26.96', 41640)\n",
      "Conntected with ('172.31.23.109', 42856)\n",
      "Conntected with ('172.31.26.38', 44182)\n",
      "Conntected with ('172.31.23.109', 42862)\n",
      "Conntected with ('172.31.23.109', 57266)\n",
      "Conntected with ('172.31.26.38', 60182)\n",
      "Conntected with ('172.31.26.38', 60194)\n",
      "Conntected with ('172.31.23.109', 37074)\n",
      "Conntected with ('172.31.26.38', 37676)\n",
      "TrainingTime: 134.5206527709961 sec\n"
     ]
    },
    {
     "name": "stderr",
     "output_type": "stream",
     "text": [
      "WARNING:absl:Found untraced functions such as _jit_compiled_convolution_op, _jit_compiled_convolution_op while saving (showing 2 of 2). These functions will not be directly callable after loading.\n"
     ]
    },
    {
     "name": "stdout",
     "output_type": "stream",
     "text": [
      "1875/1875 [==============================] - 16s 8ms/step\n",
      "313/313 [==============================] - 3s 8ms/step\n",
      "comm_round: 21/100 | test_acc: 97.970% | test_loss: 0.0598 | train_acc: 97.885% | train_loss: 0.0618 | elapsed: 0:00:20.182167\n",
      "\n",
      "\n",
      "timer start!\n",
      "Conntected with ('172.31.26.96', 46610)\n",
      "Conntected with ('172.31.26.96', 41062)\n",
      "Conntected with ('172.31.23.109', 37344)\n",
      "Conntected with ('172.31.26.38', 42166)\n",
      "Conntected with ('172.31.26.38', 42170)\n",
      "Conntected with ('172.31.23.109', 52416)\n",
      "Conntected with ('172.31.23.109', 52430)\n",
      "Conntected with ('172.31.26.38', 51218)\n",
      "Conntected with ('172.31.23.109', 35334)\n",
      "Conntected with ('172.31.26.38', 43414)\n",
      "TrainingTime: 126.78040790557861 sec\n"
     ]
    },
    {
     "name": "stderr",
     "output_type": "stream",
     "text": [
      "WARNING:absl:Found untraced functions such as _jit_compiled_convolution_op, _jit_compiled_convolution_op while saving (showing 2 of 2). These functions will not be directly callable after loading.\n"
     ]
    },
    {
     "name": "stdout",
     "output_type": "stream",
     "text": [
      "1875/1875 [==============================] - 15s 8ms/step\n",
      "313/313 [==============================] - 3s 8ms/step\n",
      "comm_round: 22/100 | test_acc: 98.100% | test_loss: 0.0584 | train_acc: 97.985% | train_loss: 0.0596 | elapsed: 0:00:19.780733\n",
      "\n",
      "\n",
      "timer start!\n",
      "Conntected with ('172.31.26.96', 55304)\n",
      "Conntected with ('172.31.26.96', 41464)\n",
      "Conntected with ('172.31.23.109', 43614)\n",
      "Conntected with ('172.31.23.109', 53482)\n",
      "Conntected with ('172.31.26.38', 37470)\n",
      "Conntected with ('172.31.26.38', 37472)\n",
      "Conntected with ('172.31.23.109', 59248)\n",
      "Conntected with ('172.31.26.38', 45808)\n",
      "Conntected with ('172.31.26.38', 45810)\n",
      "Conntected with ('172.31.23.109', 45358)\n",
      "TrainingTime: 140.8441390991211 sec\n"
     ]
    },
    {
     "name": "stderr",
     "output_type": "stream",
     "text": [
      "WARNING:absl:Found untraced functions such as _jit_compiled_convolution_op, _jit_compiled_convolution_op while saving (showing 2 of 2). These functions will not be directly callable after loading.\n"
     ]
    },
    {
     "name": "stdout",
     "output_type": "stream",
     "text": [
      "1875/1875 [==============================] - 16s 8ms/step\n",
      "313/313 [==============================] - 3s 8ms/step\n",
      "comm_round: 23/100 | test_acc: 98.430% | test_loss: 0.0476 | train_acc: 98.378% | train_loss: 0.0466 | elapsed: 0:00:20.248866\n",
      "\n",
      "\n",
      "timer start!\n",
      "Conntected with ('172.31.26.96', 44340)\n",
      "Conntected with ('172.31.26.96', 55548)\n",
      "Conntected with ('172.31.26.38', 48582)\n",
      "Conntected with ('172.31.23.109', 58888)\n",
      "Conntected with ('172.31.23.109', 58894)\n",
      "Conntected with ('172.31.26.38', 43790)\n",
      "Conntected with ('172.31.23.109', 36728)\n",
      "Conntected with ('172.31.23.109', 36744)\n",
      "Conntected with ('172.31.26.38', 46696)\n",
      "Conntected with ('172.31.26.38', 46700)\n",
      "TrainingTime: 139.51449489593506 sec\n"
     ]
    },
    {
     "name": "stderr",
     "output_type": "stream",
     "text": [
      "WARNING:absl:Found untraced functions such as _jit_compiled_convolution_op, _jit_compiled_convolution_op while saving (showing 2 of 2). These functions will not be directly callable after loading.\n"
     ]
    },
    {
     "name": "stdout",
     "output_type": "stream",
     "text": [
      "1875/1875 [==============================] - 15s 8ms/step\n",
      "313/313 [==============================] - 2s 8ms/step\n",
      "comm_round: 24/100 | test_acc: 98.370% | test_loss: 0.0492 | train_acc: 98.293% | train_loss: 0.0497 | elapsed: 0:00:19.885100\n",
      "\n",
      "\n",
      "timer start!\n",
      "Conntected with ('172.31.26.96', 58482)\n",
      "Conntected with ('172.31.26.96', 51580)\n",
      "Conntected with ('172.31.26.38', 50840)\n",
      "Conntected with ('172.31.23.109', 46756)\n",
      "Conntected with ('172.31.23.109', 46770)\n",
      "Conntected with ('172.31.26.38', 60248)\n",
      "Conntected with ('172.31.26.38', 35576)\n",
      "Conntected with ('172.31.26.38', 47498)\n",
      "Conntected with ('172.31.23.109', 58554)\n",
      "Conntected with ('172.31.23.109', 58570)\n",
      "TrainingTime: 140.67708897590637 sec\n"
     ]
    },
    {
     "name": "stderr",
     "output_type": "stream",
     "text": [
      "WARNING:absl:Found untraced functions such as _jit_compiled_convolution_op, _jit_compiled_convolution_op while saving (showing 2 of 2). These functions will not be directly callable after loading.\n"
     ]
    },
    {
     "name": "stdout",
     "output_type": "stream",
     "text": [
      "1875/1875 [==============================] - 15s 8ms/step\n",
      "313/313 [==============================] - 3s 8ms/step\n",
      "comm_round: 25/100 | test_acc: 98.460% | test_loss: 0.0469 | train_acc: 98.363% | train_loss: 0.0474 | elapsed: 0:00:19.951712\n",
      "\n",
      "\n",
      "timer start!\n",
      "Conntected with ('172.31.26.96', 33864)\n",
      "Conntected with ('172.31.26.96', 43584)\n",
      "Conntected with ('172.31.23.109', 45574)\n",
      "Conntected with ('172.31.26.38', 50772)\n",
      "Conntected with ('172.31.26.38', 50774)\n",
      "Conntected with ('172.31.23.109', 40422)\n",
      "Conntected with ('172.31.23.109', 51624)\n",
      "Conntected with ('172.31.26.38', 41084)\n",
      "Conntected with ('172.31.26.38', 40624)\n",
      "Conntected with ('172.31.23.109', 34164)\n",
      "TrainingTime: 129.15554785728455 sec\n"
     ]
    },
    {
     "name": "stderr",
     "output_type": "stream",
     "text": [
      "WARNING:absl:Found untraced functions such as _jit_compiled_convolution_op, _jit_compiled_convolution_op while saving (showing 2 of 2). These functions will not be directly callable after loading.\n"
     ]
    },
    {
     "name": "stdout",
     "output_type": "stream",
     "text": [
      "1875/1875 [==============================] - 15s 8ms/step\n",
      "313/313 [==============================] - 3s 9ms/step\n",
      "comm_round: 26/100 | test_acc: 98.520% | test_loss: 0.0452 | train_acc: 98.433% | train_loss: 0.0447 | elapsed: 0:00:19.896803\n",
      "\n",
      "\n",
      "timer start!\n",
      "Conntected with ('172.31.26.96', 40276)\n",
      "Conntected with ('172.31.26.96', 53296)\n",
      "Conntected with ('172.31.23.109', 33008)\n",
      "Conntected with ('172.31.26.38', 48630)\n",
      "Conntected with ('172.31.26.38', 48644)\n",
      "Conntected with ('172.31.23.109', 46772)\n",
      "Conntected with ('172.31.23.109', 46776)\n",
      "Conntected with ('172.31.26.38', 41784)\n",
      "Conntected with ('172.31.26.38', 46776)\n",
      "Conntected with ('172.31.23.109', 53334)\n",
      "TrainingTime: 141.32919120788574 sec\n"
     ]
    },
    {
     "name": "stderr",
     "output_type": "stream",
     "text": [
      "WARNING:absl:Found untraced functions such as _jit_compiled_convolution_op, _jit_compiled_convolution_op while saving (showing 2 of 2). These functions will not be directly callable after loading.\n"
     ]
    },
    {
     "name": "stdout",
     "output_type": "stream",
     "text": [
      "1875/1875 [==============================] - 16s 8ms/step\n",
      "313/313 [==============================] - 3s 8ms/step\n",
      "comm_round: 27/100 | test_acc: 96.760% | test_loss: 0.0948 | train_acc: 96.662% | train_loss: 0.0988 | elapsed: 0:00:20.152180\n",
      "\n",
      "\n",
      "timer start!\n",
      "Conntected with ('172.31.26.96', 57694)\n",
      "Conntected with ('172.31.26.96', 37016)\n",
      "Conntected with ('172.31.23.109', 36890)\n",
      "Conntected with ('172.31.26.38', 59818)\n",
      "Conntected with ('172.31.26.38', 50526)\n",
      "Conntected with ('172.31.23.109', 52356)\n",
      "Conntected with ('172.31.23.109', 36802)\n",
      "Conntected with ('172.31.23.109', 36810)\n",
      "Conntected with ('172.31.26.38', 59620)\n",
      "Conntected with ('172.31.26.38', 59632)\n",
      "TrainingTime: 265.31303215026855 sec\n"
     ]
    },
    {
     "name": "stderr",
     "output_type": "stream",
     "text": [
      "WARNING:absl:Found untraced functions such as _jit_compiled_convolution_op, _jit_compiled_convolution_op while saving (showing 2 of 2). These functions will not be directly callable after loading.\n"
     ]
    },
    {
     "name": "stdout",
     "output_type": "stream",
     "text": [
      "1875/1875 [==============================] - 16s 8ms/step\n",
      "313/313 [==============================] - 3s 8ms/step\n",
      "comm_round: 28/100 | test_acc: 98.300% | test_loss: 0.0523 | train_acc: 98.205% | train_loss: 0.0524 | elapsed: 0:00:20.144928\n",
      "\n",
      "\n",
      "timer start!\n",
      "Conntected with ('172.31.26.96', 35770)\n",
      "Conntected with ('172.31.26.96', 56938)\n",
      "Conntected with ('172.31.23.109', 52570)\n",
      "Conntected with ('172.31.23.109', 54426)\n",
      "Conntected with ('172.31.23.109', 52528)\n",
      "Conntected with ('172.31.23.109', 46542)\n",
      "Conntected with ('172.31.26.38', 49352)\n",
      "Conntected with ('172.31.26.38', 57474)\n",
      "Conntected with ('172.31.26.38', 44176)\n",
      "Conntected with ('172.31.26.38', 54710)\n",
      "TrainingTime: 425.53310108184814 sec\n"
     ]
    },
    {
     "name": "stderr",
     "output_type": "stream",
     "text": [
      "WARNING:absl:Found untraced functions such as _jit_compiled_convolution_op, _jit_compiled_convolution_op while saving (showing 2 of 2). These functions will not be directly callable after loading.\n"
     ]
    },
    {
     "name": "stdout",
     "output_type": "stream",
     "text": [
      "1875/1875 [==============================] - 16s 8ms/step\n",
      "313/313 [==============================] - 3s 8ms/step\n"
     ]
    },
    {
     "name": "stderr",
     "output_type": "stream",
     "text": [
      "Exception in thread Thread-295 (receive):\n",
      "Traceback (most recent call last):\n",
      "  File \"/usr/local/lib/python3.10/threading.py\", line 1016, in _bootstrap_inner\n",
      "    self.run()\n",
      "  File \"/usr/local/lib/python3.10/threading.py\", line 953, in run\n",
      "Exception in thread Thread-296 (receive):\n",
      "Traceback (most recent call last):\n",
      "  File \"/usr/local/lib/python3.10/threading.py\", line 1016, in _bootstrap_inner\n",
      "    self._target(*self._args, **self._kwargs)\n",
      "  File \"/tmp/ipykernel_12749/1254998431.py\", line 11, in receive\n",
      "  File \"/tmp/ipykernel_12749/2362980962.py\", line 6, in send_msg\n",
      "    self.run()\n",
      "  File \"/usr/local/lib/python3.10/threading.py\", line 953, in run\n",
      "    self._target(*self._args, **self._kwargs)\n",
      "  File \"/tmp/ipykernel_12749/1254998431.py\", line 11, in receive\n",
      "  File \"/tmp/ipykernel_12749/2362980962.py\", line 6, in send_msg\n",
      "BrokenPipeError: [Errno 32] Broken pipe\n",
      "BrokenPipeError: [Errno 32] Broken pipe\n"
     ]
    },
    {
     "name": "stdout",
     "output_type": "stream",
     "text": [
      "comm_round: 29/100 | test_acc: 98.330% | test_loss: 0.0533 | train_acc: 98.265% | train_loss: 0.051 | elapsed: 0:00:20.183615\n",
      "\n",
      "\n",
      "timer start!\n",
      "Conntected with ('172.31.26.96', 33860)\n",
      "Conntected with ('172.31.26.96', 51932)\n",
      "Conntected with ('172.31.23.109', 56038)\n",
      "Conntected with ('172.31.23.109', 33754)\n",
      "Conntected with ('172.31.26.38', 54076)\n",
      "Conntected with ('172.31.26.38', 45106)\n",
      "Conntected with ('172.31.23.109', 56580)\n",
      "Conntected with ('172.31.26.38', 53944)\n",
      "Conntected with ('172.31.26.38', 35646)\n",
      "Conntected with ('172.31.23.109', 45834)\n"
     ]
    },
    {
     "ename": "KeyboardInterrupt",
     "evalue": "",
     "output_type": "error",
     "traceback": [
      "\u001b[0;31m---------------------------------------------------------------------------\u001b[0m",
      "\u001b[0;31mKeyboardInterrupt\u001b[0m                         Traceback (most recent call last)",
      "Cell \u001b[0;32mIn[18], line 24\u001b[0m\n\u001b[1;32m     21\u001b[0m test_loss \u001b[38;5;241m=\u001b[39m \u001b[38;5;241m0\u001b[39m\n\u001b[1;32m     22\u001b[0m test_acc \u001b[38;5;241m=\u001b[39m \u001b[38;5;241m0\u001b[39m\n\u001b[0;32m---> 24\u001b[0m \u001b[43mrun_thread\u001b[49m\u001b[43m(\u001b[49m\u001b[43mreceive\u001b[49m\u001b[43m,\u001b[49m\u001b[43m \u001b[49m\u001b[43mnum_users\u001b[49m\u001b[43m)\u001b[49m\n\u001b[1;32m     26\u001b[0m \u001b[38;5;66;03m# save global model\u001b[39;00m\n\u001b[1;32m     27\u001b[0m weights_path \u001b[38;5;241m=\u001b[39m \u001b[38;5;124m'\u001b[39m\u001b[38;5;124m./checkpoints/checkpoint_round_\u001b[39m\u001b[38;5;124m'\u001b[39m \u001b[38;5;241m+\u001b[39m \u001b[38;5;28mstr\u001b[39m(r)\n",
      "Cell \u001b[0;32mIn[14], line 18\u001b[0m, in \u001b[0;36mrun_thread\u001b[0;34m(func, num_user)\u001b[0m\n\u001b[1;32m     16\u001b[0m     thread\u001b[38;5;241m.\u001b[39mstart()\n\u001b[1;32m     17\u001b[0m \u001b[38;5;28;01mfor\u001b[39;00m thread \u001b[38;5;129;01min\u001b[39;00m thrs:\n\u001b[0;32m---> 18\u001b[0m     \u001b[43mthread\u001b[49m\u001b[38;5;241;43m.\u001b[39;49m\u001b[43mjoin\u001b[49m\u001b[43m(\u001b[49m\u001b[43m)\u001b[49m\n\u001b[1;32m     19\u001b[0m end_time \u001b[38;5;241m=\u001b[39m time\u001b[38;5;241m.\u001b[39mtime()  \u001b[38;5;66;03m# store end time\u001b[39;00m\n\u001b[1;32m     20\u001b[0m \u001b[38;5;28mprint\u001b[39m(\u001b[38;5;124m\"\u001b[39m\u001b[38;5;124mTrainingTime: \u001b[39m\u001b[38;5;132;01m{}\u001b[39;00m\u001b[38;5;124m sec\u001b[39m\u001b[38;5;124m\"\u001b[39m\u001b[38;5;241m.\u001b[39mformat(end_time \u001b[38;5;241m-\u001b[39m start_time))\n",
      "File \u001b[0;32m/usr/local/lib/python3.10/threading.py:1096\u001b[0m, in \u001b[0;36mThread.join\u001b[0;34m(self, timeout)\u001b[0m\n\u001b[1;32m   1093\u001b[0m     \u001b[38;5;28;01mraise\u001b[39;00m \u001b[38;5;167;01mRuntimeError\u001b[39;00m(\u001b[38;5;124m\"\u001b[39m\u001b[38;5;124mcannot join current thread\u001b[39m\u001b[38;5;124m\"\u001b[39m)\n\u001b[1;32m   1095\u001b[0m \u001b[38;5;28;01mif\u001b[39;00m timeout \u001b[38;5;129;01mis\u001b[39;00m \u001b[38;5;28;01mNone\u001b[39;00m:\n\u001b[0;32m-> 1096\u001b[0m     \u001b[38;5;28;43mself\u001b[39;49m\u001b[38;5;241;43m.\u001b[39;49m\u001b[43m_wait_for_tstate_lock\u001b[49m\u001b[43m(\u001b[49m\u001b[43m)\u001b[49m\n\u001b[1;32m   1097\u001b[0m \u001b[38;5;28;01melse\u001b[39;00m:\n\u001b[1;32m   1098\u001b[0m     \u001b[38;5;66;03m# the behavior of a negative timeout isn't documented, but\u001b[39;00m\n\u001b[1;32m   1099\u001b[0m     \u001b[38;5;66;03m# historically .join(timeout=x) for x<0 has acted as if timeout=0\u001b[39;00m\n\u001b[1;32m   1100\u001b[0m     \u001b[38;5;28mself\u001b[39m\u001b[38;5;241m.\u001b[39m_wait_for_tstate_lock(timeout\u001b[38;5;241m=\u001b[39m\u001b[38;5;28mmax\u001b[39m(timeout, \u001b[38;5;241m0\u001b[39m))\n",
      "File \u001b[0;32m/usr/local/lib/python3.10/threading.py:1116\u001b[0m, in \u001b[0;36mThread._wait_for_tstate_lock\u001b[0;34m(self, block, timeout)\u001b[0m\n\u001b[1;32m   1113\u001b[0m     \u001b[38;5;28;01mreturn\u001b[39;00m\n\u001b[1;32m   1115\u001b[0m \u001b[38;5;28;01mtry\u001b[39;00m:\n\u001b[0;32m-> 1116\u001b[0m     \u001b[38;5;28;01mif\u001b[39;00m \u001b[43mlock\u001b[49m\u001b[38;5;241;43m.\u001b[39;49m\u001b[43macquire\u001b[49m\u001b[43m(\u001b[49m\u001b[43mblock\u001b[49m\u001b[43m,\u001b[49m\u001b[43m \u001b[49m\u001b[43mtimeout\u001b[49m\u001b[43m)\u001b[49m:\n\u001b[1;32m   1117\u001b[0m         lock\u001b[38;5;241m.\u001b[39mrelease()\n\u001b[1;32m   1118\u001b[0m         \u001b[38;5;28mself\u001b[39m\u001b[38;5;241m.\u001b[39m_stop()\n",
      "\u001b[0;31mKeyboardInterrupt\u001b[0m: "
     ]
    }
   ],
   "source": [
    "loss='categorical_crossentropy'\n",
    "metrics = ['accuracy']\n",
    "cce = tf.keras.losses.CategoricalCrossentropy()\n",
    "\n",
    "result_per_lr = {}\n",
    "start = time.time()\n",
    "\n",
    "dir = ''\n",
    "    \n",
    "for lr in lrs:\n",
    "    train_losses = []\n",
    "    train_accs = []\n",
    "    test_losses = []\n",
    "    test_accs = []\n",
    "    \n",
    "    print('\\nlearning rate: {}'.format(lr))\n",
    "    \n",
    "    for r in range(rounds):\n",
    "        train_loss = 0\n",
    "        train_acc = 0\n",
    "        test_loss = 0\n",
    "        test_acc = 0\n",
    "        \n",
    "        run_thread(receive, num_users)\n",
    "        \n",
    "        # save global model\n",
    "        weights_path = './checkpoints/checkpoint_round_' + str(r)\n",
    "        global_model.save_weights(weights_path)\n",
    "    \n",
    "        # evaluate current round\n",
    "        start = time.time()\n",
    "        global_model.set_weights(global_weights)\n",
    "        global_model.save('saved_model/global_model')\n",
    "        \n",
    "        # test global model on full training set\n",
    "        for (X,y) in train_batched:\n",
    "            preds = global_model.predict(X)\n",
    "            train_loss = cce(y, preds)\n",
    "            train_acc = accuracy_score(tf.argmax(preds, axis=1), tf.argmax(y, axis=1))\n",
    "            train_losses.append(train_loss.numpy())\n",
    "            train_accs.append(train_acc)\n",
    "\n",
    "        # test global model on testing set\n",
    "        for(X, y) in test_batched:\n",
    "            preds = global_model.predict(X)\n",
    "            test_loss = cce(y, preds)\n",
    "            test_acc = accuracy_score(tf.argmax(preds, axis=1), tf.argmax(y, axis=1))\n",
    "            test_losses.append(test_loss.numpy())\n",
    "            test_accs.append(test_acc)\n",
    "\n",
    "        elapsed = (time.time() - start)\n",
    "\n",
    "        print('comm_round: {}/{} | test_acc: {:.3%} | test_loss: {:.3} | train_acc: {:.3%} | train_loss: {:.3} | elapsed: {}'.format(r+1, rounds, test_acc, test_loss, train_acc, train_loss, timedelta(seconds=elapsed)))\n",
    "        print('\\n')\n",
    "        \n",
    "    result_per_lr[lr] = {\n",
    "        'train_accs' : train_accs,\n",
    "        'test_accs' : test_accs,\n",
    "        'train_losses' : train_losses,\n",
    "        'test_losses' : test_losses\n",
    "                          }\n",
    "    \n",
    "    "
   ]
  },
  {
   "cell_type": "code",
   "execution_count": null,
   "id": "710c7465",
   "metadata": {},
   "outputs": [],
   "source": [
    "with open(dir+'result_per_lr_{}_{}_{}_{}.pickle'.format(B,C,E, lr), 'wb') as handle:\n",
    "    pickle.dump(result_per_lr, handle, protocol=pickle.HIGHEST_PROTOCOL)"
   ]
  },
  {
   "cell_type": "code",
   "execution_count": null,
   "id": "c7507fda",
   "metadata": {},
   "outputs": [],
   "source": [
    "# end_time = time.time()  # store end time\n",
    "# print(\"TrainingTime: {} sec\".format(end_time - start_time))"
   ]
  },
  {
   "cell_type": "code",
   "execution_count": null,
   "id": "0a945034",
   "metadata": {},
   "outputs": [],
   "source": []
  },
  {
   "cell_type": "code",
   "execution_count": null,
   "id": "f07fcab9",
   "metadata": {},
   "outputs": [],
   "source": [
    "end_time = time.time()  # store end time\n",
    "print(\"WorkingTime: {} sec\".format(end_time - start_time))"
   ]
  }
 ],
 "metadata": {
  "kernelspec": {
   "display_name": "Python 3 (ipykernel)",
   "language": "python",
   "name": "python3"
  },
  "language_info": {
   "codemirror_mode": {
    "name": "ipython",
    "version": 3
   },
   "file_extension": ".py",
   "mimetype": "text/x-python",
   "name": "python",
   "nbconvert_exporter": "python",
   "pygments_lexer": "ipython3",
   "version": "3.10.10"
  }
 },
 "nbformat": 4,
 "nbformat_minor": 5
}
