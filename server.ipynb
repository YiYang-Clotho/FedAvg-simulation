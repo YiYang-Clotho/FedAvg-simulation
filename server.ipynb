{
 "cells": [
  {
   "cell_type": "markdown",
   "id": "37ed6969",
   "metadata": {},
   "source": [
    "# Server"
   ]
  },
  {
   "cell_type": "markdown",
   "id": "8de770af",
   "metadata": {},
   "source": [
    "## Setting variables"
   ]
  },
  {
   "cell_type": "code",
   "execution_count": 1,
   "id": "d99f6019",
   "metadata": {},
   "outputs": [],
   "source": [
    "rounds = 100\n",
    "num_users = 10 # number of clients\n",
    "target_test_acc = 0.99\n",
    "lrs = [0.1]\n",
    "\n",
    "C = 1\n",
    "E = 5\n",
    "B = 10 # 'all' for a single minibatch"
   ]
  },
  {
   "cell_type": "code",
   "execution_count": 2,
   "id": "75ecf253",
   "metadata": {},
   "outputs": [
    {
     "name": "stderr",
     "output_type": "stream",
     "text": [
      "2023-05-09 03:44:51.216984: I tensorflow/core/platform/cpu_feature_guard.cc:182] This TensorFlow binary is optimized to use available CPU instructions in performance-critical operations.\n",
      "To enable the following instructions: AVX2 FMA, in other operations, rebuild TensorFlow with the appropriate compiler flags.\n",
      "2023-05-09 03:44:52.156494: W tensorflow/compiler/tf2tensorrt/utils/py_utils.cc:38] TF-TRT Warning: Could not find TensorRT\n"
     ]
    }
   ],
   "source": [
    "import os\n",
    "\n",
    "import socket\n",
    "import struct\n",
    "import pickle\n",
    "import sys\n",
    "\n",
    "from threading import Thread\n",
    "from threading import Lock\n",
    "\n",
    "import copy\n",
    "\n",
    "import logging\n",
    "import math\n",
    "import random\n",
    "import re\n",
    "import time\n",
    "import matplotlib.pyplot as plt\n",
    "import numpy as np\n",
    "import tensorflow as tf\n",
    "from datetime import timedelta\n",
    "from keras import backend as K\n",
    "from sklearn.metrics import accuracy_score\n",
    "from sklearn.preprocessing import LabelBinarizer\n",
    "from tensorflow import keras\n",
    "from tensorflow.keras.models import Sequential\n",
    "from tensorflow.keras.layers import Activation\n",
    "from tensorflow.keras.layers import Conv2D\n",
    "from tensorflow.keras.layers import Dense\n",
    "from tensorflow.keras.layers import MaxPooling2D\n",
    "from tensorflow.keras.layers import Flatten\n",
    "from tensorflow.keras.optimizers import SGD\n",
    "from tqdm import tqdm\n",
    "tf.get_logger().setLevel(logging.ERROR)"
   ]
  },
  {
   "cell_type": "markdown",
   "id": "31e026b7",
   "metadata": {},
   "source": [
    "## Device"
   ]
  },
  {
   "cell_type": "code",
   "execution_count": 3,
   "id": "ca54d616",
   "metadata": {},
   "outputs": [],
   "source": [
    "# if tf.test.gpu_device_name():\n",
    "#     device = \"gpu\"\n",
    "# else:\n",
    "#     device = \"cpu\"\n",
    "\n",
    "# print(device)"
   ]
  },
  {
   "cell_type": "markdown",
   "id": "20256a47",
   "metadata": {},
   "source": [
    "## Model"
   ]
  },
  {
   "cell_type": "markdown",
   "id": "ab65c69a",
   "metadata": {},
   "source": [
    "A CNN with two 5x5 convolution layers (the first with 32 channels, the second with 64, each followed with 2x2 max pooling), a fully connected layer with 512 units and ReLu activation, and a final softmax output layer (1,663,370 total parameters)"
   ]
  },
  {
   "cell_type": "code",
   "execution_count": 4,
   "id": "95101fbe",
   "metadata": {},
   "outputs": [],
   "source": [
    "class CNN:\n",
    "    @staticmethod\n",
    "    def build(input_shape):\n",
    "        model = Sequential()\n",
    "        model.add(Conv2D(filters=32, kernel_size=(5,5), padding='same', activation='relu', input_shape=input_shape))\n",
    "        model.add(MaxPooling2D(pool_size=(2, 2)))\n",
    "        model.add(Conv2D(filters=64, padding='same', kernel_size=(5,5), activation='relu'))\n",
    "        model.add(MaxPooling2D(pool_size=(2, 2)))\n",
    "        model.add(Flatten())\n",
    "        model.add(Dense(512, activation='relu'))\n",
    "        model.add(Dense(10, activation='softmax'))\n",
    "        return model"
   ]
  },
  {
   "cell_type": "markdown",
   "id": "5ed60a1e",
   "metadata": {},
   "source": [
    "initialize global model"
   ]
  },
  {
   "cell_type": "code",
   "execution_count": 5,
   "id": "3f4a3388",
   "metadata": {},
   "outputs": [
    {
     "name": "stdout",
     "output_type": "stream",
     "text": [
      "Model: \"sequential\"\n",
      "_________________________________________________________________\n",
      " Layer (type)                Output Shape              Param #   \n",
      "=================================================================\n",
      " conv2d (Conv2D)             (None, 28, 28, 32)        832       \n",
      "                                                                 \n",
      " max_pooling2d (MaxPooling2D  (None, 14, 14, 32)       0         \n",
      " )                                                               \n",
      "                                                                 \n",
      " conv2d_1 (Conv2D)           (None, 14, 14, 64)        51264     \n",
      "                                                                 \n",
      " max_pooling2d_1 (MaxPooling  (None, 7, 7, 64)         0         \n",
      " 2D)                                                             \n",
      "                                                                 \n",
      " flatten (Flatten)           (None, 3136)              0         \n",
      "                                                                 \n",
      " dense (Dense)               (None, 512)               1606144   \n",
      "                                                                 \n",
      " dense_1 (Dense)             (None, 10)                5130      \n",
      "                                                                 \n",
      "=================================================================\n",
      "Total params: 1,663,370\n",
      "Trainable params: 1,663,370\n",
      "Non-trainable params: 0\n",
      "_________________________________________________________________\n"
     ]
    },
    {
     "name": "stderr",
     "output_type": "stream",
     "text": [
      "2023-05-09 03:44:53.972154: E tensorflow/compiler/xla/stream_executor/cuda/cuda_driver.cc:266] failed call to cuInit: CUDA_ERROR_NO_DEVICE: no CUDA-capable device is detected\n"
     ]
    }
   ],
   "source": [
    "model = CNN()\n",
    "  \n",
    "global_model = model.build((28,28,1))\n",
    "initial_weights = global_model.get_weights()\n",
    "\n",
    "global_model.summary()"
   ]
  },
  {
   "cell_type": "code",
   "execution_count": 6,
   "id": "351058de",
   "metadata": {},
   "outputs": [
    {
     "name": "stderr",
     "output_type": "stream",
     "text": [
      "WARNING:absl:Found untraced functions such as _jit_compiled_convolution_op, _jit_compiled_convolution_op while saving (showing 2 of 2). These functions will not be directly callable after loading.\n"
     ]
    }
   ],
   "source": [
    "# # Save the entire model as a SavedModel.\n",
    "# checkpoint_path = \"training/cp.ckpt\"\n",
    "# checkpoint_dir = os.path.dirname(checkpoint_path)\n",
    "\n",
    "# # Create a callback that saves the model's weights\n",
    "# cp_callback = tf.keras.callbacks.ModelCheckpoint(filepath=checkpoint_path,\n",
    "#                                                  save_weights_only=True,\n",
    "#                                                  verbose=1)\n",
    "\n",
    "global_model.save('saved_model/global_model')"
   ]
  },
  {
   "cell_type": "markdown",
   "id": "674c7d2c",
   "metadata": {},
   "source": [
    "# Load data"
   ]
  },
  {
   "cell_type": "code",
   "execution_count": 7,
   "id": "2741eeab",
   "metadata": {},
   "outputs": [],
   "source": [
    "mnist = tf.keras.datasets.mnist\n",
    "(X_train, y_train), (X_test, y_test) = mnist.load_data()"
   ]
  },
  {
   "cell_type": "code",
   "execution_count": 8,
   "id": "3271172e",
   "metadata": {},
   "outputs": [
    {
     "name": "stdout",
     "output_type": "stream",
     "text": [
      "x_train shape: (60000, 28, 28, 1)\n",
      "60000 train samples\n",
      "10000 test samples\n"
     ]
    }
   ],
   "source": [
    "X_train = X_train.astype(\"float32\")/255\n",
    "X_test = X_test.astype(\"float32\")/255\n",
    "X_train = np.expand_dims(X_train, -1)\n",
    "X_test = np.expand_dims(X_test, -1)\n",
    "y_train = keras.utils.to_categorical(y_train, 10)\n",
    "y_test = keras.utils.to_categorical(y_test, 10)\n",
    "\n",
    "print(\"x_train shape:\", X_train.shape)\n",
    "print(X_train.shape[0], \"train samples\")\n",
    "print(X_test.shape[0], \"test samples\")"
   ]
  },
  {
   "cell_type": "code",
   "execution_count": 9,
   "id": "08866f4a",
   "metadata": {},
   "outputs": [],
   "source": [
    "train_batched = tf.data.Dataset.from_tensor_slices((X_train, y_train)).batch(len(y_train)) # for testing on train set\n",
    "test_batched = tf.data.Dataset.from_tensor_slices((X_test, y_test)).batch(len(y_test))"
   ]
  },
  {
   "cell_type": "markdown",
   "id": "1386ff9e",
   "metadata": {},
   "source": [
    "## variables"
   ]
  },
  {
   "cell_type": "code",
   "execution_count": 10,
   "id": "e9b946d1",
   "metadata": {},
   "outputs": [],
   "source": [
    "global global_weights    \n",
    "\n",
    "clientsoclist = [0]*num_users\n",
    "\n",
    "start_time = 0\n",
    "weight_count = 0\n",
    "\n",
    "global_weights = initial_weights\n",
    "weights_list = {}\n",
    "\n",
    "lock = Lock()"
   ]
  },
  {
   "cell_type": "markdown",
   "id": "329d2aa8",
   "metadata": {},
   "source": [
    "## Socket initialization\n",
    "### Set host address and port number"
   ]
  },
  {
   "cell_type": "markdown",
   "id": "9cf47e0c",
   "metadata": {},
   "source": [
    "### Required socket functions"
   ]
  },
  {
   "cell_type": "code",
   "execution_count": 11,
   "id": "5bdef5c9",
   "metadata": {},
   "outputs": [],
   "source": [
    "def send_msg(sock, msg):\n",
    "    # prefix each message with a 4-byte length in network byte order\n",
    "    msg = pickle.dumps(msg)\n",
    "    l_send = len(msg)\n",
    "    msg = struct.pack('>I', l_send) + msg\n",
    "    sock.sendall(msg)\n",
    "    return l_send\n",
    "\n",
    "def recv_msg(sock):\n",
    "    # read message length and unpack it into an integer\n",
    "    raw_msglen = recvall(sock, 4)\n",
    "    if not raw_msglen:\n",
    "        return None\n",
    "    msglen = struct.unpack('>I', raw_msglen)[0]\n",
    "    # read the message data\n",
    "    msg =  recvall(sock, msglen)\n",
    "    msg = pickle.loads(msg)\n",
    "    return msg\n",
    "\n",
    "def recvall(sock, n):\n",
    "    # helper function to receive n bytes or return None if EOF is hit\n",
    "    data = b''\n",
    "    while len(data) < n:\n",
    "        packet = sock.recv(n - len(data))\n",
    "        if not packet:\n",
    "            return None\n",
    "        data += packet\n",
    "    return data"
   ]
  },
  {
   "cell_type": "code",
   "execution_count": 12,
   "id": "85d51008",
   "metadata": {},
   "outputs": [],
   "source": [
    "def average_weights(weights_list):\n",
    "    avg_weights = list()\n",
    "    for j in range(len(global_weights)):\n",
    "        weights = [weights_list[k][j] for k in range(num_users)]\n",
    "        layer_mean = tf.math.reduce_mean(weights, axis=0)\n",
    "        avg_weights.append(layer_mean)\n",
    "        \n",
    "    return avg_weights"
   ]
  },
  {
   "cell_type": "markdown",
   "id": "b78fdb23",
   "metadata": {},
   "source": [
    "## Receive users for aggregation"
   ]
  },
  {
   "cell_type": "code",
   "execution_count": 13,
   "id": "76b5c77f",
   "metadata": {},
   "outputs": [],
   "source": [
    "def receive(userid, r, num_users, conn): #thread for receive clients\n",
    "    global weight_count\n",
    "    global global_weights\n",
    "    global weights_list\n",
    "    \n",
    "    msg = {\n",
    "        'current_round': r,\n",
    "        'rounds': rounds,\n",
    "        'client_id': userid,\n",
    "        'weight': global_weights\n",
    "    }\n",
    "    distribute = send_msg(conn, msg)    #send global weight\n",
    "    receive = recv_msg(conn)    # get weights from clients\n",
    "    with lock:\n",
    "        weights_list[userid] = receive['weight']\n",
    "        if receive['current_round'] == r:\n",
    "            weight_count += 1\n",
    "        \n",
    "        if weight_count == num_users:\n",
    "            global_weights = average_weights(weights_list)\n",
    "            weight_count = 0"
   ]
  },
  {
   "cell_type": "markdown",
   "id": "246b60e7",
   "metadata": {},
   "source": [
    "## Thread define"
   ]
  },
  {
   "cell_type": "code",
   "execution_count": 14,
   "id": "0c48a927",
   "metadata": {},
   "outputs": [],
   "source": [
    "def run_thread(func, num_user, r):\n",
    "    global clientsoclist\n",
    "    global start_time\n",
    "    \n",
    "    thrs = []\n",
    "    print(\"timer start!\")\n",
    "    start_time = time.time()    # store start time\n",
    "    for i in range(num_user):\n",
    "        conn, addr = s.accept()\n",
    "        print('Conntected with', addr)\n",
    "        # append client socket on list\n",
    "        clientsoclist[i] = conn\n",
    "        args = (i, r, num_user, conn)\n",
    "        thread = Thread(target=func, args=args)\n",
    "        thrs.append(thread)\n",
    "        thread.start()\n",
    "    for thread in thrs:\n",
    "        thread.join()\n",
    "    end_time = time.time()  # store end time\n",
    "    print(\"TrainingTime: {} sec\".format(end_time - start_time))"
   ]
  },
  {
   "cell_type": "code",
   "execution_count": 15,
   "id": "16a79683",
   "metadata": {
    "scrolled": true
   },
   "outputs": [
    {
     "name": "stdout",
     "output_type": "stream",
     "text": [
      "172.31.26.96\n"
     ]
    }
   ],
   "source": [
    "host_name = socket.gethostbyname(socket.gethostname())\n",
    "# host_name = '172.31.2.147'\n",
    "port_number = 12345\n",
    "print(host_name)"
   ]
  },
  {
   "cell_type": "code",
   "execution_count": 16,
   "id": "f02bf287",
   "metadata": {},
   "outputs": [
    {
     "name": "stdout",
     "output_type": "stream",
     "text": [
      "172.31.26.96\n"
     ]
    }
   ],
   "source": [
    "print(host_name)"
   ]
  },
  {
   "cell_type": "markdown",
   "id": "826c433d",
   "metadata": {},
   "source": [
    "### Open the server socket"
   ]
  },
  {
   "cell_type": "code",
   "execution_count": 17,
   "id": "549e34a8",
   "metadata": {},
   "outputs": [],
   "source": [
    "s = socket.socket()\n",
    "s.bind((host_name, port_number))\n",
    "s.listen(10)"
   ]
  },
  {
   "cell_type": "markdown",
   "id": "0136545a",
   "metadata": {},
   "source": [
    "## Comunication overhead"
   ]
  },
  {
   "cell_type": "code",
   "execution_count": null,
   "id": "495b15e9",
   "metadata": {
    "scrolled": false
   },
   "outputs": [
    {
     "name": "stdout",
     "output_type": "stream",
     "text": [
      "\n",
      "learning rate: 0.1\n",
      "timer start!\n",
      "Conntected with ('172.31.26.96', 59218)\n",
      "Conntected with ('172.31.26.96', 59232)\n",
      "Conntected with ('172.31.26.96', 59246)\n",
      "Conntected with ('172.31.26.38', 39090)\n",
      "Conntected with ('172.31.26.38', 39100)\n",
      "Conntected with ('172.31.26.38', 39110)\n",
      "Conntected with ('172.31.23.109', 40580)\n",
      "Conntected with ('172.31.23.109', 36106)\n",
      "Conntected with ('172.31.23.109', 36122)\n",
      "Conntected with ('172.31.24.39', 42912)\n",
      "TrainingTime: 166.5627269744873 sec\n"
     ]
    },
    {
     "name": "stderr",
     "output_type": "stream",
     "text": [
      "2023-05-09 03:47:42.606024: I tensorflow/core/common_runtime/executor.cc:1197] [/device:CPU:0] (DEBUG INFO) Executor start aborting (this does not indicate an error and you can ignore this message): INVALID_ARGUMENT: You must feed a value for placeholder tensor 'Placeholder/_1' with dtype float and shape [60000,10]\n",
      "\t [[{{node Placeholder/_1}}]]\n"
     ]
    },
    {
     "name": "stdout",
     "output_type": "stream",
     "text": [
      "1875/1875 [==============================] - 15s 8ms/step\n",
      "  1/313 [..............................] - ETA: 24s"
     ]
    },
    {
     "name": "stderr",
     "output_type": "stream",
     "text": [
      "2023-05-09 03:47:58.476050: I tensorflow/core/common_runtime/executor.cc:1197] [/device:CPU:0] (DEBUG INFO) Executor start aborting (this does not indicate an error and you can ignore this message): INVALID_ARGUMENT: You must feed a value for placeholder tensor 'Placeholder/_1' with dtype float and shape [10000,10]\n",
      "\t [[{{node Placeholder/_1}}]]\n"
     ]
    },
    {
     "name": "stdout",
     "output_type": "stream",
     "text": [
      "313/313 [==============================] - 3s 8ms/step\n",
      "comm_round: 1/100 | test_acc: 53.910% | test_loss: 1.86 | train_acc: 53.253% | train_loss: 1.87 | elapsed: 0:00:18.861891\n",
      "\n",
      "\n"
     ]
    },
    {
     "name": "stderr",
     "output_type": "stream",
     "text": [
      "WARNING:absl:Found untraced functions such as _jit_compiled_convolution_op, _jit_compiled_convolution_op while saving (showing 2 of 2). These functions will not be directly callable after loading.\n"
     ]
    },
    {
     "name": "stdout",
     "output_type": "stream",
     "text": [
      "timer start!\n",
      "Conntected with ('172.31.24.39', 37800)\n",
      "Conntected with ('172.31.26.38', 51570)\n",
      "Conntected with ('172.31.26.96', 45414)\n",
      "Conntected with ('172.31.26.96', 45422)\n",
      "Conntected with ('172.31.26.96', 45432)\n",
      "Conntected with ('172.31.26.38', 40604)\n",
      "Conntected with ('172.31.26.38', 40614)\n",
      "Conntected with ('172.31.23.109', 40646)\n",
      "Conntected with ('172.31.23.109', 40650)\n",
      "Conntected with ('172.31.23.109', 40660)\n",
      "TrainingTime: 97.55454158782959 sec\n",
      "1875/1875 [==============================] - 14s 8ms/step\n",
      "313/313 [==============================] - 2s 8ms/step\n",
      "comm_round: 2/100 | test_acc: 65.120% | test_loss: 0.875 | train_acc: 64.952% | train_loss: 0.892 | elapsed: 0:00:17.989822\n",
      "\n",
      "\n"
     ]
    },
    {
     "name": "stderr",
     "output_type": "stream",
     "text": [
      "WARNING:absl:Found untraced functions such as _jit_compiled_convolution_op, _jit_compiled_convolution_op while saving (showing 2 of 2). These functions will not be directly callable after loading.\n"
     ]
    },
    {
     "name": "stdout",
     "output_type": "stream",
     "text": [
      "timer start!\n",
      "Conntected with ('172.31.24.39', 38728)\n",
      "Conntected with ('172.31.23.109', 54260)\n",
      "Conntected with ('172.31.26.96', 60454)\n",
      "Conntected with ('172.31.23.109', 54276)\n",
      "Conntected with ('172.31.26.38', 57338)\n",
      "Conntected with ('172.31.23.109', 53228)\n",
      "Conntected with ('172.31.26.96', 33894)\n",
      "Conntected with ('172.31.26.38', 57352)\n",
      "Conntected with ('172.31.26.38', 57358)\n",
      "Conntected with ('172.31.26.96', 33906)\n",
      "TrainingTime: 97.9536623954773 sec\n",
      "1875/1875 [==============================] - 14s 8ms/step\n",
      "313/313 [==============================] - 2s 8ms/step\n",
      "comm_round: 3/100 | test_acc: 87.280% | test_loss: 0.411 | train_acc: 86.593% | train_loss: 0.429 | elapsed: 0:00:17.884068\n",
      "\n",
      "\n"
     ]
    },
    {
     "name": "stderr",
     "output_type": "stream",
     "text": [
      "WARNING:absl:Found untraced functions such as _jit_compiled_convolution_op, _jit_compiled_convolution_op while saving (showing 2 of 2). These functions will not be directly callable after loading.\n"
     ]
    },
    {
     "name": "stdout",
     "output_type": "stream",
     "text": [
      "timer start!\n",
      "Conntected with ('172.31.24.39', 51856)\n",
      "Conntected with ('172.31.26.96', 43436)\n",
      "Conntected with ('172.31.26.38', 38044)\n",
      "Conntected with ('172.31.26.38', 38046)\n",
      "Conntected with ('172.31.26.96', 43438)\n",
      "Conntected with ('172.31.23.109', 33150)\n",
      "Conntected with ('172.31.26.38', 38060)\n",
      "Conntected with ('172.31.26.96', 43452)\n",
      "Conntected with ('172.31.23.109', 33152)\n",
      "Conntected with ('172.31.23.109', 33158)\n",
      "TrainingTime: 97.2976701259613 sec\n",
      "1875/1875 [==============================] - 14s 8ms/step\n",
      "313/313 [==============================] - 2s 7ms/step\n",
      "comm_round: 4/100 | test_acc: 94.410% | test_loss: 0.221 | train_acc: 93.965% | train_loss: 0.234 | elapsed: 0:00:17.803191\n",
      "\n",
      "\n"
     ]
    },
    {
     "name": "stderr",
     "output_type": "stream",
     "text": [
      "WARNING:absl:Found untraced functions such as _jit_compiled_convolution_op, _jit_compiled_convolution_op while saving (showing 2 of 2). These functions will not be directly callable after loading.\n"
     ]
    },
    {
     "name": "stdout",
     "output_type": "stream",
     "text": [
      "timer start!\n",
      "Conntected with ('172.31.24.39', 55354)\n",
      "Conntected with ('172.31.26.38', 45010)\n",
      "Conntected with ('172.31.26.96', 51842)\n",
      "Conntected with ('172.31.23.109', 38524)\n",
      "Conntected with ('172.31.26.96', 42658)\n",
      "Conntected with ('172.31.26.38', 49378)\n",
      "Conntected with ('172.31.23.109', 38530)\n",
      "Conntected with ('172.31.26.38', 49384)\n",
      "Conntected with ('172.31.23.109', 38544)\n",
      "Conntected with ('172.31.26.96', 42664)\n",
      "TrainingTime: 97.7203140258789 sec\n",
      "1875/1875 [==============================] - 14s 8ms/step\n",
      "313/313 [==============================] - 2s 8ms/step\n",
      "comm_round: 5/100 | test_acc: 94.680% | test_loss: 0.187 | train_acc: 94.123% | train_loss: 0.2 | elapsed: 0:00:18.117958\n",
      "\n",
      "\n"
     ]
    },
    {
     "name": "stderr",
     "output_type": "stream",
     "text": [
      "WARNING:absl:Found untraced functions such as _jit_compiled_convolution_op, _jit_compiled_convolution_op while saving (showing 2 of 2). These functions will not be directly callable after loading.\n"
     ]
    },
    {
     "name": "stdout",
     "output_type": "stream",
     "text": [
      "timer start!\n",
      "Conntected with ('172.31.24.39', 44568)\n",
      "Conntected with ('172.31.26.38', 43576)\n",
      "Conntected with ('172.31.26.96', 59312)\n",
      "Conntected with ('172.31.23.109', 58536)\n",
      "Conntected with ('172.31.26.38', 43580)\n",
      "Conntected with ('172.31.26.38', 43592)\n",
      "Conntected with ('172.31.23.109', 58552)\n",
      "Conntected with ('172.31.26.96', 59316)\n",
      "Conntected with ('172.31.26.96', 51456)\n",
      "Conntected with ('172.31.23.109', 41400)\n",
      "TrainingTime: 97.63223433494568 sec\n",
      "1875/1875 [==============================] - 15s 8ms/step\n",
      "313/313 [==============================] - 2s 8ms/step\n",
      "comm_round: 6/100 | test_acc: 95.970% | test_loss: 0.139 | train_acc: 95.628% | train_loss: 0.148 | elapsed: 0:00:18.422992\n",
      "\n",
      "\n"
     ]
    },
    {
     "name": "stderr",
     "output_type": "stream",
     "text": [
      "WARNING:absl:Found untraced functions such as _jit_compiled_convolution_op, _jit_compiled_convolution_op while saving (showing 2 of 2). These functions will not be directly callable after loading.\n"
     ]
    },
    {
     "name": "stdout",
     "output_type": "stream",
     "text": [
      "timer start!\n",
      "Conntected with ('172.31.24.39', 48054)\n",
      "Conntected with ('172.31.23.109', 36942)\n",
      "Conntected with ('172.31.26.96', 48474)\n",
      "Conntected with ('172.31.26.96', 48486)\n",
      "Conntected with ('172.31.26.38', 35232)\n",
      "Conntected with ('172.31.23.109', 36944)\n",
      "Conntected with ('172.31.26.38', 35248)\n",
      "Conntected with ('172.31.26.38', 35254)\n",
      "Conntected with ('172.31.23.109', 36946)\n",
      "Conntected with ('172.31.26.96', 48494)\n",
      "TrainingTime: 97.81545233726501 sec\n",
      "1875/1875 [==============================] - 14s 7ms/step\n",
      "313/313 [==============================] - 2s 8ms/step\n",
      "comm_round: 7/100 | test_acc: 96.460% | test_loss: 0.122 | train_acc: 96.132% | train_loss: 0.13 | elapsed: 0:00:17.722595\n",
      "\n",
      "\n"
     ]
    },
    {
     "name": "stderr",
     "output_type": "stream",
     "text": [
      "WARNING:absl:Found untraced functions such as _jit_compiled_convolution_op, _jit_compiled_convolution_op while saving (showing 2 of 2). These functions will not be directly callable after loading.\n"
     ]
    },
    {
     "name": "stdout",
     "output_type": "stream",
     "text": [
      "timer start!\n",
      "Conntected with ('172.31.24.39', 42704)\n",
      "Conntected with ('172.31.26.38', 59586)\n",
      "Conntected with ('172.31.23.109', 48896)\n",
      "Conntected with ('172.31.23.109', 60906)\n",
      "Conntected with ('172.31.23.109', 60922)\n",
      "Conntected with ('172.31.26.96', 52182)\n",
      "Conntected with ('172.31.26.38', 60938)\n",
      "Conntected with ('172.31.26.96', 52194)\n",
      "Conntected with ('172.31.26.96', 52198)\n",
      "Conntected with ('172.31.26.38', 60944)\n",
      "TrainingTime: 96.30521750450134 sec\n",
      "1875/1875 [==============================] - 15s 8ms/step\n",
      "313/313 [==============================] - 2s 8ms/step\n",
      "comm_round: 8/100 | test_acc: 96.670% | test_loss: 0.108 | train_acc: 96.360% | train_loss: 0.117 | elapsed: 0:00:18.384609\n",
      "\n",
      "\n"
     ]
    },
    {
     "name": "stderr",
     "output_type": "stream",
     "text": [
      "WARNING:absl:Found untraced functions such as _jit_compiled_convolution_op, _jit_compiled_convolution_op while saving (showing 2 of 2). These functions will not be directly callable after loading.\n"
     ]
    },
    {
     "name": "stdout",
     "output_type": "stream",
     "text": [
      "timer start!\n",
      "Conntected with ('172.31.24.39', 60146)\n",
      "Conntected with ('172.31.26.38', 48184)\n",
      "Conntected with ('172.31.26.96', 33340)\n",
      "Conntected with ('172.31.26.38', 48188)\n",
      "Conntected with ('172.31.26.96', 33342)\n",
      "Conntected with ('172.31.23.109', 60210)\n",
      "Conntected with ('172.31.23.109', 60226)\n",
      "Conntected with ('172.31.26.38', 48196)\n",
      "Conntected with ('172.31.23.109', 60240)\n",
      "Conntected with ('172.31.26.96', 33356)\n",
      "TrainingTime: 96.59703087806702 sec\n",
      "1875/1875 [==============================] - 14s 8ms/step\n",
      "313/313 [==============================] - 2s 8ms/step\n",
      "comm_round: 9/100 | test_acc: 97.080% | test_loss: 0.0979 | train_acc: 96.692% | train_loss: 0.106 | elapsed: 0:00:17.792020\n",
      "\n",
      "\n"
     ]
    },
    {
     "name": "stderr",
     "output_type": "stream",
     "text": [
      "WARNING:absl:Found untraced functions such as _jit_compiled_convolution_op, _jit_compiled_convolution_op while saving (showing 2 of 2). These functions will not be directly callable after loading.\n"
     ]
    },
    {
     "name": "stdout",
     "output_type": "stream",
     "text": [
      "timer start!\n",
      "Conntected with ('172.31.24.39', 59486)\n",
      "Conntected with ('172.31.23.109', 47530)\n",
      "Conntected with ('172.31.26.96', 42914)\n",
      "Conntected with ('172.31.26.38', 48168)\n",
      "Conntected with ('172.31.23.109', 58226)\n",
      "Conntected with ('172.31.26.38', 48170)\n",
      "Conntected with ('172.31.23.109', 58240)\n",
      "Conntected with ('172.31.26.96', 42930)\n",
      "Conntected with ('172.31.26.96', 42932)\n",
      "Conntected with ('172.31.26.38', 48186)\n",
      "TrainingTime: 97.75461316108704 sec\n",
      "1875/1875 [==============================] - 14s 8ms/step\n",
      "313/313 [==============================] - 2s 7ms/step\n",
      "comm_round: 10/100 | test_acc: 96.680% | test_loss: 0.111 | train_acc: 96.123% | train_loss: 0.117 | elapsed: 0:00:17.790711\n",
      "\n",
      "\n"
     ]
    },
    {
     "name": "stderr",
     "output_type": "stream",
     "text": [
      "WARNING:absl:Found untraced functions such as _jit_compiled_convolution_op, _jit_compiled_convolution_op while saving (showing 2 of 2). These functions will not be directly callable after loading.\n"
     ]
    },
    {
     "name": "stdout",
     "output_type": "stream",
     "text": [
      "timer start!\n",
      "Conntected with ('172.31.24.39', 53270)\n",
      "Conntected with ('172.31.23.109', 52502)\n",
      "Conntected with ('172.31.26.38', 36512)\n",
      "Conntected with ('172.31.26.96', 60502)\n",
      "Conntected with ('172.31.26.38', 36528)\n",
      "Conntected with ('172.31.23.109', 52506)\n",
      "Conntected with ('172.31.26.96', 60510)\n",
      "Conntected with ('172.31.26.38', 36544)\n",
      "Conntected with ('172.31.26.96', 47286)\n",
      "Conntected with ('172.31.23.109', 36368)\n",
      "TrainingTime: 95.68799567222595 sec\n",
      "1875/1875 [==============================] - 14s 8ms/step\n",
      "313/313 [==============================] - 2s 8ms/step\n",
      "comm_round: 11/100 | test_acc: 97.010% | test_loss: 0.0919 | train_acc: 96.848% | train_loss: 0.0954 | elapsed: 0:00:17.949393\n",
      "\n",
      "\n"
     ]
    },
    {
     "name": "stderr",
     "output_type": "stream",
     "text": [
      "WARNING:absl:Found untraced functions such as _jit_compiled_convolution_op, _jit_compiled_convolution_op while saving (showing 2 of 2). These functions will not be directly callable after loading.\n"
     ]
    },
    {
     "name": "stdout",
     "output_type": "stream",
     "text": [
      "timer start!\n",
      "Conntected with ('172.31.24.39', 53580)\n",
      "Conntected with ('172.31.23.109', 42740)\n",
      "Conntected with ('172.31.26.38', 43006)\n",
      "Conntected with ('172.31.26.96', 53630)\n",
      "Conntected with ('172.31.23.109', 42746)\n",
      "Conntected with ('172.31.23.109', 42754)\n",
      "Conntected with ('172.31.26.38', 43012)\n",
      "Conntected with ('172.31.26.96', 53640)\n",
      "Conntected with ('172.31.26.96', 53646)\n",
      "Conntected with ('172.31.26.38', 43024)\n",
      "TrainingTime: 97.23591160774231 sec\n",
      "1875/1875 [==============================] - 14s 8ms/step\n",
      "313/313 [==============================] - 2s 8ms/step\n",
      "comm_round: 12/100 | test_acc: 97.470% | test_loss: 0.0815 | train_acc: 97.267% | train_loss: 0.0859 | elapsed: 0:00:18.108026\n",
      "\n",
      "\n"
     ]
    },
    {
     "name": "stderr",
     "output_type": "stream",
     "text": [
      "WARNING:absl:Found untraced functions such as _jit_compiled_convolution_op, _jit_compiled_convolution_op while saving (showing 2 of 2). These functions will not be directly callable after loading.\n"
     ]
    },
    {
     "name": "stdout",
     "output_type": "stream",
     "text": [
      "timer start!\n",
      "Conntected with ('172.31.24.39', 35152)\n",
      "Conntected with ('172.31.26.38', 42302)\n",
      "Conntected with ('172.31.23.109', 37178)\n",
      "Conntected with ('172.31.23.109', 37182)\n",
      "Conntected with ('172.31.26.38', 42318)\n",
      "Conntected with ('172.31.26.96', 33126)\n",
      "Conntected with ('172.31.26.96', 33138)\n",
      "Conntected with ('172.31.26.38', 42324)\n",
      "Conntected with ('172.31.23.109', 40016)\n",
      "Conntected with ('172.31.26.96', 33246)\n",
      "TrainingTime: 97.19141674041748 sec\n",
      "1875/1875 [==============================] - 14s 8ms/step\n",
      "313/313 [==============================] - 2s 8ms/step\n",
      "comm_round: 13/100 | test_acc: 97.450% | test_loss: 0.0831 | train_acc: 97.187% | train_loss: 0.0866 | elapsed: 0:00:17.999547\n",
      "\n",
      "\n"
     ]
    },
    {
     "name": "stderr",
     "output_type": "stream",
     "text": [
      "WARNING:absl:Found untraced functions such as _jit_compiled_convolution_op, _jit_compiled_convolution_op while saving (showing 2 of 2). These functions will not be directly callable after loading.\n"
     ]
    },
    {
     "name": "stdout",
     "output_type": "stream",
     "text": [
      "timer start!\n",
      "Conntected with ('172.31.24.39', 58238)\n",
      "Conntected with ('172.31.26.96', 43818)\n",
      "Conntected with ('172.31.26.38', 55730)\n",
      "Conntected with ('172.31.23.109', 57384)\n",
      "Conntected with ('172.31.26.96', 43828)\n",
      "Conntected with ('172.31.26.38', 55732)\n",
      "Conntected with ('172.31.23.109', 57388)\n",
      "Conntected with ('172.31.23.109', 57404)\n",
      "Conntected with ('172.31.26.38', 55748)\n",
      "Conntected with ('172.31.26.96', 43842)\n",
      "TrainingTime: 98.09150815010071 sec\n",
      "1875/1875 [==============================] - 15s 8ms/step\n",
      "313/313 [==============================] - 2s 8ms/step\n",
      "comm_round: 14/100 | test_acc: 97.650% | test_loss: 0.0746 | train_acc: 97.485% | train_loss: 0.0775 | elapsed: 0:00:18.281270\n",
      "\n",
      "\n"
     ]
    },
    {
     "name": "stderr",
     "output_type": "stream",
     "text": [
      "WARNING:absl:Found untraced functions such as _jit_compiled_convolution_op, _jit_compiled_convolution_op while saving (showing 2 of 2). These functions will not be directly callable after loading.\n"
     ]
    },
    {
     "name": "stdout",
     "output_type": "stream",
     "text": [
      "timer start!\n",
      "Conntected with ('172.31.24.39', 35998)\n",
      "Conntected with ('172.31.23.109', 58228)\n",
      "Conntected with ('172.31.23.109', 58244)\n",
      "Conntected with ('172.31.26.96', 52264)\n",
      "Conntected with ('172.31.26.38', 36572)\n",
      "Conntected with ('172.31.26.38', 36578)\n",
      "Conntected with ('172.31.23.109', 58256)\n",
      "Conntected with ('172.31.26.96', 52272)\n",
      "Conntected with ('172.31.26.96', 52286)\n",
      "Conntected with ('172.31.26.38', 36594)\n",
      "TrainingTime: 97.41075348854065 sec\n",
      "1875/1875 [==============================] - 14s 8ms/step\n",
      "313/313 [==============================] - 3s 8ms/step\n",
      "comm_round: 15/100 | test_acc: 97.750% | test_loss: 0.0721 | train_acc: 97.517% | train_loss: 0.0757 | elapsed: 0:00:18.120926\n",
      "\n",
      "\n"
     ]
    },
    {
     "name": "stderr",
     "output_type": "stream",
     "text": [
      "WARNING:absl:Found untraced functions such as _jit_compiled_convolution_op, _jit_compiled_convolution_op while saving (showing 2 of 2). These functions will not be directly callable after loading.\n"
     ]
    },
    {
     "name": "stdout",
     "output_type": "stream",
     "text": [
      "timer start!\n",
      "Conntected with ('172.31.24.39', 54602)\n",
      "Conntected with ('172.31.23.109', 49162)\n",
      "Conntected with ('172.31.26.38', 50416)\n",
      "Conntected with ('172.31.26.38', 50428)\n",
      "Conntected with ('172.31.26.96', 40278)\n",
      "Conntected with ('172.31.26.96', 40288)\n",
      "Conntected with ('172.31.26.38', 50430)\n",
      "Conntected with ('172.31.23.109', 49176)\n",
      "Conntected with ('172.31.23.109', 49188)\n",
      "Conntected with ('172.31.26.96', 51660)\n",
      "TrainingTime: 96.34517216682434 sec\n",
      "1875/1875 [==============================] - 14s 7ms/step\n",
      "313/313 [==============================] - 2s 8ms/step\n",
      "comm_round: 16/100 | test_acc: 97.900% | test_loss: 0.068 | train_acc: 97.703% | train_loss: 0.0707 | elapsed: 0:00:17.731767\n",
      "\n",
      "\n"
     ]
    },
    {
     "name": "stderr",
     "output_type": "stream",
     "text": [
      "WARNING:absl:Found untraced functions such as _jit_compiled_convolution_op, _jit_compiled_convolution_op while saving (showing 2 of 2). These functions will not be directly callable after loading.\n"
     ]
    },
    {
     "name": "stdout",
     "output_type": "stream",
     "text": [
      "timer start!\n",
      "Conntected with ('172.31.24.39', 34604)\n",
      "Conntected with ('172.31.23.109', 56672)\n",
      "Conntected with ('172.31.26.96', 35562)\n",
      "Conntected with ('172.31.26.38', 57686)\n",
      "Conntected with ('172.31.23.109', 56676)\n",
      "Conntected with ('172.31.26.38', 57692)\n",
      "Conntected with ('172.31.23.109', 56678)\n",
      "Conntected with ('172.31.26.38', 57702)\n",
      "Conntected with ('172.31.26.96', 35570)\n",
      "Conntected with ('172.31.26.96', 35582)\n",
      "TrainingTime: 96.03097224235535 sec\n",
      "1875/1875 [==============================] - 14s 8ms/step\n",
      "313/313 [==============================] - 2s 8ms/step\n",
      "comm_round: 17/100 | test_acc: 97.920% | test_loss: 0.0632 | train_acc: 97.847% | train_loss: 0.0659 | elapsed: 0:00:18.031370\n",
      "\n",
      "\n"
     ]
    },
    {
     "name": "stderr",
     "output_type": "stream",
     "text": [
      "WARNING:absl:Found untraced functions such as _jit_compiled_convolution_op, _jit_compiled_convolution_op while saving (showing 2 of 2). These functions will not be directly callable after loading.\n"
     ]
    },
    {
     "name": "stdout",
     "output_type": "stream",
     "text": [
      "timer start!\n",
      "Conntected with ('172.31.24.39', 49624)\n",
      "Conntected with ('172.31.26.96', 34032)\n",
      "Conntected with ('172.31.26.38', 55102)\n",
      "Conntected with ('172.31.23.109', 59286)\n",
      "Conntected with ('172.31.23.109', 59288)\n",
      "Conntected with ('172.31.26.96', 34048)\n",
      "Conntected with ('172.31.26.96', 60694)\n",
      "Conntected with ('172.31.23.109', 59304)\n",
      "Conntected with ('172.31.26.38', 55112)\n",
      "Conntected with ('172.31.26.38', 55116)\n",
      "TrainingTime: 96.84680652618408 sec\n",
      "1875/1875 [==============================] - 14s 8ms/step\n",
      "313/313 [==============================] - 2s 8ms/step\n",
      "comm_round: 18/100 | test_acc: 97.930% | test_loss: 0.0621 | train_acc: 97.965% | train_loss: 0.0634 | elapsed: 0:00:17.883153\n",
      "\n",
      "\n"
     ]
    },
    {
     "name": "stderr",
     "output_type": "stream",
     "text": [
      "WARNING:absl:Found untraced functions such as _jit_compiled_convolution_op, _jit_compiled_convolution_op while saving (showing 2 of 2). These functions will not be directly callable after loading.\n"
     ]
    },
    {
     "name": "stdout",
     "output_type": "stream",
     "text": [
      "timer start!\n",
      "Conntected with ('172.31.24.39', 44012)\n",
      "Conntected with ('172.31.26.96', 37738)\n",
      "Conntected with ('172.31.23.109', 54762)\n",
      "Conntected with ('172.31.26.38', 43684)\n",
      "Conntected with ('172.31.26.38', 43694)\n",
      "Conntected with ('172.31.26.96', 37746)\n",
      "Conntected with ('172.31.26.96', 37762)\n",
      "Conntected with ('172.31.23.109', 54764)\n",
      "Conntected with ('172.31.26.38', 43708)\n",
      "Conntected with ('172.31.23.109', 54780)\n",
      "TrainingTime: 96.5436282157898 sec\n",
      "1875/1875 [==============================] - 14s 8ms/step\n",
      "313/313 [==============================] - 2s 8ms/step\n",
      "comm_round: 19/100 | test_acc: 97.910% | test_loss: 0.0645 | train_acc: 97.802% | train_loss: 0.0658 | elapsed: 0:00:18.228810\n",
      "\n",
      "\n"
     ]
    },
    {
     "name": "stderr",
     "output_type": "stream",
     "text": [
      "WARNING:absl:Found untraced functions such as _jit_compiled_convolution_op, _jit_compiled_convolution_op while saving (showing 2 of 2). These functions will not be directly callable after loading.\n"
     ]
    },
    {
     "name": "stdout",
     "output_type": "stream",
     "text": [
      "timer start!\n",
      "Conntected with ('172.31.24.39', 49756)\n",
      "Conntected with ('172.31.26.38', 52388)\n",
      "Conntected with ('172.31.26.96', 41532)\n",
      "Conntected with ('172.31.23.109', 49560)\n",
      "Conntected with ('172.31.26.38', 52390)\n",
      "Conntected with ('172.31.23.109', 49566)\n",
      "Conntected with ('172.31.23.109', 49568)\n",
      "Conntected with ('172.31.26.96', 39366)\n",
      "Conntected with ('172.31.26.38', 43124)\n",
      "Conntected with ('172.31.26.96', 39372)\n",
      "TrainingTime: 96.7830400466919 sec\n",
      "1875/1875 [==============================] - 14s 8ms/step\n",
      "313/313 [==============================] - 2s 8ms/step\n",
      "comm_round: 20/100 | test_acc: 98.070% | test_loss: 0.0611 | train_acc: 98.003% | train_loss: 0.0607 | elapsed: 0:00:17.795671\n",
      "\n",
      "\n"
     ]
    },
    {
     "name": "stderr",
     "output_type": "stream",
     "text": [
      "WARNING:absl:Found untraced functions such as _jit_compiled_convolution_op, _jit_compiled_convolution_op while saving (showing 2 of 2). These functions will not be directly callable after loading.\n"
     ]
    },
    {
     "name": "stdout",
     "output_type": "stream",
     "text": [
      "timer start!\n",
      "Conntected with ('172.31.24.39', 54650)\n",
      "Conntected with ('172.31.26.38', 58856)\n",
      "Conntected with ('172.31.26.96', 56936)\n",
      "Conntected with ('172.31.26.38', 58860)\n",
      "Conntected with ('172.31.23.109', 47168)\n",
      "Conntected with ('172.31.23.109', 47184)\n",
      "Conntected with ('172.31.23.109', 47188)\n",
      "Conntected with ('172.31.26.38', 58862)\n",
      "Conntected with ('172.31.26.96', 56938)\n",
      "Conntected with ('172.31.26.96', 56948)\n",
      "TrainingTime: 96.79198408126831 sec\n",
      "1875/1875 [==============================] - 14s 8ms/step\n",
      "313/313 [==============================] - 2s 8ms/step\n",
      "comm_round: 21/100 | test_acc: 98.090% | test_loss: 0.0585 | train_acc: 98.027% | train_loss: 0.0594 | elapsed: 0:00:17.848130\n",
      "\n",
      "\n"
     ]
    },
    {
     "name": "stderr",
     "output_type": "stream",
     "text": [
      "WARNING:absl:Found untraced functions such as _jit_compiled_convolution_op, _jit_compiled_convolution_op while saving (showing 2 of 2). These functions will not be directly callable after loading.\n"
     ]
    },
    {
     "name": "stdout",
     "output_type": "stream",
     "text": [
      "timer start!\n",
      "Conntected with ('172.31.24.39', 57744)\n",
      "Conntected with ('172.31.23.109', 48154)\n",
      "Conntected with ('172.31.26.96', 51384)\n",
      "Conntected with ('172.31.26.38', 60822)\n",
      "Conntected with ('172.31.26.38', 60828)\n",
      "Conntected with ('172.31.26.96', 47920)\n",
      "Conntected with ('172.31.23.109', 37862)\n",
      "Conntected with ('172.31.23.109', 37872)\n",
      "Conntected with ('172.31.26.38', 41454)\n",
      "Conntected with ('172.31.26.96', 47930)\n",
      "TrainingTime: 96.69057083129883 sec\n",
      "1875/1875 [==============================] - 14s 8ms/step\n",
      "313/313 [==============================] - 2s 8ms/step\n",
      "comm_round: 22/100 | test_acc: 97.240% | test_loss: 0.0787 | train_acc: 97.147% | train_loss: 0.0811 | elapsed: 0:00:17.879801\n",
      "\n",
      "\n"
     ]
    },
    {
     "name": "stderr",
     "output_type": "stream",
     "text": [
      "WARNING:absl:Found untraced functions such as _jit_compiled_convolution_op, _jit_compiled_convolution_op while saving (showing 2 of 2). These functions will not be directly callable after loading.\n"
     ]
    },
    {
     "name": "stdout",
     "output_type": "stream",
     "text": [
      "timer start!\n",
      "Conntected with ('172.31.24.39', 53002)\n",
      "Conntected with ('172.31.23.109', 50350)\n",
      "Conntected with ('172.31.26.38', 50376)\n",
      "Conntected with ('172.31.26.38', 50390)\n",
      "Conntected with ('172.31.23.109', 50352)\n",
      "Conntected with ('172.31.26.96', 48260)\n",
      "Conntected with ('172.31.26.96', 48270)\n",
      "Conntected with ('172.31.26.38', 50406)\n",
      "Conntected with ('172.31.26.96', 48284)\n",
      "Conntected with ('172.31.23.109', 50356)\n",
      "TrainingTime: 96.41162061691284 sec\n",
      "1875/1875 [==============================] - 14s 8ms/step\n",
      "313/313 [==============================] - 2s 8ms/step\n",
      "comm_round: 23/100 | test_acc: 98.230% | test_loss: 0.0533 | train_acc: 98.297% | train_loss: 0.0512 | elapsed: 0:00:17.955060\n",
      "\n",
      "\n"
     ]
    },
    {
     "name": "stderr",
     "output_type": "stream",
     "text": [
      "WARNING:absl:Found untraced functions such as _jit_compiled_convolution_op, _jit_compiled_convolution_op while saving (showing 2 of 2). These functions will not be directly callable after loading.\n"
     ]
    },
    {
     "name": "stdout",
     "output_type": "stream",
     "text": [
      "timer start!\n",
      "Conntected with ('172.31.24.39', 55824)\n",
      "Conntected with ('172.31.26.38', 51014)\n",
      "Conntected with ('172.31.23.109', 60552)\n",
      "Conntected with ('172.31.26.96', 57996)\n",
      "Conntected with ('172.31.26.96', 57998)\n",
      "Conntected with ('172.31.26.38', 48482)\n",
      "Conntected with ('172.31.23.109', 36932)\n",
      "Conntected with ('172.31.26.38', 48490)\n",
      "Conntected with ('172.31.26.96', 41956)\n",
      "Conntected with ('172.31.23.109', 36934)\n",
      "TrainingTime: 97.22859191894531 sec\n",
      "1875/1875 [==============================] - 14s 8ms/step\n",
      "313/313 [==============================] - 2s 8ms/step\n",
      "comm_round: 24/100 | test_acc: 98.360% | test_loss: 0.0534 | train_acc: 98.228% | train_loss: 0.0522 | elapsed: 0:00:17.944553\n",
      "\n",
      "\n"
     ]
    },
    {
     "name": "stderr",
     "output_type": "stream",
     "text": [
      "WARNING:absl:Found untraced functions such as _jit_compiled_convolution_op, _jit_compiled_convolution_op while saving (showing 2 of 2). These functions will not be directly callable after loading.\n"
     ]
    },
    {
     "name": "stdout",
     "output_type": "stream",
     "text": [
      "timer start!\n",
      "Conntected with ('172.31.24.39', 46206)\n",
      "Conntected with ('172.31.23.109', 38884)\n",
      "Conntected with ('172.31.26.38', 48338)\n",
      "Conntected with ('172.31.23.109', 38886)\n",
      "Conntected with ('172.31.26.96', 38464)\n",
      "Conntected with ('172.31.26.38', 48342)\n",
      "Conntected with ('172.31.23.109', 38890)\n",
      "Conntected with ('172.31.26.96', 38468)\n",
      "Conntected with ('172.31.26.38', 48348)\n",
      "Conntected with ('172.31.26.96', 38470)\n",
      "TrainingTime: 96.25351810455322 sec\n",
      "1875/1875 [==============================] - 15s 8ms/step\n",
      "313/313 [==============================] - 2s 8ms/step\n",
      "comm_round: 25/100 | test_acc: 98.240% | test_loss: 0.0518 | train_acc: 98.255% | train_loss: 0.0524 | elapsed: 0:00:18.195901\n",
      "\n",
      "\n"
     ]
    },
    {
     "name": "stderr",
     "output_type": "stream",
     "text": [
      "WARNING:absl:Found untraced functions such as _jit_compiled_convolution_op, _jit_compiled_convolution_op while saving (showing 2 of 2). These functions will not be directly callable after loading.\n"
     ]
    },
    {
     "name": "stdout",
     "output_type": "stream",
     "text": [
      "timer start!\n",
      "Conntected with ('172.31.24.39', 51472)\n",
      "Conntected with ('172.31.26.96', 42988)\n",
      "Conntected with ('172.31.23.109', 53250)\n",
      "Conntected with ('172.31.23.109', 48842)\n",
      "Conntected with ('172.31.26.38', 38126)\n",
      "Conntected with ('172.31.26.96', 54750)\n",
      "Conntected with ('172.31.23.109', 48846)\n",
      "Conntected with ('172.31.26.38', 38138)\n",
      "Conntected with ('172.31.26.96', 54756)\n",
      "Conntected with ('172.31.26.38', 38142)\n",
      "TrainingTime: 96.98613739013672 sec\n",
      "1875/1875 [==============================] - 14s 8ms/step\n",
      "313/313 [==============================] - 2s 8ms/step\n",
      "comm_round: 26/100 | test_acc: 98.240% | test_loss: 0.0522 | train_acc: 98.275% | train_loss: 0.051 | elapsed: 0:00:18.151077\n",
      "\n",
      "\n"
     ]
    },
    {
     "name": "stderr",
     "output_type": "stream",
     "text": [
      "WARNING:absl:Found untraced functions such as _jit_compiled_convolution_op, _jit_compiled_convolution_op while saving (showing 2 of 2). These functions will not be directly callable after loading.\n"
     ]
    },
    {
     "name": "stdout",
     "output_type": "stream",
     "text": [
      "timer start!\n",
      "Conntected with ('172.31.24.39', 51736)\n",
      "Conntected with ('172.31.23.109', 43974)\n",
      "Conntected with ('172.31.26.38', 34296)\n",
      "Conntected with ('172.31.26.96', 37818)\n",
      "Conntected with ('172.31.26.96', 37830)\n",
      "Conntected with ('172.31.23.109', 43988)\n",
      "Conntected with ('172.31.26.38', 34310)\n",
      "Conntected with ('172.31.26.38', 34324)\n",
      "Conntected with ('172.31.26.96', 37838)\n",
      "Conntected with ('172.31.23.109', 44000)\n",
      "TrainingTime: 96.79574608802795 sec\n",
      "1875/1875 [==============================] - 23s 12ms/step\n",
      "313/313 [==============================] - 10s 31ms/step\n",
      "comm_round: 27/100 | test_acc: 98.320% | test_loss: 0.0522 | train_acc: 98.348% | train_loss: 0.05 | elapsed: 0:00:34.517645\n",
      "\n",
      "\n"
     ]
    },
    {
     "name": "stderr",
     "output_type": "stream",
     "text": [
      "WARNING:absl:Found untraced functions such as _jit_compiled_convolution_op, _jit_compiled_convolution_op while saving (showing 2 of 2). These functions will not be directly callable after loading.\n"
     ]
    },
    {
     "name": "stdout",
     "output_type": "stream",
     "text": [
      "timer start!\n",
      "Conntected with ('172.31.24.39', 55634)\n",
      "Conntected with ('172.31.23.109', 52946)\n",
      "Conntected with ('172.31.26.96', 54328)\n",
      "Conntected with ('172.31.26.38', 53694)\n",
      "Conntected with ('172.31.23.109', 52960)\n",
      "Conntected with ('172.31.23.109', 52974)\n",
      "Conntected with ('172.31.26.38', 53700)\n",
      "Conntected with ('172.31.26.96', 54334)\n",
      "Conntected with ('172.31.26.38', 53714)\n",
      "Conntected with ('172.31.26.96', 54340)\n",
      "TrainingTime: 282.9335286617279 sec\n",
      "1875/1875 [==============================] - 59s 31ms/step\n",
      "313/313 [==============================] - 10s 31ms/step\n",
      "comm_round: 28/100 | test_acc: 98.270% | test_loss: 0.0517 | train_acc: 98.367% | train_loss: 0.048 | elapsed: 0:01:10.497851\n",
      "\n",
      "\n"
     ]
    },
    {
     "name": "stderr",
     "output_type": "stream",
     "text": [
      "WARNING:absl:Found untraced functions such as _jit_compiled_convolution_op, _jit_compiled_convolution_op while saving (showing 2 of 2). These functions will not be directly callable after loading.\n"
     ]
    },
    {
     "name": "stdout",
     "output_type": "stream",
     "text": [
      "timer start!\n",
      "Conntected with ('172.31.24.39', 48018)\n",
      "Conntected with ('172.31.23.109', 50926)\n",
      "Conntected with ('172.31.26.38', 44960)\n",
      "Conntected with ('172.31.23.109', 50938)\n",
      "Conntected with ('172.31.26.38', 44970)\n",
      "Conntected with ('172.31.23.109', 50942)\n",
      "Conntected with ('172.31.26.38', 44976)\n",
      "Conntected with ('172.31.26.96', 36292)\n",
      "Conntected with ('172.31.26.96', 36294)\n",
      "Conntected with ('172.31.26.96', 35040)\n",
      "TrainingTime: 287.38916659355164 sec\n",
      "1875/1875 [==============================] - 58s 31ms/step\n",
      "313/313 [==============================] - 2s 8ms/step\n",
      "comm_round: 29/100 | test_acc: 97.820% | test_loss: 0.0663 | train_acc: 97.880% | train_loss: 0.0633 | elapsed: 0:01:02.054289\n",
      "\n",
      "\n"
     ]
    },
    {
     "name": "stderr",
     "output_type": "stream",
     "text": [
      "WARNING:absl:Found untraced functions such as _jit_compiled_convolution_op, _jit_compiled_convolution_op while saving (showing 2 of 2). These functions will not be directly callable after loading.\n"
     ]
    },
    {
     "name": "stdout",
     "output_type": "stream",
     "text": [
      "timer start!\n",
      "Conntected with ('172.31.24.39', 49430)\n",
      "Conntected with ('172.31.26.38', 43866)\n",
      "Conntected with ('172.31.23.109', 60928)\n",
      "Conntected with ('172.31.23.109', 60932)\n",
      "Conntected with ('172.31.26.38', 43874)\n",
      "Conntected with ('172.31.26.38', 51298)\n",
      "Conntected with ('172.31.23.109', 46180)\n",
      "Conntected with ('172.31.26.96', 42790)\n",
      "Conntected with ('172.31.26.96', 41338)\n",
      "Conntected with ('172.31.26.96', 54446)\n",
      "TrainingTime: 276.99858927726746 sec\n",
      "1875/1875 [==============================] - 28s 15ms/step\n",
      "313/313 [==============================] - 2s 8ms/step\n",
      "comm_round: 30/100 | test_acc: 98.400% | test_loss: 0.0486 | train_acc: 98.567% | train_loss: 0.0435 | elapsed: 0:00:32.128488\n",
      "\n",
      "\n"
     ]
    },
    {
     "name": "stderr",
     "output_type": "stream",
     "text": [
      "WARNING:absl:Found untraced functions such as _jit_compiled_convolution_op, _jit_compiled_convolution_op while saving (showing 2 of 2). These functions will not be directly callable after loading.\n"
     ]
    },
    {
     "name": "stdout",
     "output_type": "stream",
     "text": [
      "timer start!\n",
      "Conntected with ('172.31.24.39', 49510)\n",
      "Conntected with ('172.31.23.109', 42536)\n",
      "Conntected with ('172.31.26.38', 51672)\n",
      "Conntected with ('172.31.23.109', 42538)\n",
      "Conntected with ('172.31.23.109', 33494)\n",
      "Conntected with ('172.31.26.38', 52330)\n",
      "Conntected with ('172.31.26.38', 52334)\n",
      "Conntected with ('172.31.26.96', 54842)\n",
      "Conntected with ('172.31.26.96', 48678)\n",
      "Conntected with ('172.31.26.96', 54106)\n",
      "TrainingTime: 293.0154411792755 sec\n",
      "1875/1875 [==============================] - 14s 8ms/step\n",
      "313/313 [==============================] - 2s 8ms/step\n",
      "comm_round: 31/100 | test_acc: 98.450% | test_loss: 0.0482 | train_acc: 98.573% | train_loss: 0.0431 | elapsed: 0:00:18.112338\n",
      "\n",
      "\n"
     ]
    },
    {
     "name": "stderr",
     "output_type": "stream",
     "text": [
      "WARNING:absl:Found untraced functions such as _jit_compiled_convolution_op, _jit_compiled_convolution_op while saving (showing 2 of 2). These functions will not be directly callable after loading.\n"
     ]
    },
    {
     "name": "stdout",
     "output_type": "stream",
     "text": [
      "timer start!\n",
      "Conntected with ('172.31.24.39', 56552)\n",
      "Conntected with ('172.31.23.109', 33496)\n",
      "Conntected with ('172.31.23.109', 33510)\n",
      "Conntected with ('172.31.26.38', 57022)\n",
      "Conntected with ('172.31.26.38', 57030)\n",
      "Conntected with ('172.31.23.109', 33516)\n",
      "Conntected with ('172.31.26.38', 55814)\n",
      "Conntected with ('172.31.26.96', 59588)\n",
      "Conntected with ('172.31.26.96', 53308)\n",
      "Conntected with ('172.31.26.96', 53316)\n",
      "TrainingTime: 292.7904863357544 sec\n",
      "1875/1875 [==============================] - 14s 8ms/step\n",
      "313/313 [==============================] - 2s 8ms/step\n",
      "comm_round: 32/100 | test_acc: 98.450% | test_loss: 0.0492 | train_acc: 98.540% | train_loss: 0.0444 | elapsed: 0:00:18.152330\n",
      "\n",
      "\n"
     ]
    },
    {
     "name": "stderr",
     "output_type": "stream",
     "text": [
      "WARNING:absl:Found untraced functions such as _jit_compiled_convolution_op, _jit_compiled_convolution_op while saving (showing 2 of 2). These functions will not be directly callable after loading.\n"
     ]
    },
    {
     "name": "stdout",
     "output_type": "stream",
     "text": [
      "timer start!\n",
      "Conntected with ('172.31.24.39', 45676)\n",
      "Conntected with ('172.31.26.38', 58072)\n",
      "Conntected with ('172.31.23.109', 35322)\n",
      "Conntected with ('172.31.26.38', 50338)\n",
      "Conntected with ('172.31.23.109', 39860)\n",
      "Conntected with ('172.31.26.38', 50340)\n",
      "Conntected with ('172.31.23.109', 39866)\n",
      "Conntected with ('172.31.26.96', 54122)\n",
      "Conntected with ('172.31.26.96', 54138)\n",
      "Conntected with ('172.31.26.96', 54148)\n",
      "TrainingTime: 294.4372627735138 sec\n",
      "1875/1875 [==============================] - 15s 8ms/step\n",
      "313/313 [==============================] - 3s 10ms/step\n",
      "comm_round: 33/100 | test_acc: 98.340% | test_loss: 0.0499 | train_acc: 98.458% | train_loss: 0.046 | elapsed: 0:00:19.234332\n",
      "\n",
      "\n"
     ]
    },
    {
     "name": "stderr",
     "output_type": "stream",
     "text": [
      "WARNING:absl:Found untraced functions such as _jit_compiled_convolution_op, _jit_compiled_convolution_op while saving (showing 2 of 2). These functions will not be directly callable after loading.\n"
     ]
    },
    {
     "name": "stdout",
     "output_type": "stream",
     "text": [
      "timer start!\n",
      "Conntected with ('172.31.24.39', 58510)\n",
      "Conntected with ('172.31.26.38', 36100)\n",
      "Conntected with ('172.31.23.109', 59718)\n",
      "Conntected with ('172.31.26.38', 36108)\n",
      "Conntected with ('172.31.23.109', 59724)\n",
      "Conntected with ('172.31.26.38', 36114)\n",
      "Conntected with ('172.31.23.109', 59736)\n",
      "Conntected with ('172.31.26.96', 44768)\n",
      "Conntected with ('172.31.26.96', 50822)\n",
      "Conntected with ('172.31.26.96', 42848)\n",
      "TrainingTime: 292.00776743888855 sec\n",
      "1875/1875 [==============================] - 50s 27ms/step\n",
      "313/313 [==============================] - 10s 31ms/step\n",
      "comm_round: 34/100 | test_acc: 98.460% | test_loss: 0.0478 | train_acc: 98.632% | train_loss: 0.0407 | elapsed: 0:01:01.866038\n",
      "\n",
      "\n"
     ]
    },
    {
     "name": "stderr",
     "output_type": "stream",
     "text": [
      "WARNING:absl:Found untraced functions such as _jit_compiled_convolution_op, _jit_compiled_convolution_op while saving (showing 2 of 2). These functions will not be directly callable after loading.\n"
     ]
    },
    {
     "name": "stdout",
     "output_type": "stream",
     "text": [
      "timer start!\n",
      "Conntected with ('172.31.24.39', 46900)\n",
      "Conntected with ('172.31.26.38', 36948)\n",
      "Conntected with ('172.31.23.109', 60656)\n",
      "Conntected with ('172.31.23.109', 60662)\n",
      "Conntected with ('172.31.26.38', 36956)\n",
      "Conntected with ('172.31.23.109', 60666)\n",
      "Conntected with ('172.31.26.38', 36962)\n",
      "Conntected with ('172.31.26.96', 51794)\n",
      "Conntected with ('172.31.26.96', 51804)\n",
      "Conntected with ('172.31.26.96', 48376)\n",
      "TrainingTime: 270.45665884017944 sec\n",
      "1875/1875 [==============================] - 59s 31ms/step\n",
      "313/313 [==============================] - 10s 31ms/step\n",
      "comm_round: 35/100 | test_acc: 98.570% | test_loss: 0.0449 | train_acc: 98.715% | train_loss: 0.037 | elapsed: 0:01:10.383458\n",
      "\n",
      "\n"
     ]
    },
    {
     "name": "stderr",
     "output_type": "stream",
     "text": [
      "WARNING:absl:Found untraced functions such as _jit_compiled_convolution_op, _jit_compiled_convolution_op while saving (showing 2 of 2). These functions will not be directly callable after loading.\n"
     ]
    },
    {
     "name": "stdout",
     "output_type": "stream",
     "text": [
      "timer start!\n",
      "Conntected with ('172.31.24.39', 49090)\n",
      "Conntected with ('172.31.26.38', 53340)\n",
      "Conntected with ('172.31.23.109', 37648)\n",
      "Conntected with ('172.31.26.38', 53878)\n",
      "Conntected with ('172.31.23.109', 37650)\n",
      "Conntected with ('172.31.23.109', 37654)\n",
      "Conntected with ('172.31.26.38', 53890)\n",
      "Conntected with ('172.31.26.96', 35094)\n",
      "Conntected with ('172.31.26.96', 35108)\n",
      "Conntected with ('172.31.26.96', 49078)\n",
      "TrainingTime: 277.59100246429443 sec\n",
      "1875/1875 [==============================] - 59s 31ms/step\n",
      "313/313 [==============================] - 10s 32ms/step\n",
      "comm_round: 36/100 | test_acc: 98.510% | test_loss: 0.0454 | train_acc: 98.730% | train_loss: 0.0375 | elapsed: 0:01:10.564137\n",
      "\n",
      "\n"
     ]
    },
    {
     "name": "stderr",
     "output_type": "stream",
     "text": [
      "WARNING:absl:Found untraced functions such as _jit_compiled_convolution_op, _jit_compiled_convolution_op while saving (showing 2 of 2). These functions will not be directly callable after loading.\n"
     ]
    },
    {
     "name": "stdout",
     "output_type": "stream",
     "text": [
      "timer start!\n",
      "Conntected with ('172.31.24.39', 33714)\n",
      "Conntected with ('172.31.26.38', 36504)\n",
      "Conntected with ('172.31.23.109', 36616)\n",
      "Conntected with ('172.31.26.38', 36520)\n",
      "Conntected with ('172.31.23.109', 36632)\n",
      "Conntected with ('172.31.23.109', 36646)\n",
      "Conntected with ('172.31.26.38', 36528)\n",
      "Conntected with ('172.31.26.96', 46752)\n",
      "Conntected with ('172.31.26.96', 46768)\n",
      "Conntected with ('172.31.26.96', 46776)\n",
      "TrainingTime: 300.65967559814453 sec\n",
      "1875/1875 [==============================] - 59s 31ms/step\n",
      "313/313 [==============================] - 10s 32ms/step\n",
      "comm_round: 37/100 | test_acc: 98.500% | test_loss: 0.0476 | train_acc: 98.612% | train_loss: 0.0409 | elapsed: 0:01:10.653892\n",
      "\n",
      "\n"
     ]
    },
    {
     "name": "stderr",
     "output_type": "stream",
     "text": [
      "WARNING:absl:Found untraced functions such as _jit_compiled_convolution_op, _jit_compiled_convolution_op while saving (showing 2 of 2). These functions will not be directly callable after loading.\n"
     ]
    },
    {
     "name": "stdout",
     "output_type": "stream",
     "text": [
      "timer start!\n",
      "Conntected with ('172.31.24.39', 34852)\n",
      "Conntected with ('172.31.26.38', 40034)\n",
      "Conntected with ('172.31.23.109', 53234)\n",
      "Conntected with ('172.31.26.38', 40572)\n",
      "Conntected with ('172.31.23.109', 53236)\n",
      "Conntected with ('172.31.23.109', 53250)\n",
      "Conntected with ('172.31.26.38', 40588)\n",
      "Conntected with ('172.31.26.96', 58772)\n",
      "Conntected with ('172.31.26.96', 35246)\n",
      "Conntected with ('172.31.26.96', 58516)\n"
     ]
    }
   ],
   "source": [
    "loss='categorical_crossentropy'\n",
    "metrics = ['accuracy']\n",
    "cce = tf.keras.losses.CategoricalCrossentropy()\n",
    "\n",
    "result_per_lr = {}\n",
    "start = time.time()\n",
    "\n",
    "dir = ''\n",
    "    \n",
    "for lr in lrs:\n",
    "    train_losses = []\n",
    "    train_accs = []\n",
    "    test_losses = []\n",
    "    test_accs = []\n",
    "    \n",
    "    print('\\nlearning rate: {}'.format(lr))\n",
    "    \n",
    "    for r in range(rounds):\n",
    "        train_loss = 0\n",
    "        train_acc = 0\n",
    "        test_loss = 0\n",
    "        test_acc = 0\n",
    "        \n",
    "        run_thread(receive, num_users, r)\n",
    "    \n",
    "        # evaluate current round\n",
    "        start = time.time()\n",
    "        global_model.set_weights(global_weights)\n",
    "        \n",
    "        # test global model on full training set\n",
    "        for (X,y) in train_batched:\n",
    "            preds = global_model.predict(X)\n",
    "            train_loss = cce(y, preds)\n",
    "            train_acc = accuracy_score(tf.argmax(preds, axis=1), tf.argmax(y, axis=1))\n",
    "            train_losses.append(train_loss.numpy())\n",
    "            train_accs.append(train_acc)\n",
    "\n",
    "        # test global model on testing set\n",
    "        for(X, y) in test_batched:\n",
    "            preds = global_model.predict(X)\n",
    "            test_loss = cce(y, preds)\n",
    "            test_acc = accuracy_score(tf.argmax(preds, axis=1), tf.argmax(y, axis=1))\n",
    "            test_losses.append(test_loss.numpy())\n",
    "            test_accs.append(test_acc)\n",
    "\n",
    "        elapsed = (time.time() - start)\n",
    "\n",
    "        print('comm_round: {}/{} | test_acc: {:.3%} | test_loss: {:.3} | train_acc: {:.3%} | train_loss: {:.3} | elapsed: {}'.format(r+1, rounds, test_acc, test_loss, train_acc, train_loss, timedelta(seconds=elapsed)))\n",
    "        print('\\n')\n",
    "        global_model.save('saved_model/global_model')\n",
    "        \n",
    "    result_per_lr[lr] = {\n",
    "        'train_accs' : train_accs,\n",
    "        'test_accs' : test_accs,\n",
    "        'train_losses' : train_losses,\n",
    "        'test_losses' : test_losses\n",
    "                          }\n",
    "    \n",
    "    "
   ]
  },
  {
   "cell_type": "code",
   "execution_count": null,
   "id": "710c7465",
   "metadata": {},
   "outputs": [],
   "source": [
    "with open(dir+'result_per_lr_{}_{}_{}_{}.pickle'.format(B,C,E, lr), 'wb') as handle:\n",
    "    pickle.dump(result_per_lr, handle, protocol=pickle.HIGHEST_PROTOCOL)"
   ]
  },
  {
   "cell_type": "code",
   "execution_count": null,
   "id": "815fcd4c",
   "metadata": {},
   "outputs": [],
   "source": [
    "def get_plotted_metrics(result_per_lr, c_rounds):\n",
    "    plotted_train_accs= []\n",
    "    plotted_test_accs = []\n",
    "    plotted_train_losses = []\n",
    "    plotted_test_losses = []\n",
    "\n",
    "    for c in range(c_rounds):\n",
    "        best_train_acc = 0\n",
    "        best_test_acc = 0\n",
    "        best_train_loss = math.inf\n",
    "        best_test_loss = math.inf\n",
    "        for lr in result_per_lr.keys():\n",
    "            best_train_acc = max(best_train_acc, result_per_lr[lr]['train_accs'][c])\n",
    "            best_test_acc = max(best_test_acc, result_per_lr[lr]['test_accs'][c])\n",
    "            best_train_loss = min(best_train_loss, result_per_lr[lr]['train_losses'][c])\n",
    "            best_test_loss = min(best_test_loss, result_per_lr[lr]['test_losses'][c])\n",
    "\n",
    "    if c == 0:\n",
    "        plotted_train_accs.append(best_train_acc)\n",
    "        plotted_test_accs.append(best_test_acc)\n",
    "        plotted_train_losses.append(best_train_loss)\n",
    "        plotted_test_losses.append(best_test_loss)\n",
    "    else:\n",
    "        if plotted_train_accs[-1] > best_train_acc:\n",
    "            plotted_train_accs.append(plotted_train_accs[-1])\n",
    "        else:\n",
    "            plotted_train_accs.append(best_train_acc)\n",
    "\n",
    "        if plotted_test_accs[-1] > best_test_acc:\n",
    "            plotted_test_accs.append(plotted_test_accs[-1])\n",
    "        else:\n",
    "            plotted_test_accs.append(best_test_acc)\n",
    "\n",
    "        if plotted_train_losses[-1] < best_train_loss:\n",
    "            plotted_train_losses.append(plotted_train_losses[-1])\n",
    "        else:\n",
    "            plotted_train_losses.append(best_train_loss)\n",
    "\n",
    "        if plotted_test_losses[-1] < best_test_loss:\n",
    "            plotted_test_losses.append(plotted_test_losses[-1])\n",
    "        else:\n",
    "            plotted_test_losses.append(best_test_loss)\n",
    "    \n",
    "    return plotted_train_accs, plotted_test_accs, plotted_train_losses, plotted_test_losses"
   ]
  },
  {
   "cell_type": "code",
   "execution_count": null,
   "id": "3938802d",
   "metadata": {},
   "outputs": [],
   "source": [
    "plotted_train_accs, plotted_test_accs, plotted_train_losses, plotted_test_losses = get_plotted_metrics(result_per_lr, c_rounds)"
   ]
  },
  {
   "cell_type": "code",
   "execution_count": null,
   "id": "b500c2d6",
   "metadata": {},
   "outputs": [],
   "source": [
    "fig, ax = plt.subplots()\n",
    "ax.plot(range(1, len(plotted_train_accs)+1), plotted_train_accs, label='train')\n",
    "ax.plot(range(1,len(plotted_test_accs)+1), plotted_test_accs, label='test')\n",
    "ax.set_xticks(np.arange(0, len(plotted_test_accs)+1, 100))\n",
    "ax.axhline(y=target_test_acc, color='grey', linestyle='-', linewidth=0.5)\n",
    "ax.set_ylabel('accuracy')\n",
    "\n",
    "ax.set_xlabel('communication rounds')\n",
    "ax.set_title('B={}, C={}, E={}, Model={}, Data={}'.format(B, C, E, MODEL, DATA))\n",
    "ax.legend()\n",
    "\n",
    "ax2 = ax.twinx()\n",
    "ax2.set_ylim(ax.get_ylim())\n",
    "ax2.set_yticks([target_test_acc])\n",
    "\n",
    "plt.show()"
   ]
  },
  {
   "cell_type": "code",
   "execution_count": null,
   "id": "47ba3a1e",
   "metadata": {},
   "outputs": [],
   "source": [
    "n_round_at_target = None\n",
    "for i,acc in enumerate(plotted_test_accs):\n",
    "    if acc>=target_test_acc:\n",
    "        print(\"the number of rounds to achieve target test-accuracy: \")\n",
    "        n_round_at_target = i+1\n",
    "        print(n_round_at_target)\n",
    "        break;"
   ]
  },
  {
   "cell_type": "code",
   "execution_count": null,
   "id": "fb111f45",
   "metadata": {},
   "outputs": [],
   "source": [
    "loss_at_target = None\n",
    "for i,loss in enumerate(plotted_test_losses):\n",
    "    if n_round_at_target and i==n_round_at_target-1:\n",
    "        print(\"loss at target test-accuracy: \")\n",
    "        loss_at_target = loss\n",
    "        print(loss_at_target)\n",
    "        break;"
   ]
  },
  {
   "cell_type": "code",
   "execution_count": null,
   "id": "c7507fda",
   "metadata": {},
   "outputs": [],
   "source": [
    "# end_time = time.time()  # store end time\n",
    "# print(\"TrainingTime: {} sec\".format(end_time - start_time))"
   ]
  },
  {
   "cell_type": "code",
   "execution_count": null,
   "id": "0a945034",
   "metadata": {},
   "outputs": [],
   "source": []
  },
  {
   "cell_type": "code",
   "execution_count": null,
   "id": "f07fcab9",
   "metadata": {},
   "outputs": [],
   "source": [
    "end_time = time.time()  # store end time\n",
    "print(\"WorkingTime: {} sec\".format(end_time - start_time))"
   ]
  }
 ],
 "metadata": {
  "kernelspec": {
   "display_name": "Python 3 (ipykernel)",
   "language": "python",
   "name": "python3"
  },
  "language_info": {
   "codemirror_mode": {
    "name": "ipython",
    "version": 3
   },
   "file_extension": ".py",
   "mimetype": "text/x-python",
   "name": "python",
   "nbconvert_exporter": "python",
   "pygments_lexer": "ipython3",
   "version": "3.10.10"
  }
 },
 "nbformat": 4,
 "nbformat_minor": 5
}
